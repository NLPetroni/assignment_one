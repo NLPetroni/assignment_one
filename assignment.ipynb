{
  "cells": [
    {
      "cell_type": "markdown",
      "metadata": {
        "id": "-WeCeITXoxLf"
      },
      "source": [
        "# Assignment 1\n",
        "\n",
        "**Due to**: 23/12/2021 (dd/mm/yyyy)\n",
        "\n",
        "**Credits**: Andrea Galassi, Federico Ruggeri, Paolo Torroni\n",
        "\n",
        "**Summary**: Part-of Speech (POS) tagging as Sequence Labelling using Recurrent Neural Architectures"
      ]
    },
    {
      "cell_type": "markdown",
      "metadata": {
        "id": "a4_wqPdlBcKS"
      },
      "source": [
        "# Intro\n",
        "\n",
        "In this assignment  we will ask you to perform POS tagging using neural architectures\n",
        "\n",
        "You are asked to follow these steps:\n",
        "*   Download the corpora and split it in training and test sets, structuring a dataframe.\n",
        "*   Embed the words using GloVe embeddings\n",
        "*   Create a baseline model, using a simple neural architecture\n",
        "*   Experiment doing small modifications to the baseline model, choose hyperparameters using the validation set\n",
        "*   Evaluate your two best model\n",
        "*   Analyze the errors of your model\n",
        "\n",
        "\n",
        "**Task**: given a corpus of documents, predict the POS tag for each word\n",
        "\n",
        "**Corpus**:\n",
        "Ignore the numeric value in the third column, use only the words/symbols and its label. \n",
        "The corpus is available at:\n",
        "https://raw.githubusercontent.com/nltk/nltk_data/gh-pages/packages/corpora/dependency_treebank.zip\n",
        "\n",
        "**Splits**: documents 1-100 are the train set, 101-150 validation set, 151-199 test set.\n",
        "\n",
        "\n",
        "**Features**: you MUST use GloVe embeddings as the only input features to the model.\n",
        "\n",
        "**Splitting**: you can decide to split documents into sentences or not, the choice is yours.\n",
        "\n",
        "**I/O structure**: The input data will have three dimensions: 1-documents/sentences, 2-token, 3-features; for the output there are 2 possibilities: if you use one-hot encoding it will be 1-documents/sentences, 2-token labels, 3-classes, if you use a single integer that indicates the number of the class it will be 1-documents/sentences, 2-token labels.\n",
        "\n",
        "**Baseline**: two layers architecture: a Bidirectional LSTM layer and a Dense/Fully-Connected layer on top; the choice of hyper-parameters is yours.\n",
        "\n",
        "**Architectures**: experiment using a GRU instead of the LSTM, adding an additional LSTM layer, and adding an additional dense layer; do not mix these variantions.\n",
        "\n",
        "\n",
        "**Training and Experiments**: all the experiments must involve only the training and validation sets.\n",
        "\n",
        "**Evaluation**: in the end, only the two best models of your choice (according to the validation set) must be evaluated on the test set. The main metric must be F1-Macro computed between the various part of speech. DO NOT CONSIDER THE PUNCTUATION CLASSES.\n",
        "\n",
        "**Metrics**: the metric you must use to evaluate your final model is the F1-macro, WITHOUT considering punctuation/symbols classes; during the training process you can use accuracy because you can't use the F1 metric unless you use a single (gigantic) batch because there is no way to aggregate \"partial\" F1 scores computed on mini-batches.\n",
        "\n",
        "**Discussion and Error Analysis** : verify and discuss if the results on the test sets are coherent with those on the validation set; analyze the errors done by your model, try to understand which may be the causes and think about how to improve it.\n",
        "\n",
        "**Report**: you are asked to deliver the code of your experiments and a small pdf report of about 2 pages; the pdf must begin with the names of the people of your team and a small abstract (4-5 lines) that sums up your findings.\n",
        "\n",
        "# Out Of Vocabulary (OOV) terms\n",
        "\n",
        "How to handle words that are not in GloVe vocabulary?\n",
        "You can handle them as you want (random embedding, placeholder, whatever!), but they must be STATIC embeddings (you cannot train them).\n",
        "\n",
        "But there is a very important caveat! As usual, the element of the test set must not influence the elements of the other splits!\n",
        "\n",
        "So, when you compute new embeddings for train+validation, you must forget about test documents.\n",
        "The motivation is to emulate a real-world scenario, where you select and train a model in the first stage, without knowing nothing about the testing environment.\n",
        "\n",
        "For implementation convenience, you CAN use a single vocabulary file/matrix/whatever. The principle of the previous point is that the embeddings inside that file/matrix must be generated independently for train and test splits.\n",
        "\n",
        "Basically in a real-world scenario, this is what would happen:\n",
        "1. Starting vocabulary V1 (in this assignment, GloVe vocabulary)\n",
        "2. Compute embeddings for terms out of vocabulary V1 (OOV1) of the training split \n",
        "3. Add embeddings to the vocabulary, so to obtain vocabulary V2=V1+OOV1\n",
        "4. Training of the model(s)\n",
        "5. Compute embeddings for terms OOV2 of the validation split \n",
        "6. Add embeddings to the vocabulary, so to obtain vocabulary V3=V1+OOV1+OOV2\n",
        "7. Validation of the model(s)\n",
        "8. Compute embeddings for terms OOV3 of the test split \n",
        "9. Add embeddings to the vocabulary, so to obtain vocabulary V4=V1+OOV1+OOV2+OOV3\n",
        "10. Testing of the final model\n",
        "\n",
        "In this case, where we already have all the documents, we can simplify the process a bit, but the procedure must remain rigorous.\n",
        "\n",
        "1. Starting vocabulary V1 (in this assignment, GloVe vocabulary)\n",
        "2. Compute embeddings for terms out of vocabulary V1 (OOV1) of the training split \n",
        "3. Add embeddings to the vocabulary, so to obtain vocabulary V2=V1+OOV1\n",
        "4. Compute embeddings for terms OOV2 of the validation split \n",
        "5. Add embeddings to the vocabulary, so to obtain vocabulary V3=V1+OOV1+OOV2\n",
        "6. Compute embeddings for terms OOV3 of the test split \n",
        "7. Add embeddings to the vocabulary, so to obtain vocabulary V4=V1+OOV1+OOV2\n",
        "8. Training of the model(s)\n",
        "9. Validation of the model(s)\n",
        "10. Testing of the final model\n",
        "\n",
        "Step 2 and step 6 must be completely independent of each other, for what concerns the method and the documents. But they can rely on the previous vocabulary (V1 for step 2 and V3 for step 6)\n",
        "THEREFORE if a word is present both in the training set and the test split and not in the starting vocabulary, its embedding is computed in step 2) and it is not considered OOV anymore in step 6).\n",
        "\n",
        "# Report\n",
        "The report must not be just a copy and paste of graphs and tables!\n",
        "\n",
        "The report must not be longer than 2 pages and must contain:\n",
        "* The names of the member of your team\n",
        "* A short abstract (4-5 lines) that sum ups everything\n",
        "* A general description of the task you have addressed and how you have addressed it\n",
        "* A short description of the models you have used\n",
        "* Some tables that sum up your findings in validation and test and a discussion of those results\n",
        "* The most relevant findings of your error analysis\n",
        "\n",
        "# Evaluation Criterion\n",
        "\n",
        "The goal of this assignment is not to prove you can find best model ever, but to face a common task, structure it correctly, and follow a correct and rigorous experimental procedure.\n",
        "In other words, we don't care if you final models are awful as long as you have followed the correct procedure and wrote a decent report.\n",
        "\n",
        "The score of the assignment will be computed roughly as follows\n",
        "* 1 point for the general setting of the problem\n",
        "* 1 point for the handling of OOV terms\n",
        "* 1 point for the models\n",
        "* 1 point for train-validation-test procedure\n",
        "* 2 point for the discussion of the results, error analysis, and report\n",
        "\n",
        "This distribution of scores is tentative and we may decide to alter it at any moment.\n",
        "We also reserve the right to assign a small bonus (0.5 points) to any assignment that is particularly worthy. Similarly, in case of grave errors, we may decide to assign an equivalent malus (-0.5 points).\n",
        "\n",
        "# Contacts\n",
        "\n",
        "In case of any doubt, question, issue, or help we highly recommend you to check the [course useful material](https://virtuale.unibo.it/pluginfile.php/1036039/mod_resource/content/2/NLP_Course_Useful_Material.pdf) for additional information, and to use the Virtuale forums to discuss with other students.\n",
        "\n",
        "You can always contact us at the following email addresses. To increase the probability of a prompt response, we reccomend you to write to both the teaching assistants.\n",
        "\n",
        "Teaching Assistants:\n",
        "\n",
        "* Andrea Galassi -> a.galassi@unibo.it\n",
        "* Federico Ruggeri -> federico.ruggeri6@unibo.it\n",
        "\n",
        "Professor:\n",
        "\n",
        "* Paolo Torroni -> p.torroni@unibo.it\n",
        "\n",
        "\n",
        "# FAQ\n",
        "* You can use a non-trainable Embedding layer to load the glove embeddings\n",
        "* You can use any library of your choice to implement the networks. Two options are tensorflow/keras or pythorch. Both these libraries have all the classes you need to implement these simple architectures and there are plenty of tutorials around, where you can learn how to use them."
      ]
    },
    {
      "cell_type": "code",
      "execution_count": 1,
      "metadata": {
        "id": "ukrm06vhq4p-"
      },
      "outputs": [],
      "source": [
        "# ! pip install wandb # colab only\n",
        "\n",
        "import math\n",
        "from collections import defaultdict, OrderedDict\n",
        "import numpy as np\n",
        "import torch\n",
        "from torch import nn\n",
        "from torchinfo import summary\n",
        "import wandb\n",
        "import config as cfg\n",
        "\n",
        "def download_and_unzip(url, save_dir='.'):\n",
        "  # downloads and unzips url, if not already downloaded\n",
        "  import os\n",
        "  from urllib.request import urlopen\n",
        "  from io import BytesIO\n",
        "  from zipfile import ZipFile\n",
        "  fname = url.split('/')[-1][:-4] if save_dir == '.' else save_dir\n",
        "  if fname not in os.listdir():\n",
        "    print(f'downloading and unzipping {fname}...', end=' ')\n",
        "    r = urlopen(url)\n",
        "    zipf = ZipFile(BytesIO(r.read()))\n",
        "    zipf.extractall(path=save_dir)\n",
        "    print(f'completed')\n",
        "  else:\n",
        "    print(f'{fname} already downloaded')\n",
        "\n",
        "device = torch.device('cuda') if torch.cuda.is_available() else torch.device('cpu')"
      ]
    },
    {
      "cell_type": "markdown",
      "metadata": {
        "id": "2VV-Hx1HBPVQ"
      },
      "source": [
        "# GLOVE EMBEDDINGS\n",
        "\n",
        "OOV: average of all words/subset of words https://groups.google.com/g/globalvectors/c/9w8ZADXJclA/m/hRdn4prm-XUJ"
      ]
    },
    {
      "cell_type": "code",
      "execution_count": 2,
      "metadata": {
        "colab": {
          "base_uri": "https://localhost:8080/"
        },
        "id": "_SVR6TGJBOrR",
        "outputId": "6fe979a3-0d8c-4f6e-d72b-1680379bed29"
      },
      "outputs": [],
      "source": [
        "n_tokens = 400000 + 2 # glove vocabulary size + UNK + PAD\n",
        "\n",
        "def get_glove(emb_size=100):\n",
        "  \"\"\"\n",
        "    Download and load glove embeddings. \n",
        "    Parameters:\n",
        "      size: embedding size (50/100/200/300-dimensional vectors).    \n",
        "    Returns keras Embedding layer.  \n",
        "  \"\"\"\n",
        "  if emb_size not in (50, 100, 200, 300):\n",
        "    raise ValueError(f'wrong size parameter: {emb_size}')\n",
        "  \n",
        "  download_and_unzip('http://nlp.stanford.edu/data/glove.6B.zip', save_dir='glove')\n",
        "  vocabulary = defaultdict(lambda: n_tokens - 1) # when word not present, it's UNK\n",
        "  embedding_matrix = np.ones((n_tokens, emb_size))\n",
        "\n",
        "  with open(f'glove/glove.6B.{emb_size}d.txt') as f:\n",
        "    for i, line in enumerate(f):\n",
        "        word, coefs = line.split(maxsplit=1)\n",
        "        coefs = np.fromstring(coefs, \"f\", sep=\" \")\n",
        "        embedding_matrix[i] = coefs\n",
        "        vocabulary[word] = i\n",
        "  \n",
        "  # add embedding for OOV terms and padding\n",
        "  embedding_matrix[n_tokens - 2] = embedding_matrix.mean(axis=0)\n",
        "  embedding_matrix[n_tokens - 1] = 0\n",
        "  vocabulary['<UNK>'] = n_tokens - 2\n",
        "  vocabulary['<PAD>'] = n_tokens - 1\n",
        "\n",
        "  return vocabulary, embedding_matrix"
      ]
    },
    {
      "cell_type": "markdown",
      "metadata": {
        "id": "Py0UzmrOBEmm"
      },
      "source": [
        "# DATA PREPROCESSING"
      ]
    },
    {
      "cell_type": "code",
      "execution_count": 3,
      "metadata": {},
      "outputs": [],
      "source": [
        "class Dataset(torch.utils.data.Dataset):\n",
        "    def __init__(self, inputs, labels):\n",
        "        self.inputs = inputs\n",
        "        self.labels = labels\n",
        "    def __getitem__(self, idx):\n",
        "        return self.inputs[idx], self.labels[idx]\n",
        "    def __len__(self):\n",
        "        return self.inputs.shape[0]"
      ]
    },
    {
      "cell_type": "code",
      "execution_count": 4,
      "metadata": {
        "id": "HMgDvLxOmK9n"
      },
      "outputs": [],
      "source": [
        "def load_data(start, end, start_voc, class2idx,\n",
        "              drop_punctuation=True, split_docs=True, ret_counts=False):\n",
        "  \"\"\"\n",
        "    Downloads dataset and preprocess data.\n",
        "    Params:\n",
        "      start: \n",
        "      end: \n",
        "      start_voc:\n",
        "      classes:\n",
        "      drop_punctuation:\n",
        "      split_docs:\n",
        "      ret_counts:\n",
        "    Returns \n",
        "  \"\"\"\n",
        "  # download dataset\n",
        "  download_and_unzip('https://raw.githubusercontent.com/nltk/nltk_data/gh-pages/packages/corpora/dependency_treebank.zip')\n",
        "  \n",
        "  inputs, labels = [], []\n",
        "  vocabulary = set()\n",
        "  counts = defaultdict(int)\n",
        "  max_seq_len = 0\n",
        "  \n",
        "  # build dataset\n",
        "  for doc in range(start, end+1):\n",
        "    with open(f'dependency_treebank/wsj_{doc:04d}.dp') as f:\n",
        "      \n",
        "      input_seq, label_seq = [], []\n",
        "      \n",
        "      for line in f:\n",
        "        if line.strip(): # check for empty lines\n",
        "          word, label, _ = line.split('\\t')\n",
        "          word = word.lower()\n",
        "          if not drop_punctuation or label.isalpha(): # eventually drop punctuation\n",
        "            vocabulary.add(word)\n",
        "            input_seq.append(word)\n",
        "            label_seq.append(label)\n",
        "            counts[word] += 1\n",
        "        elif split_docs: # sentence over, add to input if splitting documents\n",
        "          max_seq_len = max(max_seq_len, len(input_seq))\n",
        "          inputs.append(input_seq)\n",
        "          labels.append(label_seq)\n",
        "          input_seq, label_seq = [], []\n",
        "\n",
        "      max_seq_len = max(max_seq_len, len(input_seq))\n",
        "      inputs.append(input_seq)\n",
        "      labels.append(label_seq)\n",
        "  \n",
        "  for i_seq, l_seq in zip(inputs, labels):\n",
        "    i_seq += ['<PAD>'] * (max_seq_len - len(i_seq))\n",
        "    l_seq += ['<PAD>'] * (max_seq_len - len(l_seq))\n",
        "\n",
        "  inputs = torch.as_tensor([[start_voc[word] for word in sequence] for sequence in inputs])\n",
        "  labels = torch.as_tensor([[class2idx[label] for label in sequence] for sequence in labels])\n",
        "\n",
        "  if ret_counts:\n",
        "    return inputs, labels, vocabulary, counts\n",
        "  else:\n",
        "    return inputs, labels, vocabulary"
      ]
    },
    {
      "cell_type": "code",
      "execution_count": 5,
      "metadata": {
        "id": "gvO7UEMUr4u6"
      },
      "outputs": [],
      "source": [
        "class POSTagger(torch.nn.Module):\n",
        "\n",
        "  def __init__(self, embedding_matrix, type, rec_size=1, units=None, hid_size=50):\n",
        "    \"\"\"\n",
        "      A recurrent network performing multiclass classification (POS tagging).\n",
        "      Params:\n",
        "        type: \n",
        "        embedding_matrix: \n",
        "        rec_size: \n",
        "        units: \n",
        "        hid_size: \n",
        "    \"\"\"\n",
        "    super().__init__()\n",
        "\n",
        "    emb_size = embedding_matrix.shape[1]\n",
        "    self.emb_layer = nn.Embedding.from_pretrained(torch.as_tensor(embedding_matrix))\n",
        "\n",
        "    if type == 'lstm':\n",
        "      rec_module = nn.LSTM\n",
        "    elif type == 'gru':\n",
        "      rec_module = nn.GRU\n",
        "    else:\n",
        "      raise ValueError(f'wrong type {type}, either lstm or gru')\n",
        "    self.rec_modules = rec_module(input_size=emb_size, hidden_size=hid_size, bidirectional=True, batch_first=True, num_layers=rec_size)\n",
        "\n",
        "    fc_params = [2 * hid_size] + ([units, 37] if units is not None else [37])\n",
        "    self.fc_modules = nn.Sequential(\n",
        "      OrderedDict([(f'fc_{i}', nn.Linear(in_shape, out_shape)) \n",
        "      for i, (in_shape, out_shape) in enumerate(zip(fc_params[:-1], fc_params[1:]))]))\n",
        "      \n",
        "    self.logsoftmax = nn.LogSoftmax(dim=1)\n",
        "\n",
        "  def __call__(self, x):\n",
        "    vecs = self.emb_layer(x).float()\n",
        "    rec_out, _ = self.rec_modules(vecs)\n",
        "    fc_out = self.fc_modules(rec_out)\n",
        "    return self.logsoftmax(fc_out)"
      ]
    },
    {
      "cell_type": "code",
      "execution_count": 6,
      "metadata": {},
      "outputs": [],
      "source": [
        "def train_one_epoch(model, optimizer, loss_fn, data_loader, device):\n",
        "    model.train()\n",
        "    log_dict = {'train/loss': []}\n",
        "\n",
        "    for inputs, targets in data_loader:\n",
        "        inputs.to(device)\n",
        "        targets.to(device)\n",
        "\n",
        "        logprobs = model(inputs).transpose(1, 2)\n",
        "        loss = loss_fn(logprobs, targets)\n",
        "        loss_value = loss.item()\n",
        "\n",
        "        if not math.isfinite(loss_value):\n",
        "            print(f\"Loss is {loss_value}, stopping training\")\n",
        "            exit(1)\n",
        "\n",
        "        optimizer.zero_grad()\n",
        "        loss.backward()\n",
        "        optimizer.step()\n",
        "\n",
        "        log_dict['train/loss'].append(loss_value)\n",
        "\n",
        "    return log_dict\n",
        "\n",
        "def evaluate(model, loss_fn, data_loader, device, metric='accuracy'):\n",
        "    model.eval()\n",
        "    batch_losses = []\n",
        "    batch_metrics = []\n",
        "\n",
        "    with torch.no_grad():\n",
        "        for inputs, targets in data_loader:\n",
        "            inputs.to(device)\n",
        "            targets.to(device)\n",
        "\n",
        "            logprobs = model(inputs).transpose(1, 2)\n",
        "            loss_value = loss_fn(logprobs, targets).item()\n",
        "            preds = torch.argmax(logprobs, 1)\n",
        "\n",
        "            if metric == 'accuracy':\n",
        "                metric_value = (targets == preds).sum() / (data_loader.batch_size * targets.shape[1])\n",
        "            elif metric == 'f1':\n",
        "                pass\n",
        "            else:\n",
        "                raise ValueError(f'wrong metric {metric}, either accuracy or f1')\n",
        "\n",
        "            batch_losses.append(loss_value)\n",
        "            batch_metrics.append(metric_value)\n",
        "\n",
        "    log_dict = {'valid/loss': np.mean(batch_losses), \n",
        "               f'valid/{metric}': np.mean(batch_metrics)}\n",
        "    return log_dict\n"
      ]
    },
    {
      "cell_type": "code",
      "execution_count": 7,
      "metadata": {},
      "outputs": [
        {
          "name": "stdout",
          "output_type": "stream",
          "text": [
            "glove already downloaded\n"
          ]
        }
      ],
      "source": [
        "classes = ['CC', 'CD', 'DT', 'EX', 'FW', 'IN', 'JJ', 'JJR', 'JJS', 'LS', 'MD', 'NN', 'NNS', \n",
        "           'NNP', 'NNPS', 'PDT', 'POS', 'PRP', 'PRP$', 'RB', 'RBR', 'RBS', 'RP', 'SYM', 'TO', \n",
        "           'UH', 'VB', 'VBD', 'VBG', 'VBN', 'VBP', 'VBZ', 'WDT', 'WP', 'WP$', 'WRB', '<PAD>']\n",
        "classes = {c: i for i, c in enumerate(classes)}\n",
        "glove_voc, embedding_matrix = get_glove()"
      ]
    },
    {
      "cell_type": "code",
      "execution_count": 9,
      "metadata": {
        "colab": {
          "base_uri": "https://localhost:8080/"
        },
        "id": "qFe2Ng_ft4vg",
        "outputId": "3e3bdd25-6bd6-43a4-ae59-df5a1b416237"
      },
      "outputs": [
        {
          "name": "stdout",
          "output_type": "stream",
          "text": [
            "dependency_treebank already downloaded\n",
            "dependency_treebank already downloaded\n",
            "dependency_treebank already downloaded\n"
          ]
        },
        {
          "data": {
            "text/plain": [
              "=================================================================\n",
              "Layer (type:depth-idx)                   Param #\n",
              "=================================================================\n",
              "POSTagger                                --\n",
              "├─Embedding: 1-1                         (40,000,200)\n",
              "├─LSTM: 1-2                              19,520\n",
              "├─Sequential: 1-3                        --\n",
              "│    └─Linear: 2-1                       1,517\n",
              "├─LogSoftmax: 1-4                        --\n",
              "=================================================================\n",
              "Total params: 40,021,237\n",
              "Trainable params: 21,037\n",
              "Non-trainable params: 40,000,200\n",
              "================================================================="
            ]
          },
          "execution_count": 9,
          "metadata": {},
          "output_type": "execute_result"
        }
      ],
      "source": [
        "train_set, train_labels, train_voc, counts = load_data(1, 100, glove_voc, classes, ret_counts=True)\n",
        "valid_set, valid_labels, valid_voc = load_data(101, 150, glove_voc, classes)\n",
        "test_set, test_labels, test_voc = load_data(151, 199, glove_voc, classes)\n",
        "\n",
        "train_dl = torch.utils.data.DataLoader(Dataset(train_set, train_labels), batch_size=cfg.BATCH_SIZE)\n",
        "valid_dl = torch.utils.data.DataLoader(Dataset(valid_set, valid_labels), batch_size=cfg.BATCH_SIZE)\n",
        "test_dl = torch.utils.data.DataLoader(Dataset(test_set, test_labels))\n",
        "\n",
        "model = POSTagger(embedding_matrix, type=cfg.TYPE, rec_size=cfg.REC_SIZE, units=cfg.UNITS, hid_size=cfg.HID_SIZE).to(device)\n",
        "summary(model)"
      ]
    },
    {
      "cell_type": "code",
      "execution_count": 13,
      "metadata": {},
      "outputs": [
        {
          "name": "stderr",
          "output_type": "stream",
          "text": [
            "\u001b[34m\u001b[1mwandb\u001b[0m: \u001b[33mWARNING\u001b[0m If you're specifying your api key in code, ensure this code is not shared publically.\n",
            "\u001b[34m\u001b[1mwandb\u001b[0m: \u001b[33mWARNING\u001b[0m Consider setting the WANDB_API_KEY environment variable, or running `wandb login` from the command line.\n",
            "\u001b[34m\u001b[1mwandb\u001b[0m: Appending key for api.wandb.ai to your netrc file: /home/diegochine/.netrc\n",
            "/home/diegochine/miniconda3/envs/nlp/lib/python3.9/site-packages/IPython/html.py:12: ShimWarning: The `IPython.html` package has been deprecated since IPython 4.0. You should import from `notebook` instead. `IPython.html.widgets` has moved to `ipywidgets`.\n",
            "  warn(\"The `IPython.html` package has been deprecated since IPython 4.0. \"\n"
          ]
        },
        {
          "data": {
            "text/html": [
              "\n",
              "                    Syncing run <strong><a href=\"https://wandb.ai/nlpetroni/assignment-one/runs/3h6jnihx\" target=\"_blank\">classic-deluge-4</a></strong> to <a href=\"https://wandb.ai/nlpetroni/assignment-one\" target=\"_blank\">Weights & Biases</a> (<a href=\"https://docs.wandb.com/integrations/jupyter.html\" target=\"_blank\">docs</a>).<br/>\n",
              "\n",
              "                "
            ],
            "text/plain": [
              "<IPython.core.display.HTML object>"
            ]
          },
          "metadata": {},
          "output_type": "display_data"
        },
        {
          "name": "stderr",
          "output_type": "stream",
          "text": [
            "\u001b[34m\u001b[1mwandb\u001b[0m: logging graph, to disable use `wandb.watch(log_graph=False)`\n"
          ]
        }
      ],
      "source": [
        "cfg_dict = {\n",
        "    'epochs': cfg.EPOCHS, 'batch_size': cfg.BATCH_SIZE, \n",
        "    'model': cfg.TYPE, 'rec_size': cfg.REC_SIZE, 'units': cfg.UNITS, 'hid_size': cfg.HID_SIZE,\n",
        "    'optim': cfg.OPTIM, 'lr': cfg.LR, 'alpha': cfg.ALPHA, 'betas': cfg.BETAS, 'momentum': cfg.MOMENTUM, 'weight_decay': cfg.WEIGHT_DECAY\n",
        "}\n",
        "\n",
        "wandb.login(key='bb91b382cc121df7e109ec0ad0275f1accc4c2f4')\n",
        "wandb.init(project=\"assignment-one\", entity=\"nlpetroni\", config=cfg_dict)\n",
        "wandb.watch(model, log_graph=True)\n",
        "wandb.define_metric(\"train_step\")\n",
        "wandb.define_metric(\"epoch\")\n",
        "wandb.define_metric('train/loss', step_metric=\"train_step\", summary=\"min\")\n",
        "wandb.define_metric(\"valid/loss\", step_metric=\"epoch\", summary=\"min\")\n",
        "wandb.define_metric(\"valid/accuracy\", step_metric=\"epoch\", summary=\"max\");"
      ]
    },
    {
      "cell_type": "code",
      "execution_count": 14,
      "metadata": {
        "colab": {
          "base_uri": "https://localhost:8080/"
        },
        "id": "s-wBxXCs4IyJ",
        "outputId": "46e7308d-3323-4334-cbee-65a0784b4f0b"
      },
      "outputs": [
        {
          "name": "stdout",
          "output_type": "stream",
          "text": [
            "EPOCH 000/200\n",
            "EPOCH 001/200\n",
            "EPOCH 002/200\n"
          ]
        },
        {
          "ename": "KeyboardInterrupt",
          "evalue": "",
          "output_type": "error",
          "traceback": [
            "\u001b[0;31m---------------------------------------------------------------------------\u001b[0m",
            "\u001b[0;31mKeyboardInterrupt\u001b[0m                         Traceback (most recent call last)",
            "\u001b[0;32m<ipython-input-14-dce62a7cdf96>\u001b[0m in \u001b[0;36m<module>\u001b[0;34m\u001b[0m\n\u001b[1;32m     12\u001b[0m \u001b[0;32mfor\u001b[0m \u001b[0mepoch\u001b[0m \u001b[0;32min\u001b[0m \u001b[0mrange\u001b[0m\u001b[0;34m(\u001b[0m\u001b[0mcfg\u001b[0m\u001b[0;34m.\u001b[0m\u001b[0mEPOCHS\u001b[0m\u001b[0;34m)\u001b[0m\u001b[0;34m:\u001b[0m\u001b[0;34m\u001b[0m\u001b[0;34m\u001b[0m\u001b[0m\n\u001b[1;32m     13\u001b[0m     \u001b[0mprint\u001b[0m\u001b[0;34m(\u001b[0m\u001b[0;34mf'EPOCH {epoch:03d}/{cfg.EPOCHS:03d}'\u001b[0m\u001b[0;34m)\u001b[0m\u001b[0;34m\u001b[0m\u001b[0;34m\u001b[0m\u001b[0m\n\u001b[0;32m---> 14\u001b[0;31m     \u001b[0mlog_dict\u001b[0m \u001b[0;34m=\u001b[0m \u001b[0mtrain_one_epoch\u001b[0m\u001b[0;34m(\u001b[0m\u001b[0mmodel\u001b[0m\u001b[0;34m,\u001b[0m \u001b[0moptimizer\u001b[0m\u001b[0;34m,\u001b[0m \u001b[0mloss\u001b[0m\u001b[0;34m,\u001b[0m \u001b[0mtrain_dl\u001b[0m\u001b[0;34m,\u001b[0m \u001b[0mdevice\u001b[0m\u001b[0;34m)\u001b[0m\u001b[0;34m\u001b[0m\u001b[0;34m\u001b[0m\u001b[0m\n\u001b[0m\u001b[1;32m     15\u001b[0m     \u001b[0;32mfor\u001b[0m \u001b[0mbatch_loss\u001b[0m \u001b[0;32min\u001b[0m \u001b[0mlog_dict\u001b[0m\u001b[0;34m[\u001b[0m\u001b[0;34m'train/loss'\u001b[0m\u001b[0;34m]\u001b[0m\u001b[0;34m:\u001b[0m\u001b[0;34m\u001b[0m\u001b[0;34m\u001b[0m\u001b[0m\n\u001b[1;32m     16\u001b[0m         \u001b[0mwandb\u001b[0m\u001b[0;34m.\u001b[0m\u001b[0mlog\u001b[0m\u001b[0;34m(\u001b[0m\u001b[0;34m{\u001b[0m\u001b[0;34m'train_step'\u001b[0m\u001b[0;34m:\u001b[0m \u001b[0mtrain_step\u001b[0m\u001b[0;34m,\u001b[0m \u001b[0;34m'epoch'\u001b[0m\u001b[0;34m:\u001b[0m \u001b[0mepoch\u001b[0m\u001b[0;34m,\u001b[0m \u001b[0;34m'train/loss'\u001b[0m\u001b[0;34m:\u001b[0m \u001b[0mbatch_loss\u001b[0m\u001b[0;34m}\u001b[0m\u001b[0;34m)\u001b[0m\u001b[0;34m\u001b[0m\u001b[0;34m\u001b[0m\u001b[0m\n",
            "\u001b[0;32m<ipython-input-6-e7afa65ef623>\u001b[0m in \u001b[0;36mtrain_one_epoch\u001b[0;34m(model, optimizer, loss_fn, data_loader, device)\u001b[0m\n\u001b[1;32m      7\u001b[0m         \u001b[0mtargets\u001b[0m\u001b[0;34m.\u001b[0m\u001b[0mto\u001b[0m\u001b[0;34m(\u001b[0m\u001b[0mdevice\u001b[0m\u001b[0;34m)\u001b[0m\u001b[0;34m\u001b[0m\u001b[0;34m\u001b[0m\u001b[0m\n\u001b[1;32m      8\u001b[0m \u001b[0;34m\u001b[0m\u001b[0m\n\u001b[0;32m----> 9\u001b[0;31m         \u001b[0mlogprobs\u001b[0m \u001b[0;34m=\u001b[0m \u001b[0mmodel\u001b[0m\u001b[0;34m(\u001b[0m\u001b[0minputs\u001b[0m\u001b[0;34m)\u001b[0m\u001b[0;34m.\u001b[0m\u001b[0mtranspose\u001b[0m\u001b[0;34m(\u001b[0m\u001b[0;36m1\u001b[0m\u001b[0;34m,\u001b[0m \u001b[0;36m2\u001b[0m\u001b[0;34m)\u001b[0m\u001b[0;34m\u001b[0m\u001b[0;34m\u001b[0m\u001b[0m\n\u001b[0m\u001b[1;32m     10\u001b[0m         \u001b[0mloss\u001b[0m \u001b[0;34m=\u001b[0m \u001b[0mloss_fn\u001b[0m\u001b[0;34m(\u001b[0m\u001b[0mlogprobs\u001b[0m\u001b[0;34m,\u001b[0m \u001b[0mtargets\u001b[0m\u001b[0;34m)\u001b[0m\u001b[0;34m\u001b[0m\u001b[0;34m\u001b[0m\u001b[0m\n\u001b[1;32m     11\u001b[0m         \u001b[0mloss_value\u001b[0m \u001b[0;34m=\u001b[0m \u001b[0mloss\u001b[0m\u001b[0;34m.\u001b[0m\u001b[0mitem\u001b[0m\u001b[0;34m(\u001b[0m\u001b[0;34m)\u001b[0m\u001b[0;34m\u001b[0m\u001b[0;34m\u001b[0m\u001b[0m\n",
            "\u001b[0;32m<ipython-input-5-6f05f2c65d45>\u001b[0m in \u001b[0;36m__call__\u001b[0;34m(self, x)\u001b[0m\n\u001b[1;32m     33\u001b[0m   \u001b[0;32mdef\u001b[0m \u001b[0m__call__\u001b[0m\u001b[0;34m(\u001b[0m\u001b[0mself\u001b[0m\u001b[0;34m,\u001b[0m \u001b[0mx\u001b[0m\u001b[0;34m)\u001b[0m\u001b[0;34m:\u001b[0m\u001b[0;34m\u001b[0m\u001b[0;34m\u001b[0m\u001b[0m\n\u001b[1;32m     34\u001b[0m     \u001b[0mvecs\u001b[0m \u001b[0;34m=\u001b[0m \u001b[0mself\u001b[0m\u001b[0;34m.\u001b[0m\u001b[0memb_layer\u001b[0m\u001b[0;34m(\u001b[0m\u001b[0mx\u001b[0m\u001b[0;34m)\u001b[0m\u001b[0;34m.\u001b[0m\u001b[0mfloat\u001b[0m\u001b[0;34m(\u001b[0m\u001b[0;34m)\u001b[0m\u001b[0;34m\u001b[0m\u001b[0;34m\u001b[0m\u001b[0m\n\u001b[0;32m---> 35\u001b[0;31m     \u001b[0mrec_out\u001b[0m\u001b[0;34m,\u001b[0m \u001b[0m_\u001b[0m \u001b[0;34m=\u001b[0m \u001b[0mself\u001b[0m\u001b[0;34m.\u001b[0m\u001b[0mrec_modules\u001b[0m\u001b[0;34m(\u001b[0m\u001b[0mvecs\u001b[0m\u001b[0;34m)\u001b[0m\u001b[0;34m\u001b[0m\u001b[0;34m\u001b[0m\u001b[0m\n\u001b[0m\u001b[1;32m     36\u001b[0m     \u001b[0mfc_out\u001b[0m \u001b[0;34m=\u001b[0m \u001b[0mself\u001b[0m\u001b[0;34m.\u001b[0m\u001b[0mfc_modules\u001b[0m\u001b[0;34m(\u001b[0m\u001b[0mrec_out\u001b[0m\u001b[0;34m)\u001b[0m\u001b[0;34m\u001b[0m\u001b[0;34m\u001b[0m\u001b[0m\n\u001b[1;32m     37\u001b[0m     \u001b[0;32mreturn\u001b[0m \u001b[0mself\u001b[0m\u001b[0;34m.\u001b[0m\u001b[0mlogsoftmax\u001b[0m\u001b[0;34m(\u001b[0m\u001b[0mfc_out\u001b[0m\u001b[0;34m)\u001b[0m\u001b[0;34m\u001b[0m\u001b[0;34m\u001b[0m\u001b[0m\n",
            "\u001b[0;32m~/miniconda3/envs/nlp/lib/python3.9/site-packages/torch/nn/modules/module.py\u001b[0m in \u001b[0;36m_call_impl\u001b[0;34m(self, *input, **kwargs)\u001b[0m\n\u001b[1;32m   1118\u001b[0m             \u001b[0minput\u001b[0m \u001b[0;34m=\u001b[0m \u001b[0mbw_hook\u001b[0m\u001b[0;34m.\u001b[0m\u001b[0msetup_input_hook\u001b[0m\u001b[0;34m(\u001b[0m\u001b[0minput\u001b[0m\u001b[0;34m)\u001b[0m\u001b[0;34m\u001b[0m\u001b[0;34m\u001b[0m\u001b[0m\n\u001b[1;32m   1119\u001b[0m \u001b[0;34m\u001b[0m\u001b[0m\n\u001b[0;32m-> 1120\u001b[0;31m         \u001b[0mresult\u001b[0m \u001b[0;34m=\u001b[0m \u001b[0mforward_call\u001b[0m\u001b[0;34m(\u001b[0m\u001b[0;34m*\u001b[0m\u001b[0minput\u001b[0m\u001b[0;34m,\u001b[0m \u001b[0;34m**\u001b[0m\u001b[0mkwargs\u001b[0m\u001b[0;34m)\u001b[0m\u001b[0;34m\u001b[0m\u001b[0;34m\u001b[0m\u001b[0m\n\u001b[0m\u001b[1;32m   1121\u001b[0m         \u001b[0;32mif\u001b[0m \u001b[0m_global_forward_hooks\u001b[0m \u001b[0;32mor\u001b[0m \u001b[0mself\u001b[0m\u001b[0;34m.\u001b[0m\u001b[0m_forward_hooks\u001b[0m\u001b[0;34m:\u001b[0m\u001b[0;34m\u001b[0m\u001b[0;34m\u001b[0m\u001b[0m\n\u001b[1;32m   1122\u001b[0m             \u001b[0;32mfor\u001b[0m \u001b[0mhook\u001b[0m \u001b[0;32min\u001b[0m \u001b[0;34m(\u001b[0m\u001b[0;34m*\u001b[0m\u001b[0m_global_forward_hooks\u001b[0m\u001b[0;34m.\u001b[0m\u001b[0mvalues\u001b[0m\u001b[0;34m(\u001b[0m\u001b[0;34m)\u001b[0m\u001b[0;34m,\u001b[0m \u001b[0;34m*\u001b[0m\u001b[0mself\u001b[0m\u001b[0;34m.\u001b[0m\u001b[0m_forward_hooks\u001b[0m\u001b[0;34m.\u001b[0m\u001b[0mvalues\u001b[0m\u001b[0;34m(\u001b[0m\u001b[0;34m)\u001b[0m\u001b[0;34m)\u001b[0m\u001b[0;34m:\u001b[0m\u001b[0;34m\u001b[0m\u001b[0;34m\u001b[0m\u001b[0m\n",
            "\u001b[0;32m~/miniconda3/envs/nlp/lib/python3.9/site-packages/torch/nn/modules/rnn.py\u001b[0m in \u001b[0;36mforward\u001b[0;34m(self, input, hx)\u001b[0m\n\u001b[1;32m    689\u001b[0m         \u001b[0mself\u001b[0m\u001b[0;34m.\u001b[0m\u001b[0mcheck_forward_args\u001b[0m\u001b[0;34m(\u001b[0m\u001b[0minput\u001b[0m\u001b[0;34m,\u001b[0m \u001b[0mhx\u001b[0m\u001b[0;34m,\u001b[0m \u001b[0mbatch_sizes\u001b[0m\u001b[0;34m)\u001b[0m\u001b[0;34m\u001b[0m\u001b[0;34m\u001b[0m\u001b[0m\n\u001b[1;32m    690\u001b[0m         \u001b[0;32mif\u001b[0m \u001b[0mbatch_sizes\u001b[0m \u001b[0;32mis\u001b[0m \u001b[0;32mNone\u001b[0m\u001b[0;34m:\u001b[0m\u001b[0;34m\u001b[0m\u001b[0;34m\u001b[0m\u001b[0m\n\u001b[0;32m--> 691\u001b[0;31m             result = _VF.lstm(input, hx, self._flat_weights, self.bias, self.num_layers,\n\u001b[0m\u001b[1;32m    692\u001b[0m                               self.dropout, self.training, self.bidirectional, self.batch_first)\n\u001b[1;32m    693\u001b[0m         \u001b[0;32melse\u001b[0m\u001b[0;34m:\u001b[0m\u001b[0;34m\u001b[0m\u001b[0;34m\u001b[0m\u001b[0m\n",
            "\u001b[0;31mKeyboardInterrupt\u001b[0m: "
          ]
        },
        {
          "name": "stderr",
          "output_type": "stream",
          "text": [
            "Exception in thread Thread-8:\n",
            "Traceback (most recent call last):\n",
            "  File \"/home/diegochine/miniconda3/envs/nlp/lib/python3.9/threading.py\", line 973, in _bootstrap_inner\n",
            "    self.run()\n",
            "  File \"/home/diegochine/miniconda3/envs/nlp/lib/python3.9/threading.py\", line 910, in run\n",
            "    self._target(*self._args, **self._kwargs)\n",
            "  File \"/home/diegochine/miniconda3/envs/nlp/lib/python3.9/site-packages/wandb/sdk/wandb_run.py\", line 149, in check_network_status\n",
            "    status_response = self._interface.communicate_network_status()\n",
            "  File \"/home/diegochine/miniconda3/envs/nlp/lib/python3.9/site-packages/wandb/sdk/interface/interface.py\", line 120, in communicate_network_status\n",
            "    resp = self._communicate_network_status(status)\n",
            "  File \"/home/diegochine/miniconda3/envs/nlp/lib/python3.9/site-packages/wandb/sdk/interface/interface_queue.py\", line 411, in _communicate_network_status\n",
            "    resp = self._communicate(req, local=True)\n",
            "  File \"/home/diegochine/miniconda3/envs/nlp/lib/python3.9/site-packages/wandb/sdk/interface/interface_queue.py\", line 232, in _communicate\n",
            "    return self._communicate_async(rec, local=local).get(timeout=timeout)\n",
            "  File \"/home/diegochine/miniconda3/envs/nlp/lib/python3.9/site-packages/wandb/sdk/interface/interface_queue.py\", line 237, in _communicate_async\n",
            "    raise Exception(\"The wandb backend process has shutdown\")\n",
            "Exception: The wandb backend process has shutdown\n",
            "Exception in thread Thread-7:\n",
            "Traceback (most recent call last):\n",
            "  File \"/home/diegochine/miniconda3/envs/nlp/lib/python3.9/threading.py\", line 973, in _bootstrap_inner\n",
            "    self.run()\n",
            "  File \"/home/diegochine/miniconda3/envs/nlp/lib/python3.9/threading.py\", line 910, in run\n",
            "    self._target(*self._args, **self._kwargs)\n",
            "  File \"/home/diegochine/miniconda3/envs/nlp/lib/python3.9/site-packages/wandb/sdk/wandb_run.py\", line 167, in check_status\n",
            "    status_response = self._interface.communicate_stop_status()\n",
            "  File \"/home/diegochine/miniconda3/envs/nlp/lib/python3.9/site-packages/wandb/sdk/interface/interface.py\", line 109, in communicate_stop_status\n",
            "    resp = self._communicate_stop_status(status)\n",
            "  File \"/home/diegochine/miniconda3/envs/nlp/lib/python3.9/site-packages/wandb/sdk/interface/interface_queue.py\", line 401, in _communicate_stop_status\n",
            "    resp = self._communicate(req, local=True)\n",
            "  File \"/home/diegochine/miniconda3/envs/nlp/lib/python3.9/site-packages/wandb/sdk/interface/interface_queue.py\", line 232, in _communicate\n",
            "    return self._communicate_async(rec, local=local).get(timeout=timeout)\n",
            "  File \"/home/diegochine/miniconda3/envs/nlp/lib/python3.9/site-packages/wandb/sdk/interface/interface_queue.py\", line 237, in _communicate_async\n",
            "    raise Exception(\"The wandb backend process has shutdown\")\n",
            "Exception: The wandb backend process has shutdown\n"
          ]
        }
      ],
      "source": [
        "params = [p for p in model.parameters() if p.requires_grad]\n",
        "if cfg.OPTIM == 'rmsprop':\n",
        "    optimizer = torch.optim.RMSprop(params, lr=cfg.LR, alpha=cfg.ALPHA, momentum=cfg.MOMENTUM, weight_decay=cfg.WEIGHT_DECAY)\n",
        "elif cfg.OPTIM == 'adam':\n",
        "    optimizer = torch.optim.Adam(params, lr=cfg.LR, betas=cfg.BETAS, weight_decay=cfg.WEIGHT_DECAY)\n",
        "else:\n",
        "    raise ValueError(f'wrong optim {cfg.OPTIM}, either rmsprop or adam')\n",
        "loss = nn.NLLLoss()\n",
        "\n",
        "train_step = 0\n",
        "\n",
        "for epoch in range(cfg.EPOCHS):\n",
        "    print(f'EPOCH {epoch:03d}/{cfg.EPOCHS:03d}')\n",
        "    log_dict = train_one_epoch(model, optimizer, loss, train_dl, device)\n",
        "    for batch_loss in log_dict['train/loss']:\n",
        "        wandb.log({'train_step': train_step, 'epoch': epoch, 'train/loss': batch_loss})\n",
        "    log_dict = evaluate(model, loss, valid_dl, device)\n",
        "    wandb.log( {'epoch': epoch, 'valid/loss': log_dict['valid/loss'], 'valid/accuracy': log_dict['valid/accuracy']})\n"
      ]
    },
    {
      "cell_type": "code",
      "execution_count": null,
      "metadata": {},
      "outputs": [],
      "source": []
    }
  ],
  "metadata": {
    "colab": {
      "collapsed_sections": [],
      "name": "Assignment_1.ipynb",
      "provenance": []
    },
    "kernelspec": {
      "display_name": "Python 3",
      "name": "python3"
    },
    "language_info": {
      "codemirror_mode": {
        "name": "ipython",
        "version": 3
      },
      "file_extension": ".py",
      "mimetype": "text/x-python",
      "name": "python",
      "nbconvert_exporter": "python",
      "pygments_lexer": "ipython3",
      "version": "3.9.7"
    }
  },
  "nbformat": 4,
  "nbformat_minor": 0
}
