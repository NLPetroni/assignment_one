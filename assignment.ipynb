{
  "cells": [
    {
      "cell_type": "markdown",
      "metadata": {
        "id": "-WeCeITXoxLf"
      },
      "source": [
        "# Assignment 1\n",
        "\n",
        "**Due to**: 23/12/2021 (dd/mm/yyyy)\n",
        "\n",
        "**Credits**: Andrea Galassi, Federico Ruggeri, Paolo Torroni\n",
        "\n",
        "**Summary**: Part-of Speech (POS) tagging as Sequence Labelling using Recurrent Neural Architectures"
      ]
    },
    {
      "cell_type": "markdown",
      "metadata": {
        "id": "a4_wqPdlBcKS"
      },
      "source": [
        "# Intro\n",
        "\n",
        "In this assignment  we will ask you to perform POS tagging using neural architectures\n",
        "\n",
        "You are asked to follow these steps:\n",
        "*   Download the corpora and split it in training and test sets, structuring a dataframe.\n",
        "*   Embed the words using GloVe embeddings\n",
        "*   Create a baseline model, using a simple neural architecture\n",
        "*   Experiment doing small modifications to the baseline model, choose hyperparameters using the validation set\n",
        "*   Evaluate your two best model\n",
        "*   Analyze the errors of your model\n",
        "\n",
        "\n",
        "**Task**: given a corpus of documents, predict the POS tag for each word\n",
        "\n",
        "**Corpus**:\n",
        "Ignore the numeric value in the third column, use only the words/symbols and its label. \n",
        "The corpus is available at:\n",
        "https://raw.githubusercontent.com/nltk/nltk_data/gh-pages/packages/corpora/dependency_treebank.zip\n",
        "\n",
        "**Splits**: documents 1-100 are the train set, 101-150 validation set, 151-199 test set.\n",
        "\n",
        "\n",
        "**Features**: you MUST use GloVe embeddings as the only input features to the model.\n",
        "\n",
        "**Splitting**: you can decide to split documents into sentences or not, the choice is yours.\n",
        "\n",
        "**I/O structure**: The input data will have three dimensions: 1-documents/sentences, 2-token, 3-features; for the output there are 2 possibilities: if you use one-hot encoding it will be 1-documents/sentences, 2-token labels, 3-classes, if you use a single integer that indicates the number of the class it will be 1-documents/sentences, 2-token labels.\n",
        "\n",
        "**Baseline**: two layers architecture: a Bidirectional LSTM layer and a Dense/Fully-Connected layer on top; the choice of hyper-parameters is yours.\n",
        "\n",
        "**Architectures**: experiment using a GRU instead of the LSTM, adding an additional LSTM layer, and adding an additional dense layer; do not mix these variantions.\n",
        "\n",
        "\n",
        "**Training and Experiments**: all the experiments must involve only the training and validation sets.\n",
        "\n",
        "**Evaluation**: in the end, only the two best models of your choice (according to the validation set) must be evaluated on the test set. The main metric must be F1-Macro computed between the various part of speech. DO NOT CONSIDER THE PUNCTUATION CLASSES.\n",
        "\n",
        "**Metrics**: the metric you must use to evaluate your final model is the F1-macro, WITHOUT considering punctuation/symbols classes; during the training process you can use accuracy because you can't use the F1 metric unless you use a single (gigantic) batch because there is no way to aggregate \"partial\" F1 scores computed on mini-batches.\n",
        "\n",
        "**Discussion and Error Analysis** : verify and discuss if the results on the test sets are coherent with those on the validation set; analyze the errors done by your model, try to understand which may be the causes and think about how to improve it.\n",
        "\n",
        "**Report**: you are asked to deliver the code of your experiments and a small pdf report of about 2 pages; the pdf must begin with the names of the people of your team and a small abstract (4-5 lines) that sums up your findings.\n",
        "\n",
        "# Out Of Vocabulary (OOV) terms\n",
        "\n",
        "How to handle words that are not in GloVe vocabulary?\n",
        "You can handle them as you want (random embedding, placeholder, whatever!), but they must be STATIC embeddings (you cannot train them).\n",
        "\n",
        "But there is a very important caveat! As usual, the element of the test set must not influence the elements of the other splits!\n",
        "\n",
        "So, when you compute new embeddings for train+validation, you must forget about test documents.\n",
        "The motivation is to emulate a real-world scenario, where you select and train a model in the first stage, without knowing nothing about the testing environment.\n",
        "\n",
        "For implementation convenience, you CAN use a single vocabulary file/matrix/whatever. The principle of the previous point is that the embeddings inside that file/matrix must be generated independently for train and test splits.\n",
        "\n",
        "Basically in a real-world scenario, this is what would happen:\n",
        "1. Starting vocabulary V1 (in this assignment, GloVe vocabulary)\n",
        "2. Compute embeddings for terms out of vocabulary V1 (OOV1) of the training split \n",
        "3. Add embeddings to the vocabulary, so to obtain vocabulary V2=V1+OOV1\n",
        "4. Training of the model(s)\n",
        "5. Compute embeddings for terms OOV2 of the validation split \n",
        "6. Add embeddings to the vocabulary, so to obtain vocabulary V3=V1+OOV1+OOV2\n",
        "7. Validation of the model(s)\n",
        "8. Compute embeddings for terms OOV3 of the test split \n",
        "9. Add embeddings to the vocabulary, so to obtain vocabulary V4=V1+OOV1+OOV2+OOV3\n",
        "10. Testing of the final model\n",
        "\n",
        "In this case, where we already have all the documents, we can simplify the process a bit, but the procedure must remain rigorous.\n",
        "\n",
        "1. Starting vocabulary V1 (in this assignment, GloVe vocabulary)\n",
        "2. Compute embeddings for terms out of vocabulary V1 (OOV1) of the training split \n",
        "3. Add embeddings to the vocabulary, so to obtain vocabulary V2=V1+OOV1\n",
        "4. Compute embeddings for terms OOV2 of the validation split \n",
        "5. Add embeddings to the vocabulary, so to obtain vocabulary V3=V1+OOV1+OOV2\n",
        "6. Compute embeddings for terms OOV3 of the test split \n",
        "7. Add embeddings to the vocabulary, so to obtain vocabulary V4=V1+OOV1+OOV2\n",
        "8. Training of the model(s)\n",
        "9. Validation of the model(s)\n",
        "10. Testing of the final model\n",
        "\n",
        "Step 2 and step 6 must be completely independent of each other, for what concerns the method and the documents. But they can rely on the previous vocabulary (V1 for step 2 and V3 for step 6)\n",
        "THEREFORE if a word is present both in the training set and the test split and not in the starting vocabulary, its embedding is computed in step 2) and it is not considered OOV anymore in step 6).\n",
        "\n",
        "# Report\n",
        "The report must not be just a copy and paste of graphs and tables!\n",
        "\n",
        "The report must not be longer than 2 pages and must contain:\n",
        "* The names of the member of your team\n",
        "* A short abstract (4-5 lines) that sum ups everything\n",
        "* A general description of the task you have addressed and how you have addressed it\n",
        "* A short description of the models you have used\n",
        "* Some tables that sum up your findings in validation and test and a discussion of those results\n",
        "* The most relevant findings of your error analysis\n",
        "\n",
        "# Evaluation Criterion\n",
        "\n",
        "The goal of this assignment is not to prove you can find best model ever, but to face a common task, structure it correctly, and follow a correct and rigorous experimental procedure.\n",
        "In other words, we don't care if you final models are awful as long as you have followed the correct procedure and wrote a decent report.\n",
        "\n",
        "The score of the assignment will be computed roughly as follows\n",
        "* 1 point for the general setting of the problem\n",
        "* 1 point for the handling of OOV terms\n",
        "* 1 point for the models\n",
        "* 1 point for train-validation-test procedure\n",
        "* 2 point for the discussion of the results, error analysis, and report\n",
        "\n",
        "This distribution of scores is tentative and we may decide to alter it at any moment.\n",
        "We also reserve the right to assign a small bonus (0.5 points) to any assignment that is particularly worthy. Similarly, in case of grave errors, we may decide to assign an equivalent malus (-0.5 points).\n",
        "\n",
        "# Contacts\n",
        "\n",
        "In case of any doubt, question, issue, or help we highly recommend you to check the [course useful material](https://virtuale.unibo.it/pluginfile.php/1036039/mod_resource/content/2/NLP_Course_Useful_Material.pdf) for additional information, and to use the Virtuale forums to discuss with other students.\n",
        "\n",
        "You can always contact us at the following email addresses. To increase the probability of a prompt response, we reccomend you to write to both the teaching assistants.\n",
        "\n",
        "Teaching Assistants:\n",
        "\n",
        "* Andrea Galassi -> a.galassi@unibo.it\n",
        "* Federico Ruggeri -> federico.ruggeri6@unibo.it\n",
        "\n",
        "Professor:\n",
        "\n",
        "* Paolo Torroni -> p.torroni@unibo.it\n",
        "\n",
        "\n",
        "# FAQ\n",
        "* You can use a non-trainable Embedding layer to load the glove embeddings\n",
        "* You can use any library of your choice to implement the networks. Two options are tensorflow/keras or pythorch. Both these libraries have all the classes you need to implement these simple architectures and there are plenty of tutorials around, where you can learn how to use them."
      ]
    },
    {
      "cell_type": "code",
      "execution_count": 1,
      "metadata": {
        "id": "ukrm06vhq4p-"
      },
      "outputs": [],
      "source": [
        "# ! pip install wandb # colab only\n",
        "\n",
        "import math\n",
        "from collections import defaultdict, OrderedDict\n",
        "import numpy as np\n",
        "import torch\n",
        "from torch import nn\n",
        "from torchinfo import summary\n",
        "from pprint import pprint\n",
        "import wandb\n",
        "import config as cfg\n",
        "\n",
        "def download_and_unzip(url, save_dir='.'):\n",
        "  # downloads and unzips url, if not already downloaded\n",
        "  import os\n",
        "  from urllib.request import urlopen\n",
        "  from io import BytesIO\n",
        "  from zipfile import ZipFile\n",
        "  fname = url.split('/')[-1][:-4] if save_dir == '.' else save_dir\n",
        "  if fname not in os.listdir():\n",
        "    print(f'downloading and unzipping {fname}...', end=' ')\n",
        "    r = urlopen(url)\n",
        "    zipf = ZipFile(BytesIO(r.read()))\n",
        "    zipf.extractall(path=save_dir)\n",
        "    print(f'completed')\n",
        "  else:\n",
        "    print(f'{fname} already downloaded')\n",
        "\n",
        "device = torch.device('cuda') if torch.cuda.is_available() else torch.device('cpu')"
      ]
    },
    {
      "cell_type": "markdown",
      "metadata": {
        "id": "2VV-Hx1HBPVQ"
      },
      "source": [
        "# GLOVE EMBEDDINGS\n",
        "\n",
        "OOV: average of all words/subset of words https://groups.google.com/g/globalvectors/c/9w8ZADXJclA/m/hRdn4prm-XUJ"
      ]
    },
    {
      "cell_type": "code",
      "execution_count": 2,
      "metadata": {
        "colab": {
          "base_uri": "https://localhost:8080/"
        },
        "id": "_SVR6TGJBOrR",
        "outputId": "6fe979a3-0d8c-4f6e-d72b-1680379bed29"
      },
      "outputs": [],
      "source": [
        "n_tokens = 400000 + 2 # glove vocabulary size + UNK + PAD\n",
        "\n",
        "def get_glove(emb_size=100):\n",
        "  \"\"\"\n",
        "    Download and load glove embeddings. \n",
        "    Parameters:\n",
        "      size: embedding size (50/100/200/300-dimensional vectors).    \n",
        "    Returns keras Embedding layer.  \n",
        "  \"\"\"\n",
        "  if emb_size not in (50, 100, 200, 300):\n",
        "    raise ValueError(f'wrong size parameter: {emb_size}')\n",
        "  \n",
        "  download_and_unzip('http://nlp.stanford.edu/data/glove.6B.zip', save_dir='glove')\n",
        "  vocabulary = defaultdict(lambda: n_tokens - 1) # when word not present, it's UNK\n",
        "  embedding_matrix = np.ones((n_tokens, emb_size))\n",
        "\n",
        "  with open(f'glove/glove.6B.{emb_size}d.txt') as f:\n",
        "    for i, line in enumerate(f):\n",
        "        word, coefs = line.split(maxsplit=1)\n",
        "        coefs = np.fromstring(coefs, \"f\", sep=\" \")\n",
        "        embedding_matrix[i] = coefs\n",
        "        vocabulary[word] = i\n",
        "  \n",
        "  # add embedding for OOV terms and padding\n",
        "  embedding_matrix[n_tokens - 2] = embedding_matrix.mean(axis=0)\n",
        "  embedding_matrix[n_tokens - 1] = 0\n",
        "  vocabulary['<UNK>'] = n_tokens - 2\n",
        "  vocabulary['<PAD>'] = n_tokens - 1\n",
        "\n",
        "  return vocabulary, embedding_matrix"
      ]
    },
    {
      "cell_type": "markdown",
      "metadata": {
        "id": "Py0UzmrOBEmm"
      },
      "source": [
        "# DATA PREPROCESSING"
      ]
    },
    {
      "cell_type": "code",
      "execution_count": 3,
      "metadata": {},
      "outputs": [],
      "source": [
        "class Dataset(torch.utils.data.Dataset):\n",
        "    def __init__(self, inputs, labels):\n",
        "        self.inputs = inputs\n",
        "        self.labels = labels\n",
        "    def __getitem__(self, idx):\n",
        "        return self.inputs[idx], self.labels[idx]\n",
        "    def __len__(self):\n",
        "        return self.inputs.shape[0]"
      ]
    },
    {
      "cell_type": "code",
      "execution_count": 4,
      "metadata": {
        "id": "HMgDvLxOmK9n"
      },
      "outputs": [],
      "source": [
        "def load_data(start, end, start_voc, class2idx,\n",
        "              drop_punctuation=True, split_docs=True, ret_counts=False):\n",
        "  \"\"\"\n",
        "    Downloads dataset and preprocess data.\n",
        "    Params:\n",
        "      start: \n",
        "      end: \n",
        "      start_voc:\n",
        "      classes:\n",
        "      drop_punctuation:\n",
        "      split_docs:\n",
        "      ret_counts:\n",
        "    Returns \n",
        "  \"\"\"\n",
        "  # download dataset\n",
        "  download_and_unzip('https://raw.githubusercontent.com/nltk/nltk_data/gh-pages/packages/corpora/dependency_treebank.zip')\n",
        "  \n",
        "  inputs, labels = [], []\n",
        "  vocabulary = set()\n",
        "  counts = defaultdict(int)\n",
        "  max_seq_len = 0\n",
        "  \n",
        "  # build dataset\n",
        "  for doc in range(start, end+1):\n",
        "    with open(f'dependency_treebank/wsj_{doc:04d}.dp') as f:\n",
        "      \n",
        "      input_seq, label_seq = [], []\n",
        "      \n",
        "      for line in f:\n",
        "        if line.strip(): # check for empty lines\n",
        "          word, label, _ = line.split('\\t')\n",
        "          word = word.lower()\n",
        "          if not drop_punctuation or label.isalpha(): # eventually drop punctuation\n",
        "            vocabulary.add(word)\n",
        "            input_seq.append(word)\n",
        "            label_seq.append(label)\n",
        "            counts[word] += 1\n",
        "        elif split_docs: # sentence over, add to input if splitting documents\n",
        "          max_seq_len = max(max_seq_len, len(input_seq))\n",
        "          inputs.append(input_seq)\n",
        "          labels.append(label_seq)\n",
        "          input_seq, label_seq = [], []\n",
        "\n",
        "      max_seq_len = max(max_seq_len, len(input_seq))\n",
        "      inputs.append(input_seq)\n",
        "      labels.append(label_seq)\n",
        "  \n",
        "  for i_seq, l_seq in zip(inputs, labels):\n",
        "    i_seq += ['<PAD>'] * (max_seq_len - len(i_seq))\n",
        "    l_seq += ['<PAD>'] * (max_seq_len - len(l_seq))\n",
        "\n",
        "  inputs = torch.as_tensor([[start_voc[word] for word in sequence] for sequence in inputs])\n",
        "  labels = torch.as_tensor([[class2idx[label] for label in sequence] for sequence in labels])\n",
        "\n",
        "  if ret_counts:\n",
        "    return inputs, labels, vocabulary, counts\n",
        "  else:\n",
        "    return inputs, labels, vocabulary"
      ]
    },
    {
      "cell_type": "code",
      "execution_count": 5,
      "metadata": {
        "id": "gvO7UEMUr4u6"
      },
      "outputs": [],
      "source": [
        "class POSTagger(torch.nn.Module):\n",
        "\n",
        "  def __init__(self, embedding_matrix, type, rec_size=1, units=None, hid_size=50):\n",
        "    \"\"\"\n",
        "      A recurrent network performing multiclass classification (POS tagging).\n",
        "      Params:\n",
        "        type: \n",
        "        embedding_matrix: \n",
        "        rec_size: \n",
        "        units: \n",
        "        hid_size: \n",
        "    \"\"\"\n",
        "    super().__init__()\n",
        "\n",
        "    emb_size = embedding_matrix.shape[1]\n",
        "    self.emb_layer = nn.Embedding.from_pretrained(torch.as_tensor(embedding_matrix))\n",
        "\n",
        "    if type == 'lstm':\n",
        "      rec_module = nn.LSTM\n",
        "    elif type == 'gru':\n",
        "      rec_module = nn.GRU\n",
        "    else:\n",
        "      raise ValueError(f'wrong type {type}, either lstm or gru')\n",
        "    self.rec_modules = rec_module(input_size=emb_size, hidden_size=hid_size, bidirectional=True, batch_first=True, num_layers=rec_size)\n",
        "\n",
        "    fc_params = [2 * hid_size] + ([units, 37] if units is not None else [37])\n",
        "    self.fc_modules = nn.Sequential(\n",
        "      OrderedDict([(f'fc_{i}', nn.Linear(in_shape, out_shape)) \n",
        "      for i, (in_shape, out_shape) in enumerate(zip(fc_params[:-1], fc_params[1:]))]))\n",
        "      \n",
        "    self.logsoftmax = nn.LogSoftmax(dim=1)\n",
        "\n",
        "  def __call__(self, x):\n",
        "    vecs = self.emb_layer(x).float()\n",
        "    rec_out, _ = self.rec_modules(vecs)\n",
        "    fc_out = self.fc_modules(rec_out)\n",
        "    return self.logsoftmax(fc_out)"
      ]
    },
    {
      "cell_type": "code",
      "execution_count": 6,
      "metadata": {},
      "outputs": [],
      "source": [
        "def train_one_epoch(model, optimizer, loss_fn, data_loader, device):\n",
        "    model.train()\n",
        "    log_dict = {'train/loss': []}\n",
        "\n",
        "    for inputs, targets in data_loader:\n",
        "        inputs = inputs.to(device)\n",
        "        targets = targets.to(device)\n",
        "\n",
        "        logprobs = model(inputs).transpose(1, 2)\n",
        "        loss = loss_fn(logprobs, targets)\n",
        "        loss_value = loss.item()\n",
        "\n",
        "        if not math.isfinite(loss_value):\n",
        "            print(f\"Loss is {loss_value}, stopping training\")\n",
        "            exit(1)\n",
        "\n",
        "        optimizer.zero_grad()\n",
        "        loss.backward()\n",
        "        optimizer.step()\n",
        "\n",
        "        log_dict['train/loss'].append(loss_value)\n",
        "\n",
        "    return log_dict\n",
        "\n",
        "def evaluate(model, loss_fn, data_loader, device, metric='accuracy'):\n",
        "    model.eval()\n",
        "    batch_losses = []\n",
        "    batch_metrics = []\n",
        "\n",
        "    with torch.no_grad():\n",
        "        for inputs, targets in data_loader:\n",
        "            inputs = inputs.to(device)\n",
        "            targets = targets.to(device)\n",
        "\n",
        "            logprobs = model(inputs).transpose(1, 2)\n",
        "            loss_value = loss_fn(logprobs, targets).item()\n",
        "            preds = torch.argmax(logprobs, 1)\n",
        "\n",
        "            if metric == 'accuracy':\n",
        "                metric_value = (targets == preds).sum() / (data_loader.batch_size * targets.shape[1])\n",
        "            elif metric == 'f1':\n",
        "                pass\n",
        "            else:\n",
        "                raise ValueError(f'wrong metric {metric}, either accuracy or f1')\n",
        "\n",
        "            batch_losses.append(loss_value)\n",
        "            batch_metrics.append(metric_value.item())\n",
        "\n",
        "    log_dict = {'valid/loss': np.mean(batch_losses), \n",
        "               f'valid/{metric}': np.mean(batch_metrics)}\n",
        "    return log_dict\n"
      ]
    },
    {
      "cell_type": "code",
      "execution_count": 7,
      "metadata": {},
      "outputs": [
        {
          "name": "stdout",
          "output_type": "stream",
          "text": [
            "glove already downloaded\n"
          ]
        }
      ],
      "source": [
        "classes = ['CC', 'CD', 'DT', 'EX', 'FW', 'IN', 'JJ', 'JJR', 'JJS', 'LS', 'MD', 'NN', 'NNS', \n",
        "           'NNP', 'NNPS', 'PDT', 'POS', 'PRP', 'PRP$', 'RB', 'RBR', 'RBS', 'RP', 'SYM', 'TO', \n",
        "           'UH', 'VB', 'VBD', 'VBG', 'VBN', 'VBP', 'VBZ', 'WDT', 'WP', 'WP$', 'WRB', '<PAD>'] # serve una classe per il padding vero?\n",
        "classes = {c: i for i, c in enumerate(classes)}\n",
        "glove_voc, embedding_matrix = get_glove()"
      ]
    },
    {
      "cell_type": "code",
      "execution_count": 8,
      "metadata": {
        "colab": {
          "base_uri": "https://localhost:8080/"
        },
        "id": "s-wBxXCs4IyJ",
        "outputId": "46e7308d-3323-4334-cbee-65a0784b4f0b"
      },
      "outputs": [],
      "source": [
        "def train():\n",
        "    cfg_dict = {\n",
        "        'epochs': cfg.EPOCHS, 'batch_size': cfg.BATCH_SIZE, \n",
        "        'model': cfg.TYPE, 'rec_size': cfg.REC_SIZE, 'units': cfg.UNITS, 'hid_size': cfg.HID_SIZE,\n",
        "        'optim': cfg.OPTIM, 'lr': cfg.LR, 'alpha': cfg.ALPHA, 'betas': cfg.BETAS, 'momentum': cfg.MOMENTUM, 'weight_decay': cfg.WEIGHT_DECAY\n",
        "    }\n",
        "\n",
        "    print('CONFIG PARAMETERS:')\n",
        "    pprint(cfg_dict)\n",
        "\n",
        "    wandb.login(key='bb91b382cc121df7e109ec0ad0275f1accc4c2f4')\n",
        "    run = wandb.init(project=\"assignment-one\", entity=\"nlpetroni\", reinit=True, config=cfg_dict)\n",
        "    wandb.define_metric(\"train_step\")\n",
        "    wandb.define_metric(\"epoch\")\n",
        "    wandb.define_metric('train/loss', step_metric=\"train_step\", summary=\"min\")\n",
        "    wandb.define_metric(\"valid/loss\", step_metric=\"epoch\", summary=\"min\")\n",
        "    wandb.define_metric(\"valid/accuracy\", step_metric=\"epoch\", summary=\"max\")\n",
        "    \n",
        "    train_set, train_labels, train_voc, counts = load_data(1, 100, glove_voc, classes, ret_counts=True)\n",
        "    valid_set, valid_labels, valid_voc = load_data(101, 150, glove_voc, classes)\n",
        "\n",
        "    train_dl = torch.utils.data.DataLoader(Dataset(train_set, train_labels), batch_size=cfg.BATCH_SIZE)\n",
        "    valid_dl = torch.utils.data.DataLoader(Dataset(valid_set, valid_labels), batch_size=cfg.BATCH_SIZE)\n",
        "\n",
        "    model = POSTagger(embedding_matrix, type=cfg.TYPE, rec_size=cfg.REC_SIZE, units=cfg.UNITS, hid_size=cfg.HID_SIZE).to(device)\n",
        "    wandb.watch(model, log_graph=True)\n",
        "    print(summary(model))\n",
        "\n",
        "    params = [p for p in model.parameters() if p.requires_grad]\n",
        "    if cfg.OPTIM == 'rmsprop':\n",
        "        optimizer = torch.optim.RMSprop(params, lr=cfg.LR, alpha=cfg.ALPHA, momentum=cfg.MOMENTUM, weight_decay=cfg.WEIGHT_DECAY)\n",
        "    elif cfg.OPTIM == 'adam':\n",
        "        optimizer = torch.optim.Adam(params, lr=cfg.LR, betas=cfg.BETAS, weight_decay=cfg.WEIGHT_DECAY)\n",
        "    else:\n",
        "        raise ValueError(f'wrong optim {cfg.OPTIM}, either rmsprop or adam')\n",
        "    loss = nn.NLLLoss()\n",
        "\n",
        "    train_step = 0\n",
        "    print('STARTING TRAINING')\n",
        "    \n",
        "    for epoch in range(cfg.EPOCHS):\n",
        "        log_dict = train_one_epoch(model, optimizer, loss, train_dl, device)\n",
        "        for batch_loss in log_dict['train/loss']:\n",
        "            wandb.log({'train_step': train_step, 'epoch': epoch, 'train/loss': batch_loss})\n",
        "            train_step += 1\n",
        "        log_dict = evaluate(model, loss, valid_dl, device)\n",
        "        wandb.log({'epoch': epoch, 'valid/loss': log_dict['valid/loss'], 'valid/accuracy': log_dict['valid/accuracy']})\n",
        "    run.finish()\n"
      ]
    },
    {
      "cell_type": "code",
      "execution_count": 9,
      "metadata": {},
      "outputs": [
        {
          "name": "stdout",
          "output_type": "stream",
          "text": [
            "dependency_treebank already downloaded\n"
          ]
        }
      ],
      "source": [
        "test_set, test_labels, test_voc = load_data(151, 199, glove_voc, classes)\n",
        "test_dl = torch.utils.data.DataLoader(Dataset(test_set, test_labels))"
      ]
    },
    {
      "cell_type": "code",
      "execution_count": 10,
      "metadata": {},
      "outputs": [
        {
          "name": "stderr",
          "output_type": "stream",
          "text": [
            "Failed to detect the name of this notebook, you can set it manually with the WANDB_NOTEBOOK_NAME environment variable to enable code saving.\n"
          ]
        },
        {
          "name": "stdout",
          "output_type": "stream",
          "text": [
            "CONFIG PARAMETERS:\n",
            "{'alpha': 0.99,\n",
            " 'batch_size': 64,\n",
            " 'betas': (0.9, 0.999),\n",
            " 'epochs': 250,\n",
            " 'hid_size': 20,\n",
            " 'lr': 0.01,\n",
            " 'model': 'lstm',\n",
            " 'momentum': 0.5,\n",
            " 'optim': 'rmsprop',\n",
            " 'rec_size': 1,\n",
            " 'units': None,\n",
            " 'weight_decay': 0}\n"
          ]
        },
        {
          "name": "stderr",
          "output_type": "stream",
          "text": [
            "\u001b[34m\u001b[1mwandb\u001b[0m: Currently logged in as: \u001b[33mdiegochine\u001b[0m (use `wandb login --relogin` to force relogin)\n",
            "\u001b[34m\u001b[1mwandb\u001b[0m: \u001b[33mWARNING\u001b[0m If you're specifying your api key in code, ensure this code is not shared publically.\n",
            "\u001b[34m\u001b[1mwandb\u001b[0m: \u001b[33mWARNING\u001b[0m Consider setting the WANDB_API_KEY environment variable, or running `wandb login` from the command line.\n",
            "\u001b[34m\u001b[1mwandb\u001b[0m: Appending key for api.wandb.ai to your netrc file: /home/diego/.netrc\n",
            "/home/diego/miniconda3/envs/nlp/lib/python3.9/site-packages/IPython/html.py:12: ShimWarning: The `IPython.html` package has been deprecated since IPython 4.0. You should import from `notebook` instead. `IPython.html.widgets` has moved to `ipywidgets`.\n",
            "  warn(\"The `IPython.html` package has been deprecated since IPython 4.0. \"\n"
          ]
        },
        {
          "data": {
            "text/html": [
              "\n",
              "                    Syncing run <strong><a href=\"https://wandb.ai/nlpetroni/assignment-one/runs/2nlsxz7f\" target=\"_blank\">wise-blaze-22</a></strong> to <a href=\"https://wandb.ai/nlpetroni/assignment-one\" target=\"_blank\">Weights & Biases</a> (<a href=\"https://docs.wandb.com/integrations/jupyter.html\" target=\"_blank\">docs</a>).<br/>\n",
              "\n",
              "                "
            ],
            "text/plain": [
              "<IPython.core.display.HTML object>"
            ]
          },
          "metadata": {},
          "output_type": "display_data"
        },
        {
          "name": "stdout",
          "output_type": "stream",
          "text": [
            "dependency_treebank already downloaded\n",
            "dependency_treebank already downloaded\n"
          ]
        },
        {
          "name": "stderr",
          "output_type": "stream",
          "text": [
            "\u001b[34m\u001b[1mwandb\u001b[0m: logging graph, to disable use `wandb.watch(log_graph=False)`\n"
          ]
        },
        {
          "name": "stdout",
          "output_type": "stream",
          "text": [
            "=================================================================\n",
            "Layer (type:depth-idx)                   Param #\n",
            "=================================================================\n",
            "POSTagger                                --\n",
            "├─Embedding: 1-1                         (40,000,200)\n",
            "├─LSTM: 1-2                              19,520\n",
            "├─Sequential: 1-3                        --\n",
            "│    └─Linear: 2-1                       1,517\n",
            "├─LogSoftmax: 1-4                        --\n",
            "=================================================================\n",
            "Total params: 40,021,237\n",
            "Trainable params: 21,037\n",
            "Non-trainable params: 40,000,200\n",
            "=================================================================\n",
            "STARTING TRAINING\n"
          ]
        },
        {
          "data": {
            "text/html": [
              "<br/>Waiting for W&B process to finish, PID 9147... <strong style=\"color:green\">(success).</strong>"
            ],
            "text/plain": [
              "<IPython.core.display.HTML object>"
            ]
          },
          "metadata": {},
          "output_type": "display_data"
        },
        {
          "data": {
            "text/html": [
              "<style>\n",
              "    table.wandb td:nth-child(1) { padding: 0 10px; text-align: right }\n",
              "    .wandb-row { display: flex; flex-direction: row; flex-wrap: wrap; width: 100% }\n",
              "    .wandb-col { display: flex; flex-direction: column; flex-basis: 100%; flex: 1; padding: 10px; }\n",
              "    </style>\n",
              "<div class=\"wandb-row\"><div class=\"wandb-col\">\n",
              "<h3>Run history:</h3><br/><table class=\"wandb\"><tr><td>epoch</td><td>▁▁▁▂▂▂▂▂▂▃▃▃▃▃▄▄▄▄▄▄▅▅▅▅▅▅▆▆▆▆▆▇▇▇▇▇▇███</td></tr><tr><td>train/loss</td><td>▆▂▃▂▃▅██▆▆▇▅▅▁▂▄██▆▅▇▄▅▃▆▁██▆▅▇▄▅▃▇▂▄▅▅▆</td></tr><tr><td>train_step</td><td>▁▁▁▂▂▂▂▂▂▃▃▃▃▃▄▄▄▄▄▄▅▅▅▅▅▅▆▆▆▆▆▇▇▇▇▇▇███</td></tr><tr><td>valid/accuracy</td><td>█▆▅▄▃▃▂▁▂▂▂▂▃▃▃▃▃▃▃▃▃▃▃▃▃▃▃▃▃▃▃▃▃▃▂▂▃▂▂▂</td></tr><tr><td>valid/loss</td><td>▅▁▁▁▂▂▃▃▄▄▄▄▅▅▅▅▆▆▆▆▆▇▆▇▇▇▇▇▇▇████▇▆▆▆▆▆</td></tr></table><br/></div><div class=\"wandb-col\">\n",
              "<h3>Run summary:</h3><br/><table class=\"wandb\"><tr><td>epoch</td><td>249</td></tr><tr><td>train_step</td><td>7749</td></tr></table>\n",
              "</div></div>\n",
              "Synced 6 W&B file(s), 1 media file(s), 0 artifact file(s) and 0 other file(s)\n",
              "<br/>Synced <strong style=\"color:#cdcd00\">wise-blaze-22</strong>: <a href=\"https://wandb.ai/nlpetroni/assignment-one/runs/2nlsxz7f\" target=\"_blank\">https://wandb.ai/nlpetroni/assignment-one/runs/2nlsxz7f</a><br/>\n",
              "Find logs at: <code>./wandb/run-20211118_001610-2nlsxz7f/logs</code><br/>\n"
            ],
            "text/plain": [
              "<IPython.core.display.HTML object>"
            ]
          },
          "metadata": {},
          "output_type": "display_data"
        },
        {
          "name": "stderr",
          "output_type": "stream",
          "text": [
            "\u001b[34m\u001b[1mwandb\u001b[0m: \u001b[33mWARNING\u001b[0m If you're specifying your api key in code, ensure this code is not shared publically.\n",
            "\u001b[34m\u001b[1mwandb\u001b[0m: \u001b[33mWARNING\u001b[0m Consider setting the WANDB_API_KEY environment variable, or running `wandb login` from the command line.\n",
            "\u001b[34m\u001b[1mwandb\u001b[0m: Appending key for api.wandb.ai to your netrc file: /home/diego/.netrc\n"
          ]
        },
        {
          "name": "stdout",
          "output_type": "stream",
          "text": [
            "CONFIG PARAMETERS:\n",
            "{'alpha': 0.99,\n",
            " 'batch_size': 64,\n",
            " 'betas': (0.9, 0.999),\n",
            " 'epochs': 250,\n",
            " 'hid_size': 20,\n",
            " 'lr': 0.01,\n",
            " 'model': 'lstm',\n",
            " 'momentum': 0.5,\n",
            " 'optim': 'rmsprop',\n",
            " 'rec_size': 2,\n",
            " 'units': None,\n",
            " 'weight_decay': 0}\n"
          ]
        },
        {
          "data": {
            "text/html": [
              "\n",
              "                    Syncing run <strong><a href=\"https://wandb.ai/nlpetroni/assignment-one/runs/qp1a1cyo\" target=\"_blank\">logical-vortex-23</a></strong> to <a href=\"https://wandb.ai/nlpetroni/assignment-one\" target=\"_blank\">Weights & Biases</a> (<a href=\"https://docs.wandb.com/integrations/jupyter.html\" target=\"_blank\">docs</a>).<br/>\n",
              "\n",
              "                "
            ],
            "text/plain": [
              "<IPython.core.display.HTML object>"
            ]
          },
          "metadata": {},
          "output_type": "display_data"
        },
        {
          "name": "stderr",
          "output_type": "stream",
          "text": [
            "\u001b[34m\u001b[1mwandb\u001b[0m: logging graph, to disable use `wandb.watch(log_graph=False)`\n"
          ]
        },
        {
          "name": "stdout",
          "output_type": "stream",
          "text": [
            "dependency_treebank already downloaded\n",
            "dependency_treebank already downloaded\n",
            "=================================================================\n",
            "Layer (type:depth-idx)                   Param #\n",
            "=================================================================\n",
            "POSTagger                                --\n",
            "├─Embedding: 1-1                         (40,000,200)\n",
            "├─LSTM: 1-2                              29,440\n",
            "├─Sequential: 1-3                        --\n",
            "│    └─Linear: 2-1                       1,517\n",
            "├─LogSoftmax: 1-4                        --\n",
            "=================================================================\n",
            "Total params: 40,031,157\n",
            "Trainable params: 30,957\n",
            "Non-trainable params: 40,000,200\n",
            "=================================================================\n",
            "STARTING TRAINING\n"
          ]
        },
        {
          "data": {
            "text/html": [
              "<br/>Waiting for W&B process to finish, PID 9452... <strong style=\"color:green\">(success).</strong>"
            ],
            "text/plain": [
              "<IPython.core.display.HTML object>"
            ]
          },
          "metadata": {},
          "output_type": "display_data"
        },
        {
          "data": {
            "text/html": [
              "<style>\n",
              "    table.wandb td:nth-child(1) { padding: 0 10px; text-align: right }\n",
              "    .wandb-row { display: flex; flex-direction: row; flex-wrap: wrap; width: 100% }\n",
              "    .wandb-col { display: flex; flex-direction: column; flex-basis: 100%; flex: 1; padding: 10px; }\n",
              "    </style>\n",
              "<div class=\"wandb-row\"><div class=\"wandb-col\">\n",
              "<h3>Run history:</h3><br/><table class=\"wandb\"><tr><td>epoch</td><td>▁▁▁▂▂▂▂▂▂▃▃▃▃▃▄▄▄▄▄▄▅▅▅▅▅▅▆▆▆▆▆▇▇▇▇▇▇███</td></tr><tr><td>train/loss</td><td>▇▂▃▂▃▅██▆▆▇▅▅▁▃▅██▆▆▇▅▅▃▆▁██▆▅▇▄▄▃▅▁▄▄▅▅</td></tr><tr><td>train_step</td><td>▁▁▁▂▂▂▂▂▂▃▃▃▃▃▄▄▄▄▄▄▅▅▅▅▅▅▆▆▆▆▆▇▇▇▇▇▇███</td></tr><tr><td>valid/accuracy</td><td>██▇▆▆▅▅▅▅▄▆▆▆▅▂▂▂▁▁▁▅▅▄▅▃▄▅▅▅▅▂▅▅▅▅▅▆▆▆▆</td></tr><tr><td>valid/loss</td><td>█▁▁▁▁▂▂▃▃▃▄▄▅▄▄▄▄▅▅▅▄▅▅▅▅▅▅▆▆▆▆▇▆▇▇▇▇█▇▇</td></tr></table><br/></div><div class=\"wandb-col\">\n",
              "<h3>Run summary:</h3><br/><table class=\"wandb\"><tr><td>epoch</td><td>249</td></tr><tr><td>train_step</td><td>7749</td></tr></table>\n",
              "</div></div>\n",
              "Synced 6 W&B file(s), 1 media file(s), 0 artifact file(s) and 0 other file(s)\n",
              "<br/>Synced <strong style=\"color:#cdcd00\">logical-vortex-23</strong>: <a href=\"https://wandb.ai/nlpetroni/assignment-one/runs/qp1a1cyo\" target=\"_blank\">https://wandb.ai/nlpetroni/assignment-one/runs/qp1a1cyo</a><br/>\n",
              "Find logs at: <code>./wandb/run-20211118_001824-qp1a1cyo/logs</code><br/>\n"
            ],
            "text/plain": [
              "<IPython.core.display.HTML object>"
            ]
          },
          "metadata": {},
          "output_type": "display_data"
        },
        {
          "name": "stderr",
          "output_type": "stream",
          "text": [
            "\u001b[34m\u001b[1mwandb\u001b[0m: \u001b[33mWARNING\u001b[0m If you're specifying your api key in code, ensure this code is not shared publically.\n",
            "\u001b[34m\u001b[1mwandb\u001b[0m: \u001b[33mWARNING\u001b[0m Consider setting the WANDB_API_KEY environment variable, or running `wandb login` from the command line.\n",
            "\u001b[34m\u001b[1mwandb\u001b[0m: Appending key for api.wandb.ai to your netrc file: /home/diego/.netrc\n"
          ]
        },
        {
          "name": "stdout",
          "output_type": "stream",
          "text": [
            "CONFIG PARAMETERS:\n",
            "{'alpha': 0.99,\n",
            " 'batch_size': 64,\n",
            " 'betas': (0.9, 0.999),\n",
            " 'epochs': 250,\n",
            " 'hid_size': 20,\n",
            " 'lr': 0.01,\n",
            " 'model': 'lstm',\n",
            " 'momentum': 0.5,\n",
            " 'optim': 'rmsprop',\n",
            " 'rec_size': 1,\n",
            " 'units': 16,\n",
            " 'weight_decay': 0}\n"
          ]
        },
        {
          "data": {
            "text/html": [
              "\n",
              "                    Syncing run <strong><a href=\"https://wandb.ai/nlpetroni/assignment-one/runs/1gko2slt\" target=\"_blank\">happy-star-24</a></strong> to <a href=\"https://wandb.ai/nlpetroni/assignment-one\" target=\"_blank\">Weights & Biases</a> (<a href=\"https://docs.wandb.com/integrations/jupyter.html\" target=\"_blank\">docs</a>).<br/>\n",
              "\n",
              "                "
            ],
            "text/plain": [
              "<IPython.core.display.HTML object>"
            ]
          },
          "metadata": {},
          "output_type": "display_data"
        },
        {
          "name": "stderr",
          "output_type": "stream",
          "text": [
            "\u001b[34m\u001b[1mwandb\u001b[0m: logging graph, to disable use `wandb.watch(log_graph=False)`\n"
          ]
        },
        {
          "name": "stdout",
          "output_type": "stream",
          "text": [
            "dependency_treebank already downloaded\n",
            "dependency_treebank already downloaded\n",
            "=================================================================\n",
            "Layer (type:depth-idx)                   Param #\n",
            "=================================================================\n",
            "POSTagger                                --\n",
            "├─Embedding: 1-1                         (40,000,200)\n",
            "├─LSTM: 1-2                              19,520\n",
            "├─Sequential: 1-3                        --\n",
            "│    └─Linear: 2-1                       656\n",
            "│    └─Linear: 2-2                       629\n",
            "├─LogSoftmax: 1-4                        --\n",
            "=================================================================\n",
            "Total params: 40,021,005\n",
            "Trainable params: 20,805\n",
            "Non-trainable params: 40,000,200\n",
            "=================================================================\n",
            "STARTING TRAINING\n"
          ]
        },
        {
          "data": {
            "text/html": [
              "<br/>Waiting for W&B process to finish, PID 9718... <strong style=\"color:green\">(success).</strong>"
            ],
            "text/plain": [
              "<IPython.core.display.HTML object>"
            ]
          },
          "metadata": {},
          "output_type": "display_data"
        },
        {
          "data": {
            "text/html": [
              "<style>\n",
              "    table.wandb td:nth-child(1) { padding: 0 10px; text-align: right }\n",
              "    .wandb-row { display: flex; flex-direction: row; flex-wrap: wrap; width: 100% }\n",
              "    .wandb-col { display: flex; flex-direction: column; flex-basis: 100%; flex: 1; padding: 10px; }\n",
              "    </style>\n",
              "<div class=\"wandb-row\"><div class=\"wandb-col\">\n",
              "<h3>Run history:</h3><br/><table class=\"wandb\"><tr><td>epoch</td><td>▁▁▁▂▂▂▂▂▂▃▃▃▃▃▄▄▄▄▄▄▅▅▅▅▅▅▆▆▆▆▆▇▇▇▇▇▇███</td></tr><tr><td>train/loss</td><td>▆▂▃▂▃▅██▆▆▇▅▅▁▂▄██▆▅▇▄▅▃▅▁██▆▅▇▄▄▃▅▁▃▄▄▅</td></tr><tr><td>train_step</td><td>▁▁▁▂▂▂▂▂▂▃▃▃▃▃▄▄▄▄▄▄▅▅▅▅▅▅▆▆▆▆▆▇▇▇▇▇▇███</td></tr><tr><td>valid/accuracy</td><td>▁▂▇████▇█▇▇▇▇▇▇▇▇▇▇▇▇▇▇▇▇▆▇▇▇▇▇▇▆▆▇▇▆▆▆▇</td></tr><tr><td>valid/loss</td><td>█▂▁▁▂▂▃▃▃▃▄▄▄▄▄▅▅▅▆▆▆▆▆▆▆▆▇▆▆▇▇▇▇▇▇▇▇▇▇▇</td></tr></table><br/></div><div class=\"wandb-col\">\n",
              "<h3>Run summary:</h3><br/><table class=\"wandb\"><tr><td>epoch</td><td>249</td></tr><tr><td>train_step</td><td>7749</td></tr></table>\n",
              "</div></div>\n",
              "Synced 6 W&B file(s), 1 media file(s), 0 artifact file(s) and 0 other file(s)\n",
              "<br/>Synced <strong style=\"color:#cdcd00\">happy-star-24</strong>: <a href=\"https://wandb.ai/nlpetroni/assignment-one/runs/1gko2slt\" target=\"_blank\">https://wandb.ai/nlpetroni/assignment-one/runs/1gko2slt</a><br/>\n",
              "Find logs at: <code>./wandb/run-20211118_002220-1gko2slt/logs</code><br/>\n"
            ],
            "text/plain": [
              "<IPython.core.display.HTML object>"
            ]
          },
          "metadata": {},
          "output_type": "display_data"
        },
        {
          "name": "stderr",
          "output_type": "stream",
          "text": [
            "\u001b[34m\u001b[1mwandb\u001b[0m: \u001b[33mWARNING\u001b[0m If you're specifying your api key in code, ensure this code is not shared publically.\n",
            "\u001b[34m\u001b[1mwandb\u001b[0m: \u001b[33mWARNING\u001b[0m Consider setting the WANDB_API_KEY environment variable, or running `wandb login` from the command line.\n",
            "\u001b[34m\u001b[1mwandb\u001b[0m: Appending key for api.wandb.ai to your netrc file: /home/diego/.netrc\n"
          ]
        },
        {
          "name": "stdout",
          "output_type": "stream",
          "text": [
            "CONFIG PARAMETERS:\n",
            "{'alpha': 0.99,\n",
            " 'batch_size': 64,\n",
            " 'betas': (0.9, 0.999),\n",
            " 'epochs': 250,\n",
            " 'hid_size': 20,\n",
            " 'lr': 0.01,\n",
            " 'model': 'lstm',\n",
            " 'momentum': 0.5,\n",
            " 'optim': 'rmsprop',\n",
            " 'rec_size': 1,\n",
            " 'units': 32,\n",
            " 'weight_decay': 0}\n"
          ]
        },
        {
          "data": {
            "text/html": [
              "\n",
              "                    Syncing run <strong><a href=\"https://wandb.ai/nlpetroni/assignment-one/runs/38pmba6n\" target=\"_blank\">dry-spaceship-25</a></strong> to <a href=\"https://wandb.ai/nlpetroni/assignment-one\" target=\"_blank\">Weights & Biases</a> (<a href=\"https://docs.wandb.com/integrations/jupyter.html\" target=\"_blank\">docs</a>).<br/>\n",
              "\n",
              "                "
            ],
            "text/plain": [
              "<IPython.core.display.HTML object>"
            ]
          },
          "metadata": {},
          "output_type": "display_data"
        },
        {
          "name": "stderr",
          "output_type": "stream",
          "text": [
            "\u001b[34m\u001b[1mwandb\u001b[0m: logging graph, to disable use `wandb.watch(log_graph=False)`\n"
          ]
        },
        {
          "name": "stdout",
          "output_type": "stream",
          "text": [
            "dependency_treebank already downloaded\n",
            "dependency_treebank already downloaded\n",
            "=================================================================\n",
            "Layer (type:depth-idx)                   Param #\n",
            "=================================================================\n",
            "POSTagger                                --\n",
            "├─Embedding: 1-1                         (40,000,200)\n",
            "├─LSTM: 1-2                              19,520\n",
            "├─Sequential: 1-3                        --\n",
            "│    └─Linear: 2-1                       1,312\n",
            "│    └─Linear: 2-2                       1,221\n",
            "├─LogSoftmax: 1-4                        --\n",
            "=================================================================\n",
            "Total params: 40,022,253\n",
            "Trainable params: 22,053\n",
            "Non-trainable params: 40,000,200\n",
            "=================================================================\n",
            "STARTING TRAINING\n"
          ]
        },
        {
          "data": {
            "text/html": [
              "<br/>Waiting for W&B process to finish, PID 9775... <strong style=\"color:green\">(success).</strong>"
            ],
            "text/plain": [
              "<IPython.core.display.HTML object>"
            ]
          },
          "metadata": {},
          "output_type": "display_data"
        },
        {
          "data": {
            "text/html": [
              "<style>\n",
              "    table.wandb td:nth-child(1) { padding: 0 10px; text-align: right }\n",
              "    .wandb-row { display: flex; flex-direction: row; flex-wrap: wrap; width: 100% }\n",
              "    .wandb-col { display: flex; flex-direction: column; flex-basis: 100%; flex: 1; padding: 10px; }\n",
              "    </style>\n",
              "<div class=\"wandb-row\"><div class=\"wandb-col\">\n",
              "<h3>Run history:</h3><br/><table class=\"wandb\"><tr><td>epoch</td><td>▁▁▁▂▂▂▂▂▂▃▃▃▃▃▄▄▄▄▄▄▅▅▅▅▅▅▆▆▆▆▆▇▇▇▇▇▇███</td></tr><tr><td>train/loss</td><td>▆▂▃▂▃▅██▆▆▇▅▅▁▂▅██▆▅▇▅▅▃▆▁██▆▅▇▄▄▃▆▁▄▄▅▅</td></tr><tr><td>train_step</td><td>▁▁▁▂▂▂▂▂▂▃▃▃▃▃▄▄▄▄▄▄▅▅▅▅▅▅▆▆▆▆▆▇▇▇▇▇▇███</td></tr><tr><td>valid/accuracy</td><td>██████▇▇▇▇▇▇▇▇▇▆▆▆▅▅▆▅▆▄▅▅▂▃▄▄▃▂▃▁▃▂▁▂▂▂</td></tr><tr><td>valid/loss</td><td>▆▁▁▁▁▂▃▃▃▄▄▄▅▅▅▅▅▆▆▆▆▆▆▆▆▇▇▆▇▇▇▇▇▇▇█████</td></tr></table><br/></div><div class=\"wandb-col\">\n",
              "<h3>Run summary:</h3><br/><table class=\"wandb\"><tr><td>epoch</td><td>249</td></tr><tr><td>train_step</td><td>7749</td></tr></table>\n",
              "</div></div>\n",
              "Synced 6 W&B file(s), 1 media file(s), 0 artifact file(s) and 0 other file(s)\n",
              "<br/>Synced <strong style=\"color:#cdcd00\">dry-spaceship-25</strong>: <a href=\"https://wandb.ai/nlpetroni/assignment-one/runs/38pmba6n\" target=\"_blank\">https://wandb.ai/nlpetroni/assignment-one/runs/38pmba6n</a><br/>\n",
              "Find logs at: <code>./wandb/run-20211118_002430-38pmba6n/logs</code><br/>\n"
            ],
            "text/plain": [
              "<IPython.core.display.HTML object>"
            ]
          },
          "metadata": {},
          "output_type": "display_data"
        },
        {
          "name": "stderr",
          "output_type": "stream",
          "text": [
            "\u001b[34m\u001b[1mwandb\u001b[0m: \u001b[33mWARNING\u001b[0m If you're specifying your api key in code, ensure this code is not shared publically.\n",
            "\u001b[34m\u001b[1mwandb\u001b[0m: \u001b[33mWARNING\u001b[0m Consider setting the WANDB_API_KEY environment variable, or running `wandb login` from the command line.\n",
            "\u001b[34m\u001b[1mwandb\u001b[0m: Appending key for api.wandb.ai to your netrc file: /home/diego/.netrc\n"
          ]
        },
        {
          "name": "stdout",
          "output_type": "stream",
          "text": [
            "CONFIG PARAMETERS:\n",
            "{'alpha': 0.99,\n",
            " 'batch_size': 64,\n",
            " 'betas': (0.9, 0.999),\n",
            " 'epochs': 250,\n",
            " 'hid_size': 20,\n",
            " 'lr': 0.01,\n",
            " 'model': 'lstm',\n",
            " 'momentum': 0.5,\n",
            " 'optim': 'adam',\n",
            " 'rec_size': 1,\n",
            " 'units': None,\n",
            " 'weight_decay': 0}\n"
          ]
        },
        {
          "data": {
            "text/html": [
              "\n",
              "                    Syncing run <strong><a href=\"https://wandb.ai/nlpetroni/assignment-one/runs/3h7b9gwa\" target=\"_blank\">wild-frost-26</a></strong> to <a href=\"https://wandb.ai/nlpetroni/assignment-one\" target=\"_blank\">Weights & Biases</a> (<a href=\"https://docs.wandb.com/integrations/jupyter.html\" target=\"_blank\">docs</a>).<br/>\n",
              "\n",
              "                "
            ],
            "text/plain": [
              "<IPython.core.display.HTML object>"
            ]
          },
          "metadata": {},
          "output_type": "display_data"
        },
        {
          "name": "stderr",
          "output_type": "stream",
          "text": [
            "\u001b[34m\u001b[1mwandb\u001b[0m: logging graph, to disable use `wandb.watch(log_graph=False)`\n"
          ]
        },
        {
          "name": "stdout",
          "output_type": "stream",
          "text": [
            "dependency_treebank already downloaded\n",
            "dependency_treebank already downloaded\n",
            "=================================================================\n",
            "Layer (type:depth-idx)                   Param #\n",
            "=================================================================\n",
            "POSTagger                                --\n",
            "├─Embedding: 1-1                         (40,000,200)\n",
            "├─LSTM: 1-2                              19,520\n",
            "├─Sequential: 1-3                        --\n",
            "│    └─Linear: 2-1                       1,517\n",
            "├─LogSoftmax: 1-4                        --\n",
            "=================================================================\n",
            "Total params: 40,021,237\n",
            "Trainable params: 21,037\n",
            "Non-trainable params: 40,000,200\n",
            "=================================================================\n",
            "STARTING TRAINING\n"
          ]
        },
        {
          "data": {
            "text/html": [
              "<br/>Waiting for W&B process to finish, PID 9826... <strong style=\"color:green\">(success).</strong>"
            ],
            "text/plain": [
              "<IPython.core.display.HTML object>"
            ]
          },
          "metadata": {},
          "output_type": "display_data"
        },
        {
          "data": {
            "text/html": [
              "<style>\n",
              "    table.wandb td:nth-child(1) { padding: 0 10px; text-align: right }\n",
              "    .wandb-row { display: flex; flex-direction: row; flex-wrap: wrap; width: 100% }\n",
              "    .wandb-col { display: flex; flex-direction: column; flex-basis: 100%; flex: 1; padding: 10px; }\n",
              "    </style>\n",
              "<div class=\"wandb-row\"><div class=\"wandb-col\">\n",
              "<h3>Run history:</h3><br/><table class=\"wandb\"><tr><td>epoch</td><td>▁▁▁▂▂▂▂▂▂▃▃▃▃▃▄▄▄▄▄▄▅▅▅▅▅▅▆▆▆▆▆▇▇▇▇▇▇███</td></tr><tr><td>train/loss</td><td>█▃▃▂▃▄▇▇▅▅▆▄▄▁▂▄▇▇▅▅▆▄▄▃▅▁▇▇▅▅▆▄▄▃▅▁▃▄▄▅</td></tr><tr><td>train_step</td><td>▁▁▁▂▂▂▂▂▂▃▃▃▃▃▄▄▄▄▄▄▅▅▅▅▅▅▆▆▆▆▆▇▇▇▇▇▇███</td></tr><tr><td>valid/accuracy</td><td>█▅▅▅▄▄▄▃▂▃▂▂▂▂▄▂▃▂▂▁▁▁▁▁▁▁▂▂▂▃▃▃▃▃▃▃▃▃▃▃</td></tr><tr><td>valid/loss</td><td>█▂▁▁▁▁▁▁▁▂▂▂▂▂▂▂▂▂▂▃▃▃▃▃▃▃▃▃▃▃▃▃▃▃▃▃▃▃▃▃</td></tr></table><br/></div><div class=\"wandb-col\">\n",
              "<h3>Run summary:</h3><br/><table class=\"wandb\"><tr><td>epoch</td><td>249</td></tr><tr><td>train_step</td><td>7749</td></tr></table>\n",
              "</div></div>\n",
              "Synced 6 W&B file(s), 1 media file(s), 0 artifact file(s) and 0 other file(s)\n",
              "<br/>Synced <strong style=\"color:#cdcd00\">wild-frost-26</strong>: <a href=\"https://wandb.ai/nlpetroni/assignment-one/runs/3h7b9gwa\" target=\"_blank\">https://wandb.ai/nlpetroni/assignment-one/runs/3h7b9gwa</a><br/>\n",
              "Find logs at: <code>./wandb/run-20211118_002640-3h7b9gwa/logs</code><br/>\n"
            ],
            "text/plain": [
              "<IPython.core.display.HTML object>"
            ]
          },
          "metadata": {},
          "output_type": "display_data"
        },
        {
          "name": "stderr",
          "output_type": "stream",
          "text": [
            "\u001b[34m\u001b[1mwandb\u001b[0m: \u001b[33mWARNING\u001b[0m If you're specifying your api key in code, ensure this code is not shared publically.\n",
            "\u001b[34m\u001b[1mwandb\u001b[0m: \u001b[33mWARNING\u001b[0m Consider setting the WANDB_API_KEY environment variable, or running `wandb login` from the command line.\n",
            "\u001b[34m\u001b[1mwandb\u001b[0m: Appending key for api.wandb.ai to your netrc file: /home/diego/.netrc\n"
          ]
        },
        {
          "name": "stdout",
          "output_type": "stream",
          "text": [
            "CONFIG PARAMETERS:\n",
            "{'alpha': 0.99,\n",
            " 'batch_size': 64,\n",
            " 'betas': (0.9, 0.999),\n",
            " 'epochs': 250,\n",
            " 'hid_size': 20,\n",
            " 'lr': 0.01,\n",
            " 'model': 'lstm',\n",
            " 'momentum': 0.5,\n",
            " 'optim': 'adam',\n",
            " 'rec_size': 2,\n",
            " 'units': None,\n",
            " 'weight_decay': 0}\n"
          ]
        },
        {
          "data": {
            "text/html": [
              "\n",
              "                    Syncing run <strong><a href=\"https://wandb.ai/nlpetroni/assignment-one/runs/2e7ndldr\" target=\"_blank\">amber-resonance-27</a></strong> to <a href=\"https://wandb.ai/nlpetroni/assignment-one\" target=\"_blank\">Weights & Biases</a> (<a href=\"https://docs.wandb.com/integrations/jupyter.html\" target=\"_blank\">docs</a>).<br/>\n",
              "\n",
              "                "
            ],
            "text/plain": [
              "<IPython.core.display.HTML object>"
            ]
          },
          "metadata": {},
          "output_type": "display_data"
        },
        {
          "name": "stderr",
          "output_type": "stream",
          "text": [
            "\u001b[34m\u001b[1mwandb\u001b[0m: logging graph, to disable use `wandb.watch(log_graph=False)`\n"
          ]
        },
        {
          "name": "stdout",
          "output_type": "stream",
          "text": [
            "dependency_treebank already downloaded\n",
            "dependency_treebank already downloaded\n",
            "=================================================================\n",
            "Layer (type:depth-idx)                   Param #\n",
            "=================================================================\n",
            "POSTagger                                --\n",
            "├─Embedding: 1-1                         (40,000,200)\n",
            "├─LSTM: 1-2                              29,440\n",
            "├─Sequential: 1-3                        --\n",
            "│    └─Linear: 2-1                       1,517\n",
            "├─LogSoftmax: 1-4                        --\n",
            "=================================================================\n",
            "Total params: 40,031,157\n",
            "Trainable params: 30,957\n",
            "Non-trainable params: 40,000,200\n",
            "=================================================================\n",
            "STARTING TRAINING\n"
          ]
        },
        {
          "data": {
            "text/html": [
              "<br/>Waiting for W&B process to finish, PID 9903... <strong style=\"color:green\">(success).</strong>"
            ],
            "text/plain": [
              "<IPython.core.display.HTML object>"
            ]
          },
          "metadata": {},
          "output_type": "display_data"
        },
        {
          "data": {
            "text/html": [
              "<style>\n",
              "    table.wandb td:nth-child(1) { padding: 0 10px; text-align: right }\n",
              "    .wandb-row { display: flex; flex-direction: row; flex-wrap: wrap; width: 100% }\n",
              "    .wandb-col { display: flex; flex-direction: column; flex-basis: 100%; flex: 1; padding: 10px; }\n",
              "    </style>\n",
              "<div class=\"wandb-row\"><div class=\"wandb-col\">\n",
              "<h3>Run history:</h3><br/><table class=\"wandb\"><tr><td>epoch</td><td>▁▁▁▂▂▂▂▂▂▃▃▃▃▃▄▄▄▄▄▄▅▅▅▅▅▅▆▆▆▆▆▇▇▇▇▇▇███</td></tr><tr><td>train/loss</td><td>█▂▂▁▂▃▅▅▄▃▄▃▃▁▂▃▅▅▃▃▄▃▃▂▃▁▅▄▃▃▄▃▃▂▃▁▂▃▃▃</td></tr><tr><td>train_step</td><td>▁▁▁▂▂▂▂▂▂▃▃▃▃▃▄▄▄▄▄▄▅▅▅▅▅▅▆▆▆▆▆▇▇▇▇▇▇███</td></tr><tr><td>valid/accuracy</td><td>▁█▇▆▆▇▆▆▇▆▆▆▆▇▇▆▆▆▆▆▆▆▆▆▆▆▅▅▅▃▄▄▄▄▄▃▄▄▄▄</td></tr><tr><td>valid/loss</td><td>█▁▁▁▁▁▁▁▁▁▁▁▁▁▁▁▂▂▂▂▂▂▂▂▂▂▂▂▂▂▂▂▂▂▂▂▂▂▂▂</td></tr></table><br/></div><div class=\"wandb-col\">\n",
              "<h3>Run summary:</h3><br/><table class=\"wandb\"><tr><td>epoch</td><td>249</td></tr><tr><td>train_step</td><td>7749</td></tr></table>\n",
              "</div></div>\n",
              "Synced 6 W&B file(s), 1 media file(s), 0 artifact file(s) and 0 other file(s)\n",
              "<br/>Synced <strong style=\"color:#cdcd00\">amber-resonance-27</strong>: <a href=\"https://wandb.ai/nlpetroni/assignment-one/runs/2e7ndldr\" target=\"_blank\">https://wandb.ai/nlpetroni/assignment-one/runs/2e7ndldr</a><br/>\n",
              "Find logs at: <code>./wandb/run-20211118_002848-2e7ndldr/logs</code><br/>\n"
            ],
            "text/plain": [
              "<IPython.core.display.HTML object>"
            ]
          },
          "metadata": {},
          "output_type": "display_data"
        },
        {
          "name": "stderr",
          "output_type": "stream",
          "text": [
            "\u001b[34m\u001b[1mwandb\u001b[0m: \u001b[33mWARNING\u001b[0m If you're specifying your api key in code, ensure this code is not shared publically.\n",
            "\u001b[34m\u001b[1mwandb\u001b[0m: \u001b[33mWARNING\u001b[0m Consider setting the WANDB_API_KEY environment variable, or running `wandb login` from the command line.\n",
            "\u001b[34m\u001b[1mwandb\u001b[0m: Appending key for api.wandb.ai to your netrc file: /home/diego/.netrc\n"
          ]
        },
        {
          "name": "stdout",
          "output_type": "stream",
          "text": [
            "CONFIG PARAMETERS:\n",
            "{'alpha': 0.99,\n",
            " 'batch_size': 64,\n",
            " 'betas': (0.9, 0.999),\n",
            " 'epochs': 250,\n",
            " 'hid_size': 20,\n",
            " 'lr': 0.01,\n",
            " 'model': 'lstm',\n",
            " 'momentum': 0.5,\n",
            " 'optim': 'adam',\n",
            " 'rec_size': 1,\n",
            " 'units': 16,\n",
            " 'weight_decay': 0}\n"
          ]
        },
        {
          "data": {
            "text/html": [
              "\n",
              "                    Syncing run <strong><a href=\"https://wandb.ai/nlpetroni/assignment-one/runs/1a2avijo\" target=\"_blank\">noble-vortex-28</a></strong> to <a href=\"https://wandb.ai/nlpetroni/assignment-one\" target=\"_blank\">Weights & Biases</a> (<a href=\"https://docs.wandb.com/integrations/jupyter.html\" target=\"_blank\">docs</a>).<br/>\n",
              "\n",
              "                "
            ],
            "text/plain": [
              "<IPython.core.display.HTML object>"
            ]
          },
          "metadata": {},
          "output_type": "display_data"
        },
        {
          "name": "stdout",
          "output_type": "stream",
          "text": [
            "dependency_treebank already downloaded\n",
            "dependency_treebank already downloaded\n"
          ]
        },
        {
          "name": "stderr",
          "output_type": "stream",
          "text": [
            "\u001b[34m\u001b[1mwandb\u001b[0m: logging graph, to disable use `wandb.watch(log_graph=False)`\n"
          ]
        },
        {
          "name": "stdout",
          "output_type": "stream",
          "text": [
            "=================================================================\n",
            "Layer (type:depth-idx)                   Param #\n",
            "=================================================================\n",
            "POSTagger                                --\n",
            "├─Embedding: 1-1                         (40,000,200)\n",
            "├─LSTM: 1-2                              19,520\n",
            "├─Sequential: 1-3                        --\n",
            "│    └─Linear: 2-1                       656\n",
            "│    └─Linear: 2-2                       629\n",
            "├─LogSoftmax: 1-4                        --\n",
            "=================================================================\n",
            "Total params: 40,021,005\n",
            "Trainable params: 20,805\n",
            "Non-trainable params: 40,000,200\n",
            "=================================================================\n",
            "STARTING TRAINING\n"
          ]
        },
        {
          "data": {
            "text/html": [
              "<br/>Waiting for W&B process to finish, PID 9999... <strong style=\"color:green\">(success).</strong>"
            ],
            "text/plain": [
              "<IPython.core.display.HTML object>"
            ]
          },
          "metadata": {},
          "output_type": "display_data"
        },
        {
          "data": {
            "text/html": [
              "<style>\n",
              "    table.wandb td:nth-child(1) { padding: 0 10px; text-align: right }\n",
              "    .wandb-row { display: flex; flex-direction: row; flex-wrap: wrap; width: 100% }\n",
              "    .wandb-col { display: flex; flex-direction: column; flex-basis: 100%; flex: 1; padding: 10px; }\n",
              "    </style>\n",
              "<div class=\"wandb-row\"><div class=\"wandb-col\">\n",
              "<h3>Run history:</h3><br/><table class=\"wandb\"><tr><td>epoch</td><td>▁▁▁▂▂▂▂▂▂▃▃▃▃▃▄▄▄▄▄▄▅▅▅▅▅▅▆▆▆▆▆▇▇▇▇▇▇███</td></tr><tr><td>train/loss</td><td>█▂▃▂▃▄▇▇▅▅▆▄▄▁▂▄▆▆▅▅▅▄▄▃▅▁▆▆▅▅▅▄▄▃▅▁▃▄▄▄</td></tr><tr><td>train_step</td><td>▁▁▁▂▂▂▂▂▂▃▃▃▃▃▄▄▄▄▄▄▅▅▅▅▅▅▆▆▆▆▆▇▇▇▇▇▇███</td></tr><tr><td>valid/accuracy</td><td>█▃▃▃▂▂▂▂▂▂▂▂▂▂▂▂▂▂▂▂▂▂▂▂▂▁▂▁▁▁▁▁▁▁▁▁▂▁▁▁</td></tr><tr><td>valid/loss</td><td>█▂▁▁▁▁▁▁▁▁▂▂▂▂▂▂▂▂▂▂▂▂▂▂▂▂▂▂▂▃▂▃▃▃▃▃▃▃▃▃</td></tr></table><br/></div><div class=\"wandb-col\">\n",
              "<h3>Run summary:</h3><br/><table class=\"wandb\"><tr><td>epoch</td><td>249</td></tr><tr><td>train_step</td><td>7749</td></tr></table>\n",
              "</div></div>\n",
              "Synced 6 W&B file(s), 1 media file(s), 0 artifact file(s) and 0 other file(s)\n",
              "<br/>Synced <strong style=\"color:#cdcd00\">noble-vortex-28</strong>: <a href=\"https://wandb.ai/nlpetroni/assignment-one/runs/1a2avijo\" target=\"_blank\">https://wandb.ai/nlpetroni/assignment-one/runs/1a2avijo</a><br/>\n",
              "Find logs at: <code>./wandb/run-20211118_003242-1a2avijo/logs</code><br/>\n"
            ],
            "text/plain": [
              "<IPython.core.display.HTML object>"
            ]
          },
          "metadata": {},
          "output_type": "display_data"
        },
        {
          "name": "stderr",
          "output_type": "stream",
          "text": [
            "\u001b[34m\u001b[1mwandb\u001b[0m: \u001b[33mWARNING\u001b[0m If you're specifying your api key in code, ensure this code is not shared publically.\n",
            "\u001b[34m\u001b[1mwandb\u001b[0m: \u001b[33mWARNING\u001b[0m Consider setting the WANDB_API_KEY environment variable, or running `wandb login` from the command line.\n",
            "\u001b[34m\u001b[1mwandb\u001b[0m: Appending key for api.wandb.ai to your netrc file: /home/diego/.netrc\n"
          ]
        },
        {
          "name": "stdout",
          "output_type": "stream",
          "text": [
            "CONFIG PARAMETERS:\n",
            "{'alpha': 0.99,\n",
            " 'batch_size': 64,\n",
            " 'betas': (0.9, 0.999),\n",
            " 'epochs': 250,\n",
            " 'hid_size': 20,\n",
            " 'lr': 0.01,\n",
            " 'model': 'lstm',\n",
            " 'momentum': 0.5,\n",
            " 'optim': 'adam',\n",
            " 'rec_size': 1,\n",
            " 'units': 32,\n",
            " 'weight_decay': 0}\n"
          ]
        },
        {
          "data": {
            "text/html": [
              "\n",
              "                    Syncing run <strong><a href=\"https://wandb.ai/nlpetroni/assignment-one/runs/5ttvun7i\" target=\"_blank\">vocal-moon-29</a></strong> to <a href=\"https://wandb.ai/nlpetroni/assignment-one\" target=\"_blank\">Weights & Biases</a> (<a href=\"https://docs.wandb.com/integrations/jupyter.html\" target=\"_blank\">docs</a>).<br/>\n",
              "\n",
              "                "
            ],
            "text/plain": [
              "<IPython.core.display.HTML object>"
            ]
          },
          "metadata": {},
          "output_type": "display_data"
        },
        {
          "name": "stdout",
          "output_type": "stream",
          "text": [
            "dependency_treebank already downloaded\n",
            "dependency_treebank already downloaded\n"
          ]
        },
        {
          "name": "stderr",
          "output_type": "stream",
          "text": [
            "\u001b[34m\u001b[1mwandb\u001b[0m: logging graph, to disable use `wandb.watch(log_graph=False)`\n"
          ]
        },
        {
          "name": "stdout",
          "output_type": "stream",
          "text": [
            "=================================================================\n",
            "Layer (type:depth-idx)                   Param #\n",
            "=================================================================\n",
            "POSTagger                                --\n",
            "├─Embedding: 1-1                         (40,000,200)\n",
            "├─LSTM: 1-2                              19,520\n",
            "├─Sequential: 1-3                        --\n",
            "│    └─Linear: 2-1                       1,312\n",
            "│    └─Linear: 2-2                       1,221\n",
            "├─LogSoftmax: 1-4                        --\n",
            "=================================================================\n",
            "Total params: 40,022,253\n",
            "Trainable params: 22,053\n",
            "Non-trainable params: 40,000,200\n",
            "=================================================================\n",
            "STARTING TRAINING\n"
          ]
        },
        {
          "data": {
            "text/html": [
              "<br/>Waiting for W&B process to finish, PID 10050... <strong style=\"color:green\">(success).</strong>"
            ],
            "text/plain": [
              "<IPython.core.display.HTML object>"
            ]
          },
          "metadata": {},
          "output_type": "display_data"
        },
        {
          "data": {
            "text/html": [
              "<style>\n",
              "    table.wandb td:nth-child(1) { padding: 0 10px; text-align: right }\n",
              "    .wandb-row { display: flex; flex-direction: row; flex-wrap: wrap; width: 100% }\n",
              "    .wandb-col { display: flex; flex-direction: column; flex-basis: 100%; flex: 1; padding: 10px; }\n",
              "    </style>\n",
              "<div class=\"wandb-row\"><div class=\"wandb-col\">\n",
              "<h3>Run history:</h3><br/><table class=\"wandb\"><tr><td>epoch</td><td>▁▁▁▂▂▂▂▂▂▃▃▃▃▃▄▄▄▄▄▄▅▅▅▅▅▅▆▆▆▆▆▇▇▇▇▇▇███</td></tr><tr><td>train/loss</td><td>█▂▃▂▃▅█▇▆▅▆▄▄▁▂▄▇▇▆▅▆▄▄▃▅▁▇▇▅▅▆▄▄▃▅▁▃▄▄▅</td></tr><tr><td>train_step</td><td>▁▁▁▂▂▂▂▂▂▃▃▃▃▃▄▄▄▄▄▄▅▅▅▅▅▅▆▆▆▆▆▇▇▇▇▇▇███</td></tr><tr><td>valid/accuracy</td><td>█▇▇▇▆▆▄▄▄▃▄▃▂▂▁▂▃▂▂▂▂▃▂▂▂▂▁▂▃▂▂▂▂▂▂▁▁▁▁▂</td></tr><tr><td>valid/loss</td><td>█▁▁▁▁▁▁▂▂▂▂▂▂▂▂▂▂▃▃▃▃▃▃▃▃▃▃▃▃▃▃▃▃▃▄▄▄▄▃▄</td></tr></table><br/></div><div class=\"wandb-col\">\n",
              "<h3>Run summary:</h3><br/><table class=\"wandb\"><tr><td>epoch</td><td>249</td></tr><tr><td>train_step</td><td>7749</td></tr></table>\n",
              "</div></div>\n",
              "Synced 6 W&B file(s), 1 media file(s), 0 artifact file(s) and 0 other file(s)\n",
              "<br/>Synced <strong style=\"color:#cdcd00\">vocal-moon-29</strong>: <a href=\"https://wandb.ai/nlpetroni/assignment-one/runs/5ttvun7i\" target=\"_blank\">https://wandb.ai/nlpetroni/assignment-one/runs/5ttvun7i</a><br/>\n",
              "Find logs at: <code>./wandb/run-20211118_003452-5ttvun7i/logs</code><br/>\n"
            ],
            "text/plain": [
              "<IPython.core.display.HTML object>"
            ]
          },
          "metadata": {},
          "output_type": "display_data"
        },
        {
          "name": "stderr",
          "output_type": "stream",
          "text": [
            "\u001b[34m\u001b[1mwandb\u001b[0m: \u001b[33mWARNING\u001b[0m If you're specifying your api key in code, ensure this code is not shared publically.\n",
            "\u001b[34m\u001b[1mwandb\u001b[0m: \u001b[33mWARNING\u001b[0m Consider setting the WANDB_API_KEY environment variable, or running `wandb login` from the command line.\n",
            "\u001b[34m\u001b[1mwandb\u001b[0m: Appending key for api.wandb.ai to your netrc file: /home/diego/.netrc\n"
          ]
        },
        {
          "name": "stdout",
          "output_type": "stream",
          "text": [
            "CONFIG PARAMETERS:\n",
            "{'alpha': 0.99,\n",
            " 'batch_size': 128,\n",
            " 'betas': (0.9, 0.999),\n",
            " 'epochs': 250,\n",
            " 'hid_size': 20,\n",
            " 'lr': 0.01,\n",
            " 'model': 'lstm',\n",
            " 'momentum': 0.5,\n",
            " 'optim': 'rmsprop',\n",
            " 'rec_size': 1,\n",
            " 'units': None,\n",
            " 'weight_decay': 0}\n"
          ]
        },
        {
          "data": {
            "text/html": [
              "\n",
              "                    Syncing run <strong><a href=\"https://wandb.ai/nlpetroni/assignment-one/runs/g5tkzrzr\" target=\"_blank\">vital-bee-30</a></strong> to <a href=\"https://wandb.ai/nlpetroni/assignment-one\" target=\"_blank\">Weights & Biases</a> (<a href=\"https://docs.wandb.com/integrations/jupyter.html\" target=\"_blank\">docs</a>).<br/>\n",
              "\n",
              "                "
            ],
            "text/plain": [
              "<IPython.core.display.HTML object>"
            ]
          },
          "metadata": {},
          "output_type": "display_data"
        },
        {
          "name": "stderr",
          "output_type": "stream",
          "text": [
            "\u001b[34m\u001b[1mwandb\u001b[0m: logging graph, to disable use `wandb.watch(log_graph=False)`\n"
          ]
        },
        {
          "name": "stdout",
          "output_type": "stream",
          "text": [
            "dependency_treebank already downloaded\n",
            "dependency_treebank already downloaded\n",
            "=================================================================\n",
            "Layer (type:depth-idx)                   Param #\n",
            "=================================================================\n",
            "POSTagger                                --\n",
            "├─Embedding: 1-1                         (40,000,200)\n",
            "├─LSTM: 1-2                              19,520\n",
            "├─Sequential: 1-3                        --\n",
            "│    └─Linear: 2-1                       1,517\n",
            "├─LogSoftmax: 1-4                        --\n",
            "=================================================================\n",
            "Total params: 40,021,237\n",
            "Trainable params: 21,037\n",
            "Non-trainable params: 40,000,200\n",
            "=================================================================\n",
            "STARTING TRAINING\n"
          ]
        },
        {
          "data": {
            "text/html": [
              "<br/>Waiting for W&B process to finish, PID 10117... <strong style=\"color:green\">(success).</strong>"
            ],
            "text/plain": [
              "<IPython.core.display.HTML object>"
            ]
          },
          "metadata": {},
          "output_type": "display_data"
        },
        {
          "data": {
            "text/html": [
              "<style>\n",
              "    table.wandb td:nth-child(1) { padding: 0 10px; text-align: right }\n",
              "    .wandb-row { display: flex; flex-direction: row; flex-wrap: wrap; width: 100% }\n",
              "    .wandb-col { display: flex; flex-direction: column; flex-basis: 100%; flex: 1; padding: 10px; }\n",
              "    </style>\n",
              "<div class=\"wandb-row\"><div class=\"wandb-col\">\n",
              "<h3>Run history:</h3><br/><table class=\"wandb\"><tr><td>epoch</td><td>▁▁▁▂▂▂▂▂▂▃▃▃▃▃▃▄▄▄▄▄▅▅▅▅▅▅▆▆▆▆▆▆▇▇▇▇▇███</td></tr><tr><td>train/loss</td><td>█▃▂▂▂▂▂▁▁▁▁▁▁▁▁▁▁▁▁▁▁▁▁▁▁▁▁▁▁▁▁▁▁▁▁▁▁▁▁▁</td></tr><tr><td>train_step</td><td>▁▁▁▂▂▂▂▂▂▃▃▃▃▃▄▄▄▄▄▄▅▅▅▅▅▅▆▆▆▆▆▇▇▇▇▇▇███</td></tr><tr><td>valid/accuracy</td><td>█▆▆▆▅▅▄▃▄▃▃▃▃▃▃▃▂▃▂▂▂▂▂▂▁▂▂▂▂▁▂▁▁▂▁▁▁▁▂▁</td></tr><tr><td>valid/loss</td><td>█▂▁▁▁▂▂▂▃▃▃▄▄▄▄▄▅▅▅▅▅▅▆▆▆▆▆▆▆▆▇▇▇▇▇▇▇▇▇▇</td></tr></table><br/></div><div class=\"wandb-col\">\n",
              "<h3>Run summary:</h3><br/><table class=\"wandb\"><tr><td>epoch</td><td>249</td></tr><tr><td>train_step</td><td>3999</td></tr></table>\n",
              "</div></div>\n",
              "Synced 6 W&B file(s), 1 media file(s), 0 artifact file(s) and 0 other file(s)\n",
              "<br/>Synced <strong style=\"color:#cdcd00\">vital-bee-30</strong>: <a href=\"https://wandb.ai/nlpetroni/assignment-one/runs/g5tkzrzr\" target=\"_blank\">https://wandb.ai/nlpetroni/assignment-one/runs/g5tkzrzr</a><br/>\n",
              "Find logs at: <code>./wandb/run-20211118_003702-g5tkzrzr/logs</code><br/>\n"
            ],
            "text/plain": [
              "<IPython.core.display.HTML object>"
            ]
          },
          "metadata": {},
          "output_type": "display_data"
        },
        {
          "name": "stderr",
          "output_type": "stream",
          "text": [
            "\u001b[34m\u001b[1mwandb\u001b[0m: \u001b[33mWARNING\u001b[0m If you're specifying your api key in code, ensure this code is not shared publically.\n",
            "\u001b[34m\u001b[1mwandb\u001b[0m: \u001b[33mWARNING\u001b[0m Consider setting the WANDB_API_KEY environment variable, or running `wandb login` from the command line.\n",
            "\u001b[34m\u001b[1mwandb\u001b[0m: Appending key for api.wandb.ai to your netrc file: /home/diego/.netrc\n"
          ]
        },
        {
          "name": "stdout",
          "output_type": "stream",
          "text": [
            "CONFIG PARAMETERS:\n",
            "{'alpha': 0.99,\n",
            " 'batch_size': 128,\n",
            " 'betas': (0.9, 0.999),\n",
            " 'epochs': 250,\n",
            " 'hid_size': 20,\n",
            " 'lr': 0.01,\n",
            " 'model': 'lstm',\n",
            " 'momentum': 0.5,\n",
            " 'optim': 'rmsprop',\n",
            " 'rec_size': 2,\n",
            " 'units': None,\n",
            " 'weight_decay': 0}\n"
          ]
        },
        {
          "data": {
            "text/html": [
              "\n",
              "                    Syncing run <strong><a href=\"https://wandb.ai/nlpetroni/assignment-one/runs/18apt03z\" target=\"_blank\">fiery-surf-31</a></strong> to <a href=\"https://wandb.ai/nlpetroni/assignment-one\" target=\"_blank\">Weights & Biases</a> (<a href=\"https://docs.wandb.com/integrations/jupyter.html\" target=\"_blank\">docs</a>).<br/>\n",
              "\n",
              "                "
            ],
            "text/plain": [
              "<IPython.core.display.HTML object>"
            ]
          },
          "metadata": {},
          "output_type": "display_data"
        },
        {
          "name": "stderr",
          "output_type": "stream",
          "text": [
            "\u001b[34m\u001b[1mwandb\u001b[0m: logging graph, to disable use `wandb.watch(log_graph=False)`\n"
          ]
        },
        {
          "name": "stdout",
          "output_type": "stream",
          "text": [
            "dependency_treebank already downloaded\n",
            "dependency_treebank already downloaded\n",
            "=================================================================\n",
            "Layer (type:depth-idx)                   Param #\n",
            "=================================================================\n",
            "POSTagger                                --\n",
            "├─Embedding: 1-1                         (40,000,200)\n",
            "├─LSTM: 1-2                              29,440\n",
            "├─Sequential: 1-3                        --\n",
            "│    └─Linear: 2-1                       1,517\n",
            "├─LogSoftmax: 1-4                        --\n",
            "=================================================================\n",
            "Total params: 40,031,157\n",
            "Trainable params: 30,957\n",
            "Non-trainable params: 40,000,200\n",
            "=================================================================\n",
            "STARTING TRAINING\n"
          ]
        },
        {
          "data": {
            "text/html": [
              "<br/>Waiting for W&B process to finish, PID 10209... <strong style=\"color:green\">(success).</strong>"
            ],
            "text/plain": [
              "<IPython.core.display.HTML object>"
            ]
          },
          "metadata": {},
          "output_type": "display_data"
        },
        {
          "data": {
            "text/html": [
              "<style>\n",
              "    table.wandb td:nth-child(1) { padding: 0 10px; text-align: right }\n",
              "    .wandb-row { display: flex; flex-direction: row; flex-wrap: wrap; width: 100% }\n",
              "    .wandb-col { display: flex; flex-direction: column; flex-basis: 100%; flex: 1; padding: 10px; }\n",
              "    </style>\n",
              "<div class=\"wandb-row\"><div class=\"wandb-col\">\n",
              "<h3>Run history:</h3><br/><table class=\"wandb\"><tr><td>epoch</td><td>▁▁▁▂▂▂▂▂▂▃▃▃▃▃▃▄▄▄▄▄▅▅▅▅▅▅▆▆▆▆▆▆▇▇▇▇▇███</td></tr><tr><td>train/loss</td><td>█▂▂▂▁▁▁▁▁▁▁▁▁▁▁▁▁▁▁▁▁▁▂▁▁▁▂▁▁▁▁▁▁▁▁▁▁▁▁▁</td></tr><tr><td>train_step</td><td>▁▁▁▂▂▂▂▂▂▃▃▃▃▃▄▄▄▄▄▄▅▅▅▅▅▅▆▆▆▆▆▇▇▇▇▇▇███</td></tr><tr><td>valid/accuracy</td><td>▆██▇▇▇▇▆▆▆▆▆▆▆▆▆▆▆▆▆▆▆▂▄▅▅▃▄▂▂▂▂▂▂▁▃▄▄▄▅</td></tr><tr><td>valid/loss</td><td>█▂▁▁▁▁▁▁▁▁▂▂▂▂▂▂▂▂▂▂▂▂▂▂▂▂▂▂▂▂▂▃▂▃▃▃▃▃▃▃</td></tr></table><br/></div><div class=\"wandb-col\">\n",
              "<h3>Run summary:</h3><br/><table class=\"wandb\"><tr><td>epoch</td><td>249</td></tr><tr><td>train_step</td><td>3999</td></tr></table>\n",
              "</div></div>\n",
              "Synced 6 W&B file(s), 1 media file(s), 0 artifact file(s) and 0 other file(s)\n",
              "<br/>Synced <strong style=\"color:#cdcd00\">fiery-surf-31</strong>: <a href=\"https://wandb.ai/nlpetroni/assignment-one/runs/18apt03z\" target=\"_blank\">https://wandb.ai/nlpetroni/assignment-one/runs/18apt03z</a><br/>\n",
              "Find logs at: <code>./wandb/run-20211118_003834-18apt03z/logs</code><br/>\n"
            ],
            "text/plain": [
              "<IPython.core.display.HTML object>"
            ]
          },
          "metadata": {},
          "output_type": "display_data"
        },
        {
          "name": "stderr",
          "output_type": "stream",
          "text": [
            "\u001b[34m\u001b[1mwandb\u001b[0m: \u001b[33mWARNING\u001b[0m If you're specifying your api key in code, ensure this code is not shared publically.\n",
            "\u001b[34m\u001b[1mwandb\u001b[0m: \u001b[33mWARNING\u001b[0m Consider setting the WANDB_API_KEY environment variable, or running `wandb login` from the command line.\n",
            "\u001b[34m\u001b[1mwandb\u001b[0m: Appending key for api.wandb.ai to your netrc file: /home/diego/.netrc\n"
          ]
        },
        {
          "name": "stdout",
          "output_type": "stream",
          "text": [
            "CONFIG PARAMETERS:\n",
            "{'alpha': 0.99,\n",
            " 'batch_size': 128,\n",
            " 'betas': (0.9, 0.999),\n",
            " 'epochs': 250,\n",
            " 'hid_size': 20,\n",
            " 'lr': 0.01,\n",
            " 'model': 'lstm',\n",
            " 'momentum': 0.5,\n",
            " 'optim': 'rmsprop',\n",
            " 'rec_size': 1,\n",
            " 'units': 16,\n",
            " 'weight_decay': 0}\n"
          ]
        },
        {
          "data": {
            "text/html": [
              "\n",
              "                    Syncing run <strong><a href=\"https://wandb.ai/nlpetroni/assignment-one/runs/2cz8iz18\" target=\"_blank\">noble-river-32</a></strong> to <a href=\"https://wandb.ai/nlpetroni/assignment-one\" target=\"_blank\">Weights & Biases</a> (<a href=\"https://docs.wandb.com/integrations/jupyter.html\" target=\"_blank\">docs</a>).<br/>\n",
              "\n",
              "                "
            ],
            "text/plain": [
              "<IPython.core.display.HTML object>"
            ]
          },
          "metadata": {},
          "output_type": "display_data"
        },
        {
          "name": "stderr",
          "output_type": "stream",
          "text": [
            "\u001b[34m\u001b[1mwandb\u001b[0m: logging graph, to disable use `wandb.watch(log_graph=False)`\n"
          ]
        },
        {
          "name": "stdout",
          "output_type": "stream",
          "text": [
            "dependency_treebank already downloaded\n",
            "dependency_treebank already downloaded\n",
            "=================================================================\n",
            "Layer (type:depth-idx)                   Param #\n",
            "=================================================================\n",
            "POSTagger                                --\n",
            "├─Embedding: 1-1                         (40,000,200)\n",
            "├─LSTM: 1-2                              19,520\n",
            "├─Sequential: 1-3                        --\n",
            "│    └─Linear: 2-1                       656\n",
            "│    └─Linear: 2-2                       629\n",
            "├─LogSoftmax: 1-4                        --\n",
            "=================================================================\n",
            "Total params: 40,021,005\n",
            "Trainable params: 20,805\n",
            "Non-trainable params: 40,000,200\n",
            "=================================================================\n",
            "STARTING TRAINING\n"
          ]
        },
        {
          "data": {
            "text/html": [
              "<br/>Waiting for W&B process to finish, PID 10259... <strong style=\"color:green\">(success).</strong>"
            ],
            "text/plain": [
              "<IPython.core.display.HTML object>"
            ]
          },
          "metadata": {},
          "output_type": "display_data"
        },
        {
          "data": {
            "text/html": [
              "<style>\n",
              "    table.wandb td:nth-child(1) { padding: 0 10px; text-align: right }\n",
              "    .wandb-row { display: flex; flex-direction: row; flex-wrap: wrap; width: 100% }\n",
              "    .wandb-col { display: flex; flex-direction: column; flex-basis: 100%; flex: 1; padding: 10px; }\n",
              "    </style>\n",
              "<div class=\"wandb-row\"><div class=\"wandb-col\">\n",
              "<h3>Run history:</h3><br/><table class=\"wandb\"><tr><td>epoch</td><td>▁▁▁▂▂▂▂▂▂▃▃▃▃▃▃▄▄▄▄▄▅▅▅▅▅▅▆▆▆▆▆▆▇▇▇▇▇███</td></tr><tr><td>train/loss</td><td>█▃▂▂▂▂▂▂▂▁▁▁▁▁▁▁▁▁▁▁▁▁▁▁▁▁▁▁▁▁▁▁▁▁▁▁▁▁▁▁</td></tr><tr><td>train_step</td><td>▁▁▁▂▂▂▂▂▂▃▃▃▃▃▄▄▄▄▄▄▅▅▅▅▅▅▆▆▆▆▆▇▇▇▇▇▇███</td></tr><tr><td>valid/accuracy</td><td>█▇▇▇██▇▇▇▇▇▇▇▇▇▇▇▇▇▇▇▇▇▇▇▇▇▁▁▁▁▁▂▂▂▄▃▃▄▃</td></tr><tr><td>valid/loss</td><td>█▁▁▁▁▂▂▃▃▃▃▄▄▄▄▄▄▅▅▅▅▅▅▅▆▅▆▅▆▆▆▆▆▆▇▇▇▇▇▇</td></tr></table><br/></div><div class=\"wandb-col\">\n",
              "<h3>Run summary:</h3><br/><table class=\"wandb\"><tr><td>epoch</td><td>249</td></tr><tr><td>train_step</td><td>3999</td></tr></table>\n",
              "</div></div>\n",
              "Synced 6 W&B file(s), 1 media file(s), 0 artifact file(s) and 0 other file(s)\n",
              "<br/>Synced <strong style=\"color:#cdcd00\">noble-river-32</strong>: <a href=\"https://wandb.ai/nlpetroni/assignment-one/runs/2cz8iz18\" target=\"_blank\">https://wandb.ai/nlpetroni/assignment-one/runs/2cz8iz18</a><br/>\n",
              "Find logs at: <code>./wandb/run-20211118_004110-2cz8iz18/logs</code><br/>\n"
            ],
            "text/plain": [
              "<IPython.core.display.HTML object>"
            ]
          },
          "metadata": {},
          "output_type": "display_data"
        },
        {
          "name": "stderr",
          "output_type": "stream",
          "text": [
            "\u001b[34m\u001b[1mwandb\u001b[0m: \u001b[33mWARNING\u001b[0m If you're specifying your api key in code, ensure this code is not shared publically.\n",
            "\u001b[34m\u001b[1mwandb\u001b[0m: \u001b[33mWARNING\u001b[0m Consider setting the WANDB_API_KEY environment variable, or running `wandb login` from the command line.\n",
            "\u001b[34m\u001b[1mwandb\u001b[0m: Appending key for api.wandb.ai to your netrc file: /home/diego/.netrc\n"
          ]
        },
        {
          "name": "stdout",
          "output_type": "stream",
          "text": [
            "CONFIG PARAMETERS:\n",
            "{'alpha': 0.99,\n",
            " 'batch_size': 128,\n",
            " 'betas': (0.9, 0.999),\n",
            " 'epochs': 250,\n",
            " 'hid_size': 20,\n",
            " 'lr': 0.01,\n",
            " 'model': 'lstm',\n",
            " 'momentum': 0.5,\n",
            " 'optim': 'rmsprop',\n",
            " 'rec_size': 1,\n",
            " 'units': 32,\n",
            " 'weight_decay': 0}\n"
          ]
        },
        {
          "data": {
            "text/html": [
              "\n",
              "                    Syncing run <strong><a href=\"https://wandb.ai/nlpetroni/assignment-one/runs/jga9bt8y\" target=\"_blank\">driven-valley-33</a></strong> to <a href=\"https://wandb.ai/nlpetroni/assignment-one\" target=\"_blank\">Weights & Biases</a> (<a href=\"https://docs.wandb.com/integrations/jupyter.html\" target=\"_blank\">docs</a>).<br/>\n",
              "\n",
              "                "
            ],
            "text/plain": [
              "<IPython.core.display.HTML object>"
            ]
          },
          "metadata": {},
          "output_type": "display_data"
        },
        {
          "name": "stderr",
          "output_type": "stream",
          "text": [
            "\u001b[34m\u001b[1mwandb\u001b[0m: logging graph, to disable use `wandb.watch(log_graph=False)`\n"
          ]
        },
        {
          "name": "stdout",
          "output_type": "stream",
          "text": [
            "dependency_treebank already downloaded\n",
            "dependency_treebank already downloaded\n",
            "=================================================================\n",
            "Layer (type:depth-idx)                   Param #\n",
            "=================================================================\n",
            "POSTagger                                --\n",
            "├─Embedding: 1-1                         (40,000,200)\n",
            "├─LSTM: 1-2                              19,520\n",
            "├─Sequential: 1-3                        --\n",
            "│    └─Linear: 2-1                       1,312\n",
            "│    └─Linear: 2-2                       1,221\n",
            "├─LogSoftmax: 1-4                        --\n",
            "=================================================================\n",
            "Total params: 40,022,253\n",
            "Trainable params: 22,053\n",
            "Non-trainable params: 40,000,200\n",
            "=================================================================\n",
            "STARTING TRAINING\n"
          ]
        },
        {
          "data": {
            "text/html": [
              "<br/>Waiting for W&B process to finish, PID 10337... <strong style=\"color:green\">(success).</strong>"
            ],
            "text/plain": [
              "<IPython.core.display.HTML object>"
            ]
          },
          "metadata": {},
          "output_type": "display_data"
        },
        {
          "data": {
            "text/html": [
              "<style>\n",
              "    table.wandb td:nth-child(1) { padding: 0 10px; text-align: right }\n",
              "    .wandb-row { display: flex; flex-direction: row; flex-wrap: wrap; width: 100% }\n",
              "    .wandb-col { display: flex; flex-direction: column; flex-basis: 100%; flex: 1; padding: 10px; }\n",
              "    </style>\n",
              "<div class=\"wandb-row\"><div class=\"wandb-col\">\n",
              "<h3>Run history:</h3><br/><table class=\"wandb\"><tr><td>epoch</td><td>▁▁▁▂▂▂▂▂▂▃▃▃▃▃▃▄▄▄▄▄▅▅▅▅▅▅▆▆▆▆▆▆▇▇▇▇▇███</td></tr><tr><td>train/loss</td><td>█▃▂▂▂▂▂▂▂▁▁▁▁▁▁▁▁▁▁▁▁▁▁▁▁▁▁▁▁▁▁▁▁▁▁▁▁▁▁▁</td></tr><tr><td>train_step</td><td>▁▁▁▂▂▂▂▂▂▃▃▃▃▃▄▄▄▄▄▄▅▅▅▅▅▅▆▆▆▆▆▇▇▇▇▇▇███</td></tr><tr><td>valid/accuracy</td><td>█▇▆▂▄▆▆▆▆▆▇▆▆▆▆▆▆▅▅▂▃▂▁▁▃▄▄▅▅▅▅▅▅▆▅▅▅▆▅▅</td></tr><tr><td>valid/loss</td><td>█▂▁▁▁▂▂▂▂▃▃▃▃▃▃▄▄▄▅▅▅▅▅▅▅▆▆▆▆▆▆▆▆▇▇▇▆▇▇▇</td></tr></table><br/></div><div class=\"wandb-col\">\n",
              "<h3>Run summary:</h3><br/><table class=\"wandb\"><tr><td>epoch</td><td>249</td></tr><tr><td>train_step</td><td>3999</td></tr></table>\n",
              "</div></div>\n",
              "Synced 6 W&B file(s), 1 media file(s), 0 artifact file(s) and 0 other file(s)\n",
              "<br/>Synced <strong style=\"color:#cdcd00\">driven-valley-33</strong>: <a href=\"https://wandb.ai/nlpetroni/assignment-one/runs/jga9bt8y\" target=\"_blank\">https://wandb.ai/nlpetroni/assignment-one/runs/jga9bt8y</a><br/>\n",
              "Find logs at: <code>./wandb/run-20211118_004242-jga9bt8y/logs</code><br/>\n"
            ],
            "text/plain": [
              "<IPython.core.display.HTML object>"
            ]
          },
          "metadata": {},
          "output_type": "display_data"
        },
        {
          "name": "stderr",
          "output_type": "stream",
          "text": [
            "\u001b[34m\u001b[1mwandb\u001b[0m: \u001b[33mWARNING\u001b[0m If you're specifying your api key in code, ensure this code is not shared publically.\n",
            "\u001b[34m\u001b[1mwandb\u001b[0m: \u001b[33mWARNING\u001b[0m Consider setting the WANDB_API_KEY environment variable, or running `wandb login` from the command line.\n",
            "\u001b[34m\u001b[1mwandb\u001b[0m: Appending key for api.wandb.ai to your netrc file: /home/diego/.netrc\n"
          ]
        },
        {
          "name": "stdout",
          "output_type": "stream",
          "text": [
            "CONFIG PARAMETERS:\n",
            "{'alpha': 0.99,\n",
            " 'batch_size': 128,\n",
            " 'betas': (0.9, 0.999),\n",
            " 'epochs': 250,\n",
            " 'hid_size': 20,\n",
            " 'lr': 0.01,\n",
            " 'model': 'lstm',\n",
            " 'momentum': 0.5,\n",
            " 'optim': 'adam',\n",
            " 'rec_size': 1,\n",
            " 'units': None,\n",
            " 'weight_decay': 0}\n"
          ]
        },
        {
          "data": {
            "text/html": [
              "\n",
              "                    Syncing run <strong><a href=\"https://wandb.ai/nlpetroni/assignment-one/runs/3udzvb77\" target=\"_blank\">comfy-dawn-34</a></strong> to <a href=\"https://wandb.ai/nlpetroni/assignment-one\" target=\"_blank\">Weights & Biases</a> (<a href=\"https://docs.wandb.com/integrations/jupyter.html\" target=\"_blank\">docs</a>).<br/>\n",
              "\n",
              "                "
            ],
            "text/plain": [
              "<IPython.core.display.HTML object>"
            ]
          },
          "metadata": {},
          "output_type": "display_data"
        },
        {
          "name": "stderr",
          "output_type": "stream",
          "text": [
            "\u001b[34m\u001b[1mwandb\u001b[0m: logging graph, to disable use `wandb.watch(log_graph=False)`\n"
          ]
        },
        {
          "name": "stdout",
          "output_type": "stream",
          "text": [
            "dependency_treebank already downloaded\n",
            "dependency_treebank already downloaded\n",
            "=================================================================\n",
            "Layer (type:depth-idx)                   Param #\n",
            "=================================================================\n",
            "POSTagger                                --\n",
            "├─Embedding: 1-1                         (40,000,200)\n",
            "├─LSTM: 1-2                              19,520\n",
            "├─Sequential: 1-3                        --\n",
            "│    └─Linear: 2-1                       1,517\n",
            "├─LogSoftmax: 1-4                        --\n",
            "=================================================================\n",
            "Total params: 40,021,237\n",
            "Trainable params: 21,037\n",
            "Non-trainable params: 40,000,200\n",
            "=================================================================\n",
            "STARTING TRAINING\n"
          ]
        },
        {
          "data": {
            "text/html": [
              "<br/>Waiting for W&B process to finish, PID 10381... <strong style=\"color:green\">(success).</strong>"
            ],
            "text/plain": [
              "<IPython.core.display.HTML object>"
            ]
          },
          "metadata": {},
          "output_type": "display_data"
        },
        {
          "data": {
            "text/html": [
              "<style>\n",
              "    table.wandb td:nth-child(1) { padding: 0 10px; text-align: right }\n",
              "    .wandb-row { display: flex; flex-direction: row; flex-wrap: wrap; width: 100% }\n",
              "    .wandb-col { display: flex; flex-direction: column; flex-basis: 100%; flex: 1; padding: 10px; }\n",
              "    </style>\n",
              "<div class=\"wandb-row\"><div class=\"wandb-col\">\n",
              "<h3>Run history:</h3><br/><table class=\"wandb\"><tr><td>epoch</td><td>▁▁▁▂▂▂▂▂▂▃▃▃▃▃▃▄▄▄▄▄▅▅▅▅▅▅▆▆▆▆▆▆▇▇▇▇▇███</td></tr><tr><td>train/loss</td><td>█▃▂▂▂▁▁▁▁▁▁▁▁▁▁▁▁▁▁▁▁▁▁▁▁▁▁▁▁▁▁▁▁▁▁▁▁▁▁▁</td></tr><tr><td>train_step</td><td>▁▁▁▂▂▂▂▂▂▃▃▃▃▃▄▄▄▄▄▄▅▅▅▅▅▅▆▆▆▆▆▇▇▇▇▇▇███</td></tr><tr><td>valid/accuracy</td><td>▅█▇▆▆▅▅▅▄▄▄▄▄▄▄▄▄▄▃▃▃▃▃▃▃▃▃▃▂▂▂▂▂▂▂▁▂▂▂▁</td></tr><tr><td>valid/loss</td><td>█▂▁▁▁▁▁▁▁▁▁▁▁▁▁▁▁▁▁▁▁▂▂▂▂▂▂▂▂▂▂▂▂▂▂▂▂▂▂▂</td></tr></table><br/></div><div class=\"wandb-col\">\n",
              "<h3>Run summary:</h3><br/><table class=\"wandb\"><tr><td>epoch</td><td>249</td></tr><tr><td>train_step</td><td>3999</td></tr></table>\n",
              "</div></div>\n",
              "Synced 6 W&B file(s), 1 media file(s), 0 artifact file(s) and 0 other file(s)\n",
              "<br/>Synced <strong style=\"color:#cdcd00\">comfy-dawn-34</strong>: <a href=\"https://wandb.ai/nlpetroni/assignment-one/runs/3udzvb77\" target=\"_blank\">https://wandb.ai/nlpetroni/assignment-one/runs/3udzvb77</a><br/>\n",
              "Find logs at: <code>./wandb/run-20211118_004414-3udzvb77/logs</code><br/>\n"
            ],
            "text/plain": [
              "<IPython.core.display.HTML object>"
            ]
          },
          "metadata": {},
          "output_type": "display_data"
        },
        {
          "name": "stderr",
          "output_type": "stream",
          "text": [
            "\u001b[34m\u001b[1mwandb\u001b[0m: \u001b[33mWARNING\u001b[0m If you're specifying your api key in code, ensure this code is not shared publically.\n",
            "\u001b[34m\u001b[1mwandb\u001b[0m: \u001b[33mWARNING\u001b[0m Consider setting the WANDB_API_KEY environment variable, or running `wandb login` from the command line.\n",
            "\u001b[34m\u001b[1mwandb\u001b[0m: Appending key for api.wandb.ai to your netrc file: /home/diego/.netrc\n"
          ]
        },
        {
          "name": "stdout",
          "output_type": "stream",
          "text": [
            "CONFIG PARAMETERS:\n",
            "{'alpha': 0.99,\n",
            " 'batch_size': 128,\n",
            " 'betas': (0.9, 0.999),\n",
            " 'epochs': 250,\n",
            " 'hid_size': 20,\n",
            " 'lr': 0.01,\n",
            " 'model': 'lstm',\n",
            " 'momentum': 0.5,\n",
            " 'optim': 'adam',\n",
            " 'rec_size': 2,\n",
            " 'units': None,\n",
            " 'weight_decay': 0}\n"
          ]
        },
        {
          "data": {
            "text/html": [
              "\n",
              "                    Syncing run <strong><a href=\"https://wandb.ai/nlpetroni/assignment-one/runs/j2il9tyd\" target=\"_blank\">lilac-universe-35</a></strong> to <a href=\"https://wandb.ai/nlpetroni/assignment-one\" target=\"_blank\">Weights & Biases</a> (<a href=\"https://docs.wandb.com/integrations/jupyter.html\" target=\"_blank\">docs</a>).<br/>\n",
              "\n",
              "                "
            ],
            "text/plain": [
              "<IPython.core.display.HTML object>"
            ]
          },
          "metadata": {},
          "output_type": "display_data"
        },
        {
          "name": "stderr",
          "output_type": "stream",
          "text": [
            "\u001b[34m\u001b[1mwandb\u001b[0m: logging graph, to disable use `wandb.watch(log_graph=False)`\n"
          ]
        },
        {
          "name": "stdout",
          "output_type": "stream",
          "text": [
            "dependency_treebank already downloaded\n",
            "dependency_treebank already downloaded\n",
            "=================================================================\n",
            "Layer (type:depth-idx)                   Param #\n",
            "=================================================================\n",
            "POSTagger                                --\n",
            "├─Embedding: 1-1                         (40,000,200)\n",
            "├─LSTM: 1-2                              29,440\n",
            "├─Sequential: 1-3                        --\n",
            "│    └─Linear: 2-1                       1,517\n",
            "├─LogSoftmax: 1-4                        --\n",
            "=================================================================\n",
            "Total params: 40,031,157\n",
            "Trainable params: 30,957\n",
            "Non-trainable params: 40,000,200\n",
            "=================================================================\n",
            "STARTING TRAINING\n"
          ]
        },
        {
          "data": {
            "text/html": [
              "<br/>Waiting for W&B process to finish, PID 10433... <strong style=\"color:green\">(success).</strong>"
            ],
            "text/plain": [
              "<IPython.core.display.HTML object>"
            ]
          },
          "metadata": {},
          "output_type": "display_data"
        },
        {
          "data": {
            "text/html": [
              "<style>\n",
              "    table.wandb td:nth-child(1) { padding: 0 10px; text-align: right }\n",
              "    .wandb-row { display: flex; flex-direction: row; flex-wrap: wrap; width: 100% }\n",
              "    .wandb-col { display: flex; flex-direction: column; flex-basis: 100%; flex: 1; padding: 10px; }\n",
              "    </style>\n",
              "<div class=\"wandb-row\"><div class=\"wandb-col\">\n",
              "<h3>Run history:</h3><br/><table class=\"wandb\"><tr><td>epoch</td><td>▁▁▁▂▂▂▂▂▂▃▃▃▃▃▃▄▄▄▄▄▅▅▅▅▅▅▆▆▆▆▆▆▇▇▇▇▇███</td></tr><tr><td>train/loss</td><td>█▃▂▂▁▁▁▁▁▁▁▁▁▁▁▁▁▁▁▁▁▁▁▁▁▁▁▁▁▁▁▁▁▁▁▁▁▁▁▁</td></tr><tr><td>train_step</td><td>▁▁▁▂▂▂▂▂▂▃▃▃▃▃▄▄▄▄▄▄▅▅▅▅▅▅▆▆▆▆▆▇▇▇▇▇▇███</td></tr><tr><td>valid/accuracy</td><td>▁▇███▇▇▇▆▇▇▆▆▆▆▆▆▆▆▆▇▆▆▆▇▇▇▇▆▇▇▇▆▇▇▇▆▆▆▆</td></tr><tr><td>valid/loss</td><td>█▃▂▁▁▁▁▁▁▁▁▁▁▁▁▁▁▁▁▁▁▁▁▁▁▁▁▁▁▁▁▁▁▁▂▂▂▂▂▂</td></tr></table><br/></div><div class=\"wandb-col\">\n",
              "<h3>Run summary:</h3><br/><table class=\"wandb\"><tr><td>epoch</td><td>249</td></tr><tr><td>train_step</td><td>3999</td></tr></table>\n",
              "</div></div>\n",
              "Synced 6 W&B file(s), 1 media file(s), 0 artifact file(s) and 0 other file(s)\n",
              "<br/>Synced <strong style=\"color:#cdcd00\">lilac-universe-35</strong>: <a href=\"https://wandb.ai/nlpetroni/assignment-one/runs/j2il9tyd\" target=\"_blank\">https://wandb.ai/nlpetroni/assignment-one/runs/j2il9tyd</a><br/>\n",
              "Find logs at: <code>./wandb/run-20211118_004546-j2il9tyd/logs</code><br/>\n"
            ],
            "text/plain": [
              "<IPython.core.display.HTML object>"
            ]
          },
          "metadata": {},
          "output_type": "display_data"
        },
        {
          "name": "stderr",
          "output_type": "stream",
          "text": [
            "\u001b[34m\u001b[1mwandb\u001b[0m: \u001b[33mWARNING\u001b[0m If you're specifying your api key in code, ensure this code is not shared publically.\n",
            "\u001b[34m\u001b[1mwandb\u001b[0m: \u001b[33mWARNING\u001b[0m Consider setting the WANDB_API_KEY environment variable, or running `wandb login` from the command line.\n",
            "\u001b[34m\u001b[1mwandb\u001b[0m: Appending key for api.wandb.ai to your netrc file: /home/diego/.netrc\n"
          ]
        },
        {
          "name": "stdout",
          "output_type": "stream",
          "text": [
            "CONFIG PARAMETERS:\n",
            "{'alpha': 0.99,\n",
            " 'batch_size': 128,\n",
            " 'betas': (0.9, 0.999),\n",
            " 'epochs': 250,\n",
            " 'hid_size': 20,\n",
            " 'lr': 0.01,\n",
            " 'model': 'lstm',\n",
            " 'momentum': 0.5,\n",
            " 'optim': 'adam',\n",
            " 'rec_size': 1,\n",
            " 'units': 16,\n",
            " 'weight_decay': 0}\n"
          ]
        },
        {
          "data": {
            "text/html": [
              "\n",
              "                    Syncing run <strong><a href=\"https://wandb.ai/nlpetroni/assignment-one/runs/2iiz0bnv\" target=\"_blank\">peachy-yogurt-36</a></strong> to <a href=\"https://wandb.ai/nlpetroni/assignment-one\" target=\"_blank\">Weights & Biases</a> (<a href=\"https://docs.wandb.com/integrations/jupyter.html\" target=\"_blank\">docs</a>).<br/>\n",
              "\n",
              "                "
            ],
            "text/plain": [
              "<IPython.core.display.HTML object>"
            ]
          },
          "metadata": {},
          "output_type": "display_data"
        },
        {
          "name": "stdout",
          "output_type": "stream",
          "text": [
            "dependency_treebank already downloaded\n",
            "dependency_treebank already downloaded\n"
          ]
        },
        {
          "name": "stderr",
          "output_type": "stream",
          "text": [
            "\u001b[34m\u001b[1mwandb\u001b[0m: logging graph, to disable use `wandb.watch(log_graph=False)`\n"
          ]
        },
        {
          "name": "stdout",
          "output_type": "stream",
          "text": [
            "=================================================================\n",
            "Layer (type:depth-idx)                   Param #\n",
            "=================================================================\n",
            "POSTagger                                --\n",
            "├─Embedding: 1-1                         (40,000,200)\n",
            "├─LSTM: 1-2                              19,520\n",
            "├─Sequential: 1-3                        --\n",
            "│    └─Linear: 2-1                       656\n",
            "│    └─Linear: 2-2                       629\n",
            "├─LogSoftmax: 1-4                        --\n",
            "=================================================================\n",
            "Total params: 40,021,005\n",
            "Trainable params: 20,805\n",
            "Non-trainable params: 40,000,200\n",
            "=================================================================\n",
            "STARTING TRAINING\n"
          ]
        },
        {
          "data": {
            "text/html": [
              "<br/>Waiting for W&B process to finish, PID 10514... <strong style=\"color:green\">(success).</strong>"
            ],
            "text/plain": [
              "<IPython.core.display.HTML object>"
            ]
          },
          "metadata": {},
          "output_type": "display_data"
        },
        {
          "data": {
            "text/html": [
              "<style>\n",
              "    table.wandb td:nth-child(1) { padding: 0 10px; text-align: right }\n",
              "    .wandb-row { display: flex; flex-direction: row; flex-wrap: wrap; width: 100% }\n",
              "    .wandb-col { display: flex; flex-direction: column; flex-basis: 100%; flex: 1; padding: 10px; }\n",
              "    </style>\n",
              "<div class=\"wandb-row\"><div class=\"wandb-col\">\n",
              "<h3>Run history:</h3><br/><table class=\"wandb\"><tr><td>epoch</td><td>▁▁▁▂▂▂▂▂▂▃▃▃▃▃▃▄▄▄▄▄▅▅▅▅▅▅▆▆▆▆▆▆▇▇▇▇▇███</td></tr><tr><td>train/loss</td><td>█▂▂▂▁▁▁▁▁▁▁▁▁▁▁▁▁▁▁▁▁▁▁▁▁▁▁▁▁▁▁▁▁▁▁▁▁▁▁▁</td></tr><tr><td>train_step</td><td>▁▁▁▂▂▂▂▂▂▃▃▃▃▃▄▄▄▄▄▄▅▅▅▅▅▅▆▆▆▆▆▇▇▇▇▇▇███</td></tr><tr><td>valid/accuracy</td><td>▆█▆▅▅▃▃▂▂▂▃▃▃▃▃▃▃▃▃▃▂▃▂▂▂▂▂▂▁▂▁▂▁▁▂▂▂▂▂▃</td></tr><tr><td>valid/loss</td><td>█▂▁▁▁▁▁▁▁▁▁▁▁▁▁▁▁▁▁▂▂▂▂▂▂▂▂▂▂▂▂▂▂▂▂▂▂▂▂▂</td></tr></table><br/></div><div class=\"wandb-col\">\n",
              "<h3>Run summary:</h3><br/><table class=\"wandb\"><tr><td>epoch</td><td>249</td></tr><tr><td>train_step</td><td>3999</td></tr></table>\n",
              "</div></div>\n",
              "Synced 6 W&B file(s), 1 media file(s), 0 artifact file(s) and 0 other file(s)\n",
              "<br/>Synced <strong style=\"color:#cdcd00\">peachy-yogurt-36</strong>: <a href=\"https://wandb.ai/nlpetroni/assignment-one/runs/2iiz0bnv\" target=\"_blank\">https://wandb.ai/nlpetroni/assignment-one/runs/2iiz0bnv</a><br/>\n",
              "Find logs at: <code>./wandb/run-20211118_004820-2iiz0bnv/logs</code><br/>\n"
            ],
            "text/plain": [
              "<IPython.core.display.HTML object>"
            ]
          },
          "metadata": {},
          "output_type": "display_data"
        },
        {
          "name": "stderr",
          "output_type": "stream",
          "text": [
            "\u001b[34m\u001b[1mwandb\u001b[0m: \u001b[33mWARNING\u001b[0m If you're specifying your api key in code, ensure this code is not shared publically.\n",
            "\u001b[34m\u001b[1mwandb\u001b[0m: \u001b[33mWARNING\u001b[0m Consider setting the WANDB_API_KEY environment variable, or running `wandb login` from the command line.\n",
            "\u001b[34m\u001b[1mwandb\u001b[0m: Appending key for api.wandb.ai to your netrc file: /home/diego/.netrc\n"
          ]
        },
        {
          "name": "stdout",
          "output_type": "stream",
          "text": [
            "CONFIG PARAMETERS:\n",
            "{'alpha': 0.99,\n",
            " 'batch_size': 128,\n",
            " 'betas': (0.9, 0.999),\n",
            " 'epochs': 250,\n",
            " 'hid_size': 20,\n",
            " 'lr': 0.01,\n",
            " 'model': 'lstm',\n",
            " 'momentum': 0.5,\n",
            " 'optim': 'adam',\n",
            " 'rec_size': 1,\n",
            " 'units': 32,\n",
            " 'weight_decay': 0}\n"
          ]
        },
        {
          "data": {
            "text/html": [
              "\n",
              "                    Syncing run <strong><a href=\"https://wandb.ai/nlpetroni/assignment-one/runs/324o9ilw\" target=\"_blank\">dry-waterfall-37</a></strong> to <a href=\"https://wandb.ai/nlpetroni/assignment-one\" target=\"_blank\">Weights & Biases</a> (<a href=\"https://docs.wandb.com/integrations/jupyter.html\" target=\"_blank\">docs</a>).<br/>\n",
              "\n",
              "                "
            ],
            "text/plain": [
              "<IPython.core.display.HTML object>"
            ]
          },
          "metadata": {},
          "output_type": "display_data"
        },
        {
          "name": "stdout",
          "output_type": "stream",
          "text": [
            "dependency_treebank already downloaded\n",
            "dependency_treebank already downloaded\n"
          ]
        },
        {
          "name": "stderr",
          "output_type": "stream",
          "text": [
            "\u001b[34m\u001b[1mwandb\u001b[0m: logging graph, to disable use `wandb.watch(log_graph=False)`\n"
          ]
        },
        {
          "name": "stdout",
          "output_type": "stream",
          "text": [
            "=================================================================\n",
            "Layer (type:depth-idx)                   Param #\n",
            "=================================================================\n",
            "POSTagger                                --\n",
            "├─Embedding: 1-1                         (40,000,200)\n",
            "├─LSTM: 1-2                              19,520\n",
            "├─Sequential: 1-3                        --\n",
            "│    └─Linear: 2-1                       1,312\n",
            "│    └─Linear: 2-2                       1,221\n",
            "├─LogSoftmax: 1-4                        --\n",
            "=================================================================\n",
            "Total params: 40,022,253\n",
            "Trainable params: 22,053\n",
            "Non-trainable params: 40,000,200\n",
            "=================================================================\n",
            "STARTING TRAINING\n"
          ]
        },
        {
          "data": {
            "text/html": [
              "<br/>Waiting for W&B process to finish, PID 10564... <strong style=\"color:green\">(success).</strong>"
            ],
            "text/plain": [
              "<IPython.core.display.HTML object>"
            ]
          },
          "metadata": {},
          "output_type": "display_data"
        },
        {
          "data": {
            "text/html": [
              "<style>\n",
              "    table.wandb td:nth-child(1) { padding: 0 10px; text-align: right }\n",
              "    .wandb-row { display: flex; flex-direction: row; flex-wrap: wrap; width: 100% }\n",
              "    .wandb-col { display: flex; flex-direction: column; flex-basis: 100%; flex: 1; padding: 10px; }\n",
              "    </style>\n",
              "<div class=\"wandb-row\"><div class=\"wandb-col\">\n",
              "<h3>Run history:</h3><br/><table class=\"wandb\"><tr><td>epoch</td><td>▁▁▁▂▂▂▂▂▂▃▃▃▃▃▃▄▄▄▄▄▅▅▅▅▅▅▆▆▆▆▆▆▇▇▇▇▇███</td></tr><tr><td>train/loss</td><td>█▃▂▂▁▁▁▁▁▁▁▁▁▁▁▁▁▁▁▁▁▁▁▁▁▁▁▁▁▁▁▁▁▁▁▁▁▁▁▁</td></tr><tr><td>train_step</td><td>▁▁▁▂▂▂▂▂▂▃▃▃▃▃▄▄▄▄▄▄▅▅▅▅▅▅▆▆▆▆▆▇▇▇▇▇▇███</td></tr><tr><td>valid/accuracy</td><td>█▁▁▁▁▅██▇▇▇▇▇▆▇▇▇▇▇▇▆▇▇▆▆▆▅▆▆▅▅▅▅▅▄▃▃▄▄▃</td></tr><tr><td>valid/loss</td><td>█▂▁▁▁▁▁▁▁▁▁▁▁▂▂▂▂▂▂▂▂▂▂▂▂▂▂▂▂▂▂▂▂▂▂▂▂▂▂▂</td></tr></table><br/></div><div class=\"wandb-col\">\n",
              "<h3>Run summary:</h3><br/><table class=\"wandb\"><tr><td>epoch</td><td>249</td></tr><tr><td>train_step</td><td>3999</td></tr></table>\n",
              "</div></div>\n",
              "Synced 6 W&B file(s), 1 media file(s), 0 artifact file(s) and 0 other file(s)\n",
              "<br/>Synced <strong style=\"color:#cdcd00\">dry-waterfall-37</strong>: <a href=\"https://wandb.ai/nlpetroni/assignment-one/runs/324o9ilw\" target=\"_blank\">https://wandb.ai/nlpetroni/assignment-one/runs/324o9ilw</a><br/>\n",
              "Find logs at: <code>./wandb/run-20211118_004952-324o9ilw/logs</code><br/>\n"
            ],
            "text/plain": [
              "<IPython.core.display.HTML object>"
            ]
          },
          "metadata": {},
          "output_type": "display_data"
        },
        {
          "name": "stderr",
          "output_type": "stream",
          "text": [
            "\u001b[34m\u001b[1mwandb\u001b[0m: \u001b[33mWARNING\u001b[0m If you're specifying your api key in code, ensure this code is not shared publically.\n",
            "\u001b[34m\u001b[1mwandb\u001b[0m: \u001b[33mWARNING\u001b[0m Consider setting the WANDB_API_KEY environment variable, or running `wandb login` from the command line.\n",
            "\u001b[34m\u001b[1mwandb\u001b[0m: Appending key for api.wandb.ai to your netrc file: /home/diego/.netrc\n"
          ]
        },
        {
          "name": "stdout",
          "output_type": "stream",
          "text": [
            "CONFIG PARAMETERS:\n",
            "{'alpha': 0.99,\n",
            " 'batch_size': 64,\n",
            " 'betas': (0.9, 0.999),\n",
            " 'epochs': 250,\n",
            " 'hid_size': 20,\n",
            " 'lr': 0.001,\n",
            " 'model': 'lstm',\n",
            " 'momentum': 0.5,\n",
            " 'optim': 'rmsprop',\n",
            " 'rec_size': 1,\n",
            " 'units': None,\n",
            " 'weight_decay': 0}\n"
          ]
        },
        {
          "data": {
            "text/html": [
              "\n",
              "                    Syncing run <strong><a href=\"https://wandb.ai/nlpetroni/assignment-one/runs/1u8y3uh5\" target=\"_blank\">stellar-dawn-38</a></strong> to <a href=\"https://wandb.ai/nlpetroni/assignment-one\" target=\"_blank\">Weights & Biases</a> (<a href=\"https://docs.wandb.com/integrations/jupyter.html\" target=\"_blank\">docs</a>).<br/>\n",
              "\n",
              "                "
            ],
            "text/plain": [
              "<IPython.core.display.HTML object>"
            ]
          },
          "metadata": {},
          "output_type": "display_data"
        },
        {
          "name": "stdout",
          "output_type": "stream",
          "text": [
            "dependency_treebank already downloaded\n",
            "dependency_treebank already downloaded\n"
          ]
        },
        {
          "name": "stderr",
          "output_type": "stream",
          "text": [
            "\u001b[34m\u001b[1mwandb\u001b[0m: logging graph, to disable use `wandb.watch(log_graph=False)`\n"
          ]
        },
        {
          "name": "stdout",
          "output_type": "stream",
          "text": [
            "=================================================================\n",
            "Layer (type:depth-idx)                   Param #\n",
            "=================================================================\n",
            "POSTagger                                --\n",
            "├─Embedding: 1-1                         (40,000,200)\n",
            "├─LSTM: 1-2                              19,520\n",
            "├─Sequential: 1-3                        --\n",
            "│    └─Linear: 2-1                       1,517\n",
            "├─LogSoftmax: 1-4                        --\n",
            "=================================================================\n",
            "Total params: 40,021,237\n",
            "Trainable params: 21,037\n",
            "Non-trainable params: 40,000,200\n",
            "=================================================================\n",
            "STARTING TRAINING\n"
          ]
        },
        {
          "data": {
            "text/html": [
              "<br/>Waiting for W&B process to finish, PID 10613... <strong style=\"color:green\">(success).</strong>"
            ],
            "text/plain": [
              "<IPython.core.display.HTML object>"
            ]
          },
          "metadata": {},
          "output_type": "display_data"
        },
        {
          "data": {
            "text/html": [
              "<style>\n",
              "    table.wandb td:nth-child(1) { padding: 0 10px; text-align: right }\n",
              "    .wandb-row { display: flex; flex-direction: row; flex-wrap: wrap; width: 100% }\n",
              "    .wandb-col { display: flex; flex-direction: column; flex-basis: 100%; flex: 1; padding: 10px; }\n",
              "    </style>\n",
              "<div class=\"wandb-row\"><div class=\"wandb-col\">\n",
              "<h3>Run history:</h3><br/><table class=\"wandb\"><tr><td>epoch</td><td>▁▁▁▂▂▂▂▂▂▃▃▃▃▃▄▄▄▄▄▄▅▅▅▅▅▅▆▆▆▆▆▇▇▇▇▇▇███</td></tr><tr><td>train/loss</td><td>█▃▄▂▃▄▆▆▄▄▅▄▄▁▂▃▆▅▄▄▅▃▃▃▄▁▅▅▄▄▅▃▃▃▄▁▃▃▃▄</td></tr><tr><td>train_step</td><td>▁▁▁▂▂▂▂▂▂▃▃▃▃▃▄▄▄▄▄▄▅▅▅▅▅▅▆▆▆▆▆▇▇▇▇▇▇███</td></tr><tr><td>valid/accuracy</td><td>▂▃▂▂▃▅▇▆▆▅▅▄▂▂▁▁▁▁▁▂▂▃▄▅▅▆▆▆▇▇▇▇▇▇▇▇▇▇██</td></tr><tr><td>valid/loss</td><td>█▃▂▂▁▁▁▁▁▁▁▁▁▁▁▁▁▁▁▁▁▁▁▁▁▂▂▂▂▂▂▂▂▂▂▂▂▂▂▂</td></tr></table><br/></div><div class=\"wandb-col\">\n",
              "<h3>Run summary:</h3><br/><table class=\"wandb\"><tr><td>epoch</td><td>249</td></tr><tr><td>train_step</td><td>7749</td></tr></table>\n",
              "</div></div>\n",
              "Synced 6 W&B file(s), 1 media file(s), 0 artifact file(s) and 0 other file(s)\n",
              "<br/>Synced <strong style=\"color:#cdcd00\">stellar-dawn-38</strong>: <a href=\"https://wandb.ai/nlpetroni/assignment-one/runs/1u8y3uh5\" target=\"_blank\">https://wandb.ai/nlpetroni/assignment-one/runs/1u8y3uh5</a><br/>\n",
              "Find logs at: <code>./wandb/run-20211118_005125-1u8y3uh5/logs</code><br/>\n"
            ],
            "text/plain": [
              "<IPython.core.display.HTML object>"
            ]
          },
          "metadata": {},
          "output_type": "display_data"
        },
        {
          "name": "stderr",
          "output_type": "stream",
          "text": [
            "\u001b[34m\u001b[1mwandb\u001b[0m: \u001b[33mWARNING\u001b[0m If you're specifying your api key in code, ensure this code is not shared publically.\n",
            "\u001b[34m\u001b[1mwandb\u001b[0m: \u001b[33mWARNING\u001b[0m Consider setting the WANDB_API_KEY environment variable, or running `wandb login` from the command line.\n",
            "\u001b[34m\u001b[1mwandb\u001b[0m: Appending key for api.wandb.ai to your netrc file: /home/diego/.netrc\n"
          ]
        },
        {
          "name": "stdout",
          "output_type": "stream",
          "text": [
            "CONFIG PARAMETERS:\n",
            "{'alpha': 0.99,\n",
            " 'batch_size': 64,\n",
            " 'betas': (0.9, 0.999),\n",
            " 'epochs': 250,\n",
            " 'hid_size': 20,\n",
            " 'lr': 0.001,\n",
            " 'model': 'lstm',\n",
            " 'momentum': 0.5,\n",
            " 'optim': 'rmsprop',\n",
            " 'rec_size': 2,\n",
            " 'units': None,\n",
            " 'weight_decay': 0}\n"
          ]
        },
        {
          "data": {
            "text/html": [
              "\n",
              "                    Syncing run <strong><a href=\"https://wandb.ai/nlpetroni/assignment-one/runs/2aplsk8c\" target=\"_blank\">still-dew-39</a></strong> to <a href=\"https://wandb.ai/nlpetroni/assignment-one\" target=\"_blank\">Weights & Biases</a> (<a href=\"https://docs.wandb.com/integrations/jupyter.html\" target=\"_blank\">docs</a>).<br/>\n",
              "\n",
              "                "
            ],
            "text/plain": [
              "<IPython.core.display.HTML object>"
            ]
          },
          "metadata": {},
          "output_type": "display_data"
        },
        {
          "name": "stdout",
          "output_type": "stream",
          "text": [
            "dependency_treebank already downloaded\n",
            "dependency_treebank already downloaded\n"
          ]
        },
        {
          "name": "stderr",
          "output_type": "stream",
          "text": [
            "\u001b[34m\u001b[1mwandb\u001b[0m: logging graph, to disable use `wandb.watch(log_graph=False)`\n"
          ]
        },
        {
          "name": "stdout",
          "output_type": "stream",
          "text": [
            "=================================================================\n",
            "Layer (type:depth-idx)                   Param #\n",
            "=================================================================\n",
            "POSTagger                                --\n",
            "├─Embedding: 1-1                         (40,000,200)\n",
            "├─LSTM: 1-2                              29,440\n",
            "├─Sequential: 1-3                        --\n",
            "│    └─Linear: 2-1                       1,517\n",
            "├─LogSoftmax: 1-4                        --\n",
            "=================================================================\n",
            "Total params: 40,031,157\n",
            "Trainable params: 30,957\n",
            "Non-trainable params: 40,000,200\n",
            "=================================================================\n",
            "STARTING TRAINING\n"
          ]
        },
        {
          "data": {
            "text/html": [
              "<br/>Waiting for W&B process to finish, PID 14197... <strong style=\"color:green\">(success).</strong>"
            ],
            "text/plain": [
              "<IPython.core.display.HTML object>"
            ]
          },
          "metadata": {},
          "output_type": "display_data"
        },
        {
          "data": {
            "text/html": [
              "<style>\n",
              "    table.wandb td:nth-child(1) { padding: 0 10px; text-align: right }\n",
              "    .wandb-row { display: flex; flex-direction: row; flex-wrap: wrap; width: 100% }\n",
              "    .wandb-col { display: flex; flex-direction: column; flex-basis: 100%; flex: 1; padding: 10px; }\n",
              "    </style>\n",
              "<div class=\"wandb-row\"><div class=\"wandb-col\">\n",
              "<h3>Run history:</h3><br/><table class=\"wandb\"><tr><td>epoch</td><td>▁▁▁▂▂▂▂▂▂▃▃▃▃▃▄▄▄▄▄▄▅▅▅▅▅▅▆▆▆▆▆▇▇▇▇▇▇███</td></tr><tr><td>train/loss</td><td>█▃▃▂▂▃▅▅▄▄▄▃▃▁▂▃▅▅▄▃▄▃▃▂▃▁▅▅▄▃▄▃▃▂▃▁▂▃▃▃</td></tr><tr><td>train_step</td><td>▁▁▁▂▂▂▂▂▂▃▃▃▃▃▄▄▄▄▄▄▅▅▅▅▅▅▆▆▆▆▆▇▇▇▇▇▇███</td></tr><tr><td>valid/accuracy</td><td>▁██▇▇▇▇▇▇██▇▇▇▆▆▆▆▆▆▆▇▆▆▆▇▇▇▇▇▆▇▆▆▇▆▆▆▆▆</td></tr><tr><td>valid/loss</td><td>█▃▂▁▁▁▁▁▁▁▁▁▁▁▁▁▁▁▁▂▂▂▂▂▂▂▂▂▂▂▂▂▂▂▂▂▂▂▂▂</td></tr></table><br/></div><div class=\"wandb-col\">\n",
              "<h3>Run summary:</h3><br/><table class=\"wandb\"><tr><td>epoch</td><td>249</td></tr><tr><td>train_step</td><td>7749</td></tr></table>\n",
              "</div></div>\n",
              "Synced 6 W&B file(s), 1 media file(s), 0 artifact file(s) and 0 other file(s)\n",
              "<br/>Synced <strong style=\"color:#cdcd00\">still-dew-39</strong>: <a href=\"https://wandb.ai/nlpetroni/assignment-one/runs/2aplsk8c\" target=\"_blank\">https://wandb.ai/nlpetroni/assignment-one/runs/2aplsk8c</a><br/>\n",
              "Find logs at: <code>./wandb/run-20211118_005334-2aplsk8c/logs</code><br/>\n"
            ],
            "text/plain": [
              "<IPython.core.display.HTML object>"
            ]
          },
          "metadata": {},
          "output_type": "display_data"
        },
        {
          "name": "stderr",
          "output_type": "stream",
          "text": [
            "\u001b[34m\u001b[1mwandb\u001b[0m: \u001b[33mWARNING\u001b[0m If you're specifying your api key in code, ensure this code is not shared publically.\n",
            "\u001b[34m\u001b[1mwandb\u001b[0m: \u001b[33mWARNING\u001b[0m Consider setting the WANDB_API_KEY environment variable, or running `wandb login` from the command line.\n",
            "\u001b[34m\u001b[1mwandb\u001b[0m: Appending key for api.wandb.ai to your netrc file: /home/diego/.netrc\n"
          ]
        },
        {
          "name": "stdout",
          "output_type": "stream",
          "text": [
            "CONFIG PARAMETERS:\n",
            "{'alpha': 0.99,\n",
            " 'batch_size': 64,\n",
            " 'betas': (0.9, 0.999),\n",
            " 'epochs': 250,\n",
            " 'hid_size': 20,\n",
            " 'lr': 0.001,\n",
            " 'model': 'lstm',\n",
            " 'momentum': 0.5,\n",
            " 'optim': 'rmsprop',\n",
            " 'rec_size': 1,\n",
            " 'units': 16,\n",
            " 'weight_decay': 0}\n"
          ]
        },
        {
          "data": {
            "text/html": [
              "\n",
              "                    Syncing run <strong><a href=\"https://wandb.ai/nlpetroni/assignment-one/runs/3bbwwjel\" target=\"_blank\">dazzling-aardvark-40</a></strong> to <a href=\"https://wandb.ai/nlpetroni/assignment-one\" target=\"_blank\">Weights & Biases</a> (<a href=\"https://docs.wandb.com/integrations/jupyter.html\" target=\"_blank\">docs</a>).<br/>\n",
              "\n",
              "                "
            ],
            "text/plain": [
              "<IPython.core.display.HTML object>"
            ]
          },
          "metadata": {},
          "output_type": "display_data"
        },
        {
          "name": "stdout",
          "output_type": "stream",
          "text": [
            "dependency_treebank already downloaded\n",
            "dependency_treebank already downloaded\n"
          ]
        },
        {
          "name": "stderr",
          "output_type": "stream",
          "text": [
            "\u001b[34m\u001b[1mwandb\u001b[0m: logging graph, to disable use `wandb.watch(log_graph=False)`\n"
          ]
        },
        {
          "name": "stdout",
          "output_type": "stream",
          "text": [
            "=================================================================\n",
            "Layer (type:depth-idx)                   Param #\n",
            "=================================================================\n",
            "POSTagger                                --\n",
            "├─Embedding: 1-1                         (40,000,200)\n",
            "├─LSTM: 1-2                              19,520\n",
            "├─Sequential: 1-3                        --\n",
            "│    └─Linear: 2-1                       656\n",
            "│    └─Linear: 2-2                       629\n",
            "├─LogSoftmax: 1-4                        --\n",
            "=================================================================\n",
            "Total params: 40,021,005\n",
            "Trainable params: 20,805\n",
            "Non-trainable params: 40,000,200\n",
            "=================================================================\n",
            "STARTING TRAINING\n"
          ]
        },
        {
          "data": {
            "text/html": [
              "<br/>Waiting for W&B process to finish, PID 14508... <strong style=\"color:green\">(success).</strong>"
            ],
            "text/plain": [
              "<IPython.core.display.HTML object>"
            ]
          },
          "metadata": {},
          "output_type": "display_data"
        },
        {
          "data": {
            "text/html": [
              "<style>\n",
              "    table.wandb td:nth-child(1) { padding: 0 10px; text-align: right }\n",
              "    .wandb-row { display: flex; flex-direction: row; flex-wrap: wrap; width: 100% }\n",
              "    .wandb-col { display: flex; flex-direction: column; flex-basis: 100%; flex: 1; padding: 10px; }\n",
              "    </style>\n",
              "<div class=\"wandb-row\"><div class=\"wandb-col\">\n",
              "<h3>Run history:</h3><br/><table class=\"wandb\"><tr><td>epoch</td><td>▁▁▁▂▂▂▂▂▂▃▃▃▃▃▄▄▄▄▄▄▅▅▅▅▅▅▆▆▆▆▆▇▇▇▇▇▇███</td></tr><tr><td>train/loss</td><td>█▃▃▂▃▄▆▆▅▄▅▄▄▁▂▃▆▆▄▄▅▃▃▃▄▁▅▅▄▄▅▃▃▃▄▁▃▃▃▄</td></tr><tr><td>train_step</td><td>▁▁▁▂▂▂▂▂▂▃▃▃▃▃▄▄▄▄▄▄▅▅▅▅▅▅▆▆▆▆▆▇▇▇▇▇▇███</td></tr><tr><td>valid/accuracy</td><td>▆█▆▆▅▄▃▂▂▂▂▂▂▁▁▁▂▅▅▄▄▄▃▃▃▃▃▃▃▂▂▂▂▂▂▂▂▂▂▂</td></tr><tr><td>valid/loss</td><td>█▃▂▁▁▁▁▁▁▁▁▁▁▁▁▁▁▁▂▂▂▂▂▂▂▂▂▂▂▂▂▃▃▃▃▃▃▃▃▃</td></tr></table><br/></div><div class=\"wandb-col\">\n",
              "<h3>Run summary:</h3><br/><table class=\"wandb\"><tr><td>epoch</td><td>249</td></tr><tr><td>train_step</td><td>7749</td></tr></table>\n",
              "</div></div>\n",
              "Synced 6 W&B file(s), 1 media file(s), 0 artifact file(s) and 0 other file(s)\n",
              "<br/>Synced <strong style=\"color:#cdcd00\">dazzling-aardvark-40</strong>: <a href=\"https://wandb.ai/nlpetroni/assignment-one/runs/3bbwwjel\" target=\"_blank\">https://wandb.ai/nlpetroni/assignment-one/runs/3bbwwjel</a><br/>\n",
              "Find logs at: <code>./wandb/run-20211118_005730-3bbwwjel/logs</code><br/>\n"
            ],
            "text/plain": [
              "<IPython.core.display.HTML object>"
            ]
          },
          "metadata": {},
          "output_type": "display_data"
        },
        {
          "name": "stderr",
          "output_type": "stream",
          "text": [
            "\u001b[34m\u001b[1mwandb\u001b[0m: \u001b[33mWARNING\u001b[0m If you're specifying your api key in code, ensure this code is not shared publically.\n",
            "\u001b[34m\u001b[1mwandb\u001b[0m: \u001b[33mWARNING\u001b[0m Consider setting the WANDB_API_KEY environment variable, or running `wandb login` from the command line.\n",
            "\u001b[34m\u001b[1mwandb\u001b[0m: Appending key for api.wandb.ai to your netrc file: /home/diego/.netrc\n"
          ]
        },
        {
          "name": "stdout",
          "output_type": "stream",
          "text": [
            "CONFIG PARAMETERS:\n",
            "{'alpha': 0.99,\n",
            " 'batch_size': 64,\n",
            " 'betas': (0.9, 0.999),\n",
            " 'epochs': 250,\n",
            " 'hid_size': 20,\n",
            " 'lr': 0.001,\n",
            " 'model': 'lstm',\n",
            " 'momentum': 0.5,\n",
            " 'optim': 'rmsprop',\n",
            " 'rec_size': 1,\n",
            " 'units': 32,\n",
            " 'weight_decay': 0}\n"
          ]
        },
        {
          "data": {
            "text/html": [
              "\n",
              "                    Syncing run <strong><a href=\"https://wandb.ai/nlpetroni/assignment-one/runs/19k4jhf0\" target=\"_blank\">eager-grass-41</a></strong> to <a href=\"https://wandb.ai/nlpetroni/assignment-one\" target=\"_blank\">Weights & Biases</a> (<a href=\"https://docs.wandb.com/integrations/jupyter.html\" target=\"_blank\">docs</a>).<br/>\n",
              "\n",
              "                "
            ],
            "text/plain": [
              "<IPython.core.display.HTML object>"
            ]
          },
          "metadata": {},
          "output_type": "display_data"
        },
        {
          "name": "stdout",
          "output_type": "stream",
          "text": [
            "dependency_treebank already downloaded\n",
            "dependency_treebank already downloaded\n"
          ]
        },
        {
          "name": "stderr",
          "output_type": "stream",
          "text": [
            "\u001b[34m\u001b[1mwandb\u001b[0m: logging graph, to disable use `wandb.watch(log_graph=False)`\n"
          ]
        },
        {
          "name": "stdout",
          "output_type": "stream",
          "text": [
            "=================================================================\n",
            "Layer (type:depth-idx)                   Param #\n",
            "=================================================================\n",
            "POSTagger                                --\n",
            "├─Embedding: 1-1                         (40,000,200)\n",
            "├─LSTM: 1-2                              19,520\n",
            "├─Sequential: 1-3                        --\n",
            "│    └─Linear: 2-1                       1,312\n",
            "│    └─Linear: 2-2                       1,221\n",
            "├─LogSoftmax: 1-4                        --\n",
            "=================================================================\n",
            "Total params: 40,022,253\n",
            "Trainable params: 22,053\n",
            "Non-trainable params: 40,000,200\n",
            "=================================================================\n",
            "STARTING TRAINING\n"
          ]
        },
        {
          "data": {
            "text/html": [
              "<br/>Waiting for W&B process to finish, PID 14583... <strong style=\"color:green\">(success).</strong>"
            ],
            "text/plain": [
              "<IPython.core.display.HTML object>"
            ]
          },
          "metadata": {},
          "output_type": "display_data"
        },
        {
          "data": {
            "text/html": [
              "<style>\n",
              "    table.wandb td:nth-child(1) { padding: 0 10px; text-align: right }\n",
              "    .wandb-row { display: flex; flex-direction: row; flex-wrap: wrap; width: 100% }\n",
              "    .wandb-col { display: flex; flex-direction: column; flex-basis: 100%; flex: 1; padding: 10px; }\n",
              "    </style>\n",
              "<div class=\"wandb-row\"><div class=\"wandb-col\">\n",
              "<h3>Run history:</h3><br/><table class=\"wandb\"><tr><td>epoch</td><td>▁▁▁▂▂▂▂▂▂▃▃▃▃▃▄▄▄▄▄▄▅▅▅▅▅▅▆▆▆▆▆▇▇▇▇▇▇███</td></tr><tr><td>train/loss</td><td>█▃▄▂▃▅▇▇▅▅▆▄▄▁▂▄▇▇▅▅▆▄▄▃▅▁▇▇▅▅▆▄▄▃▅▁▃▄▄▅</td></tr><tr><td>train_step</td><td>▁▁▁▂▂▂▂▂▂▃▃▃▃▃▄▄▄▄▄▄▅▅▅▅▅▅▆▆▆▆▆▇▇▇▇▇▇███</td></tr><tr><td>valid/accuracy</td><td>█▇▄▂▁▁▃▃▄▅▆▆▆▆▆▆▆▆▆▆▆▇▇▇▇▇▆▇▆▆▆▆▆▆▆▆▆▆▆▆</td></tr><tr><td>valid/loss</td><td>█▃▂▁▁▁▁▁▁▁▁▁▁▁▂▂▂▂▂▂▂▂▂▃▃▃▃▃▃▃▃▃▄▄▄▄▄▄▄▄</td></tr></table><br/></div><div class=\"wandb-col\">\n",
              "<h3>Run summary:</h3><br/><table class=\"wandb\"><tr><td>epoch</td><td>249</td></tr><tr><td>train_step</td><td>7749</td></tr></table>\n",
              "</div></div>\n",
              "Synced 6 W&B file(s), 1 media file(s), 0 artifact file(s) and 0 other file(s)\n",
              "<br/>Synced <strong style=\"color:#cdcd00\">eager-grass-41</strong>: <a href=\"https://wandb.ai/nlpetroni/assignment-one/runs/19k4jhf0\" target=\"_blank\">https://wandb.ai/nlpetroni/assignment-one/runs/19k4jhf0</a><br/>\n",
              "Find logs at: <code>./wandb/run-20211118_005940-19k4jhf0/logs</code><br/>\n"
            ],
            "text/plain": [
              "<IPython.core.display.HTML object>"
            ]
          },
          "metadata": {},
          "output_type": "display_data"
        },
        {
          "name": "stderr",
          "output_type": "stream",
          "text": [
            "\u001b[34m\u001b[1mwandb\u001b[0m: \u001b[33mWARNING\u001b[0m If you're specifying your api key in code, ensure this code is not shared publically.\n",
            "\u001b[34m\u001b[1mwandb\u001b[0m: \u001b[33mWARNING\u001b[0m Consider setting the WANDB_API_KEY environment variable, or running `wandb login` from the command line.\n",
            "\u001b[34m\u001b[1mwandb\u001b[0m: Appending key for api.wandb.ai to your netrc file: /home/diego/.netrc\n"
          ]
        },
        {
          "name": "stdout",
          "output_type": "stream",
          "text": [
            "CONFIG PARAMETERS:\n",
            "{'alpha': 0.99,\n",
            " 'batch_size': 64,\n",
            " 'betas': (0.9, 0.999),\n",
            " 'epochs': 250,\n",
            " 'hid_size': 20,\n",
            " 'lr': 0.001,\n",
            " 'model': 'lstm',\n",
            " 'momentum': 0.5,\n",
            " 'optim': 'adam',\n",
            " 'rec_size': 1,\n",
            " 'units': None,\n",
            " 'weight_decay': 0}\n"
          ]
        },
        {
          "data": {
            "text/html": [
              "\n",
              "                    Syncing run <strong><a href=\"https://wandb.ai/nlpetroni/assignment-one/runs/2s7r7a3a\" target=\"_blank\">breezy-voice-42</a></strong> to <a href=\"https://wandb.ai/nlpetroni/assignment-one\" target=\"_blank\">Weights & Biases</a> (<a href=\"https://docs.wandb.com/integrations/jupyter.html\" target=\"_blank\">docs</a>).<br/>\n",
              "\n",
              "                "
            ],
            "text/plain": [
              "<IPython.core.display.HTML object>"
            ]
          },
          "metadata": {},
          "output_type": "display_data"
        },
        {
          "name": "stderr",
          "output_type": "stream",
          "text": [
            "\u001b[34m\u001b[1mwandb\u001b[0m: logging graph, to disable use `wandb.watch(log_graph=False)`\n"
          ]
        },
        {
          "name": "stdout",
          "output_type": "stream",
          "text": [
            "dependency_treebank already downloaded\n",
            "dependency_treebank already downloaded\n",
            "=================================================================\n",
            "Layer (type:depth-idx)                   Param #\n",
            "=================================================================\n",
            "POSTagger                                --\n",
            "├─Embedding: 1-1                         (40,000,200)\n",
            "├─LSTM: 1-2                              19,520\n",
            "├─Sequential: 1-3                        --\n",
            "│    └─Linear: 2-1                       1,517\n",
            "├─LogSoftmax: 1-4                        --\n",
            "=================================================================\n",
            "Total params: 40,021,237\n",
            "Trainable params: 21,037\n",
            "Non-trainable params: 40,000,200\n",
            "=================================================================\n",
            "STARTING TRAINING\n"
          ]
        },
        {
          "data": {
            "text/html": [
              "<br/>Waiting for W&B process to finish, PID 14632... <strong style=\"color:green\">(success).</strong>"
            ],
            "text/plain": [
              "<IPython.core.display.HTML object>"
            ]
          },
          "metadata": {},
          "output_type": "display_data"
        },
        {
          "data": {
            "text/html": [
              "<style>\n",
              "    table.wandb td:nth-child(1) { padding: 0 10px; text-align: right }\n",
              "    .wandb-row { display: flex; flex-direction: row; flex-wrap: wrap; width: 100% }\n",
              "    .wandb-col { display: flex; flex-direction: column; flex-basis: 100%; flex: 1; padding: 10px; }\n",
              "    </style>\n",
              "<div class=\"wandb-row\"><div class=\"wandb-col\">\n",
              "<h3>Run history:</h3><br/><table class=\"wandb\"><tr><td>epoch</td><td>▁▁▁▂▂▂▂▂▂▃▃▃▃▃▄▄▄▄▄▄▅▅▅▅▅▅▆▆▆▆▆▇▇▇▇▇▇███</td></tr><tr><td>train/loss</td><td>█▄▃▂▃▃▄▄▃▃▃▃▃▁▂▂▃▃▃▃▃▂▂▂▃▁▃▃▃▂▃▂▂▂▃▁▂▂▂▂</td></tr><tr><td>train_step</td><td>▁▁▁▂▂▂▂▂▂▃▃▃▃▃▄▄▄▄▄▄▅▅▅▅▅▅▆▆▆▆▆▇▇▇▇▇▇███</td></tr><tr><td>valid/accuracy</td><td>▁▇███████▇▇▇▇▇▇▇▇▇▇▇▇▇▇▇▇▇▇▇▇▇▇▇▇▇▇▇▆▆▆▆</td></tr><tr><td>valid/loss</td><td>█▅▃▂▂▂▂▁▁▁▁▁▁▁▁▁▁▁▁▁▁▁▁▁▁▁▁▁▁▁▁▁▁▁▁▁▁▁▁▁</td></tr></table><br/></div><div class=\"wandb-col\">\n",
              "<h3>Run summary:</h3><br/><table class=\"wandb\"><tr><td>epoch</td><td>249</td></tr><tr><td>train_step</td><td>7749</td></tr></table>\n",
              "</div></div>\n",
              "Synced 6 W&B file(s), 1 media file(s), 0 artifact file(s) and 0 other file(s)\n",
              "<br/>Synced <strong style=\"color:#cdcd00\">breezy-voice-42</strong>: <a href=\"https://wandb.ai/nlpetroni/assignment-one/runs/2s7r7a3a\" target=\"_blank\">https://wandb.ai/nlpetroni/assignment-one/runs/2s7r7a3a</a><br/>\n",
              "Find logs at: <code>./wandb/run-20211118_010148-2s7r7a3a/logs</code><br/>\n"
            ],
            "text/plain": [
              "<IPython.core.display.HTML object>"
            ]
          },
          "metadata": {},
          "output_type": "display_data"
        },
        {
          "name": "stderr",
          "output_type": "stream",
          "text": [
            "\u001b[34m\u001b[1mwandb\u001b[0m: \u001b[33mWARNING\u001b[0m If you're specifying your api key in code, ensure this code is not shared publically.\n",
            "\u001b[34m\u001b[1mwandb\u001b[0m: \u001b[33mWARNING\u001b[0m Consider setting the WANDB_API_KEY environment variable, or running `wandb login` from the command line.\n",
            "\u001b[34m\u001b[1mwandb\u001b[0m: Appending key for api.wandb.ai to your netrc file: /home/diego/.netrc\n"
          ]
        },
        {
          "name": "stdout",
          "output_type": "stream",
          "text": [
            "CONFIG PARAMETERS:\n",
            "{'alpha': 0.99,\n",
            " 'batch_size': 64,\n",
            " 'betas': (0.9, 0.999),\n",
            " 'epochs': 250,\n",
            " 'hid_size': 20,\n",
            " 'lr': 0.001,\n",
            " 'model': 'lstm',\n",
            " 'momentum': 0.5,\n",
            " 'optim': 'adam',\n",
            " 'rec_size': 2,\n",
            " 'units': None,\n",
            " 'weight_decay': 0}\n"
          ]
        },
        {
          "data": {
            "text/html": [
              "\n",
              "                    Syncing run <strong><a href=\"https://wandb.ai/nlpetroni/assignment-one/runs/2o9o68p3\" target=\"_blank\">colorful-fog-43</a></strong> to <a href=\"https://wandb.ai/nlpetroni/assignment-one\" target=\"_blank\">Weights & Biases</a> (<a href=\"https://docs.wandb.com/integrations/jupyter.html\" target=\"_blank\">docs</a>).<br/>\n",
              "\n",
              "                "
            ],
            "text/plain": [
              "<IPython.core.display.HTML object>"
            ]
          },
          "metadata": {},
          "output_type": "display_data"
        },
        {
          "name": "stderr",
          "output_type": "stream",
          "text": [
            "\u001b[34m\u001b[1mwandb\u001b[0m: logging graph, to disable use `wandb.watch(log_graph=False)`\n"
          ]
        },
        {
          "name": "stdout",
          "output_type": "stream",
          "text": [
            "dependency_treebank already downloaded\n",
            "dependency_treebank already downloaded\n",
            "=================================================================\n",
            "Layer (type:depth-idx)                   Param #\n",
            "=================================================================\n",
            "POSTagger                                --\n",
            "├─Embedding: 1-1                         (40,000,200)\n",
            "├─LSTM: 1-2                              29,440\n",
            "├─Sequential: 1-3                        --\n",
            "│    └─Linear: 2-1                       1,517\n",
            "├─LogSoftmax: 1-4                        --\n",
            "=================================================================\n",
            "Total params: 40,031,157\n",
            "Trainable params: 30,957\n",
            "Non-trainable params: 40,000,200\n",
            "=================================================================\n",
            "STARTING TRAINING\n"
          ]
        },
        {
          "data": {
            "text/html": [
              "<br/>Waiting for W&B process to finish, PID 14718... <strong style=\"color:green\">(success).</strong>"
            ],
            "text/plain": [
              "<IPython.core.display.HTML object>"
            ]
          },
          "metadata": {},
          "output_type": "display_data"
        },
        {
          "data": {
            "text/html": [
              "<style>\n",
              "    table.wandb td:nth-child(1) { padding: 0 10px; text-align: right }\n",
              "    .wandb-row { display: flex; flex-direction: row; flex-wrap: wrap; width: 100% }\n",
              "    .wandb-col { display: flex; flex-direction: column; flex-basis: 100%; flex: 1; padding: 10px; }\n",
              "    </style>\n",
              "<div class=\"wandb-row\"><div class=\"wandb-col\">\n",
              "<h3>Run history:</h3><br/><table class=\"wandb\"><tr><td>epoch</td><td>▁▁▁▂▂▂▂▂▂▃▃▃▃▃▄▄▄▄▄▄▅▅▅▅▅▅▆▆▆▆▆▇▇▇▇▇▇███</td></tr><tr><td>train/loss</td><td>█▆▄▃▃▃▄▄▃▃▃▃▃▁▂▂▄▄▃▃▃▂▂▂▃▁▄▃▃▃▃▂▂▂▃▁▂▂▂▃</td></tr><tr><td>train_step</td><td>▁▁▁▂▂▂▂▂▂▃▃▃▃▃▄▄▄▄▄▄▅▅▅▅▅▅▆▆▆▆▆▇▇▇▇▇▇███</td></tr><tr><td>valid/accuracy</td><td>▁▄▇█████▇▇▇▇▇▇▇▇▇▇▇▇▇███████████████████</td></tr><tr><td>valid/loss</td><td>█▆▄▃▂▂▁▁▁▁▁▁▁▁▁▁▁▁▁▁▁▁▁▁▁▁▁▁▁▁▁▁▁▁▁▁▁▁▁▁</td></tr></table><br/></div><div class=\"wandb-col\">\n",
              "<h3>Run summary:</h3><br/><table class=\"wandb\"><tr><td>epoch</td><td>249</td></tr><tr><td>train_step</td><td>7749</td></tr></table>\n",
              "</div></div>\n",
              "Synced 6 W&B file(s), 1 media file(s), 0 artifact file(s) and 0 other file(s)\n",
              "<br/>Synced <strong style=\"color:#cdcd00\">colorful-fog-43</strong>: <a href=\"https://wandb.ai/nlpetroni/assignment-one/runs/2o9o68p3\" target=\"_blank\">https://wandb.ai/nlpetroni/assignment-one/runs/2o9o68p3</a><br/>\n",
              "Find logs at: <code>./wandb/run-20211118_010355-2o9o68p3/logs</code><br/>\n"
            ],
            "text/plain": [
              "<IPython.core.display.HTML object>"
            ]
          },
          "metadata": {},
          "output_type": "display_data"
        },
        {
          "name": "stderr",
          "output_type": "stream",
          "text": [
            "\u001b[34m\u001b[1mwandb\u001b[0m: \u001b[33mWARNING\u001b[0m If you're specifying your api key in code, ensure this code is not shared publically.\n",
            "\u001b[34m\u001b[1mwandb\u001b[0m: \u001b[33mWARNING\u001b[0m Consider setting the WANDB_API_KEY environment variable, or running `wandb login` from the command line.\n",
            "\u001b[34m\u001b[1mwandb\u001b[0m: Appending key for api.wandb.ai to your netrc file: /home/diego/.netrc\n"
          ]
        },
        {
          "name": "stdout",
          "output_type": "stream",
          "text": [
            "CONFIG PARAMETERS:\n",
            "{'alpha': 0.99,\n",
            " 'batch_size': 64,\n",
            " 'betas': (0.9, 0.999),\n",
            " 'epochs': 250,\n",
            " 'hid_size': 20,\n",
            " 'lr': 0.001,\n",
            " 'model': 'lstm',\n",
            " 'momentum': 0.5,\n",
            " 'optim': 'adam',\n",
            " 'rec_size': 1,\n",
            " 'units': 16,\n",
            " 'weight_decay': 0}\n"
          ]
        },
        {
          "data": {
            "text/html": [
              "\n",
              "                    Syncing run <strong><a href=\"https://wandb.ai/nlpetroni/assignment-one/runs/1baba92a\" target=\"_blank\">snowy-paper-44</a></strong> to <a href=\"https://wandb.ai/nlpetroni/assignment-one\" target=\"_blank\">Weights & Biases</a> (<a href=\"https://docs.wandb.com/integrations/jupyter.html\" target=\"_blank\">docs</a>).<br/>\n",
              "\n",
              "                "
            ],
            "text/plain": [
              "<IPython.core.display.HTML object>"
            ]
          },
          "metadata": {},
          "output_type": "display_data"
        },
        {
          "name": "stdout",
          "output_type": "stream",
          "text": [
            "dependency_treebank already downloaded\n",
            "dependency_treebank already downloaded\n"
          ]
        },
        {
          "name": "stderr",
          "output_type": "stream",
          "text": [
            "\u001b[34m\u001b[1mwandb\u001b[0m: logging graph, to disable use `wandb.watch(log_graph=False)`\n"
          ]
        },
        {
          "name": "stdout",
          "output_type": "stream",
          "text": [
            "=================================================================\n",
            "Layer (type:depth-idx)                   Param #\n",
            "=================================================================\n",
            "POSTagger                                --\n",
            "├─Embedding: 1-1                         (40,000,200)\n",
            "├─LSTM: 1-2                              19,520\n",
            "├─Sequential: 1-3                        --\n",
            "│    └─Linear: 2-1                       656\n",
            "│    └─Linear: 2-2                       629\n",
            "├─LogSoftmax: 1-4                        --\n",
            "=================================================================\n",
            "Total params: 40,021,005\n",
            "Trainable params: 20,805\n",
            "Non-trainable params: 40,000,200\n",
            "=================================================================\n",
            "STARTING TRAINING\n"
          ]
        },
        {
          "data": {
            "text/html": [
              "<br/>Waiting for W&B process to finish, PID 14819... <strong style=\"color:green\">(success).</strong>"
            ],
            "text/plain": [
              "<IPython.core.display.HTML object>"
            ]
          },
          "metadata": {},
          "output_type": "display_data"
        },
        {
          "data": {
            "text/html": [
              "<style>\n",
              "    table.wandb td:nth-child(1) { padding: 0 10px; text-align: right }\n",
              "    .wandb-row { display: flex; flex-direction: row; flex-wrap: wrap; width: 100% }\n",
              "    .wandb-col { display: flex; flex-direction: column; flex-basis: 100%; flex: 1; padding: 10px; }\n",
              "    </style>\n",
              "<div class=\"wandb-row\"><div class=\"wandb-col\">\n",
              "<h3>Run history:</h3><br/><table class=\"wandb\"><tr><td>epoch</td><td>▁▁▁▂▂▂▂▂▂▃▃▃▃▃▄▄▄▄▄▄▅▅▅▅▅▅▆▆▆▆▆▇▇▇▇▇▇███</td></tr><tr><td>train/loss</td><td>█▅▄▂▃▃▄▄▃▃▃▃▃▁▂▂▄▄▃▃▃▂▂▂▃▁▃▃▃▃▃▂▂▂▃▁▂▂▂▃</td></tr><tr><td>train_step</td><td>▁▁▁▂▂▂▂▂▂▃▃▃▃▃▄▄▄▄▄▄▅▅▅▅▅▅▆▆▆▆▆▇▇▇▇▇▇███</td></tr><tr><td>valid/accuracy</td><td>▁▇███▇▇▆▆▆▆▆▆▆▅▅▅▅▅▅▅▅▅▄▄▃▃▃▃▃▃▃▃▃▃▃▃▃▃▃</td></tr><tr><td>valid/loss</td><td>█▅▃▂▂▂▁▁▁▁▁▁▁▁▁▁▁▁▁▁▁▁▁▁▁▁▁▁▁▁▁▁▁▁▁▁▁▁▁▁</td></tr></table><br/></div><div class=\"wandb-col\">\n",
              "<h3>Run summary:</h3><br/><table class=\"wandb\"><tr><td>epoch</td><td>249</td></tr><tr><td>train_step</td><td>7749</td></tr></table>\n",
              "</div></div>\n",
              "Synced 6 W&B file(s), 1 media file(s), 0 artifact file(s) and 0 other file(s)\n",
              "<br/>Synced <strong style=\"color:#cdcd00\">snowy-paper-44</strong>: <a href=\"https://wandb.ai/nlpetroni/assignment-one/runs/1baba92a\" target=\"_blank\">https://wandb.ai/nlpetroni/assignment-one/runs/1baba92a</a><br/>\n",
              "Find logs at: <code>./wandb/run-20211118_010743-1baba92a/logs</code><br/>\n"
            ],
            "text/plain": [
              "<IPython.core.display.HTML object>"
            ]
          },
          "metadata": {},
          "output_type": "display_data"
        },
        {
          "name": "stderr",
          "output_type": "stream",
          "text": [
            "\u001b[34m\u001b[1mwandb\u001b[0m: \u001b[33mWARNING\u001b[0m If you're specifying your api key in code, ensure this code is not shared publically.\n",
            "\u001b[34m\u001b[1mwandb\u001b[0m: \u001b[33mWARNING\u001b[0m Consider setting the WANDB_API_KEY environment variable, or running `wandb login` from the command line.\n",
            "\u001b[34m\u001b[1mwandb\u001b[0m: Appending key for api.wandb.ai to your netrc file: /home/diego/.netrc\n"
          ]
        },
        {
          "name": "stdout",
          "output_type": "stream",
          "text": [
            "CONFIG PARAMETERS:\n",
            "{'alpha': 0.99,\n",
            " 'batch_size': 64,\n",
            " 'betas': (0.9, 0.999),\n",
            " 'epochs': 250,\n",
            " 'hid_size': 20,\n",
            " 'lr': 0.001,\n",
            " 'model': 'lstm',\n",
            " 'momentum': 0.5,\n",
            " 'optim': 'adam',\n",
            " 'rec_size': 1,\n",
            " 'units': 32,\n",
            " 'weight_decay': 0}\n"
          ]
        },
        {
          "data": {
            "text/html": [
              "\n",
              "                    Syncing run <strong><a href=\"https://wandb.ai/nlpetroni/assignment-one/runs/idjqzxuw\" target=\"_blank\">likely-salad-45</a></strong> to <a href=\"https://wandb.ai/nlpetroni/assignment-one\" target=\"_blank\">Weights & Biases</a> (<a href=\"https://docs.wandb.com/integrations/jupyter.html\" target=\"_blank\">docs</a>).<br/>\n",
              "\n",
              "                "
            ],
            "text/plain": [
              "<IPython.core.display.HTML object>"
            ]
          },
          "metadata": {},
          "output_type": "display_data"
        },
        {
          "name": "stdout",
          "output_type": "stream",
          "text": [
            "dependency_treebank already downloaded\n",
            "dependency_treebank already downloaded\n"
          ]
        },
        {
          "name": "stderr",
          "output_type": "stream",
          "text": [
            "\u001b[34m\u001b[1mwandb\u001b[0m: logging graph, to disable use `wandb.watch(log_graph=False)`\n"
          ]
        },
        {
          "name": "stdout",
          "output_type": "stream",
          "text": [
            "=================================================================\n",
            "Layer (type:depth-idx)                   Param #\n",
            "=================================================================\n",
            "POSTagger                                --\n",
            "├─Embedding: 1-1                         (40,000,200)\n",
            "├─LSTM: 1-2                              19,520\n",
            "├─Sequential: 1-3                        --\n",
            "│    └─Linear: 2-1                       1,312\n",
            "│    └─Linear: 2-2                       1,221\n",
            "├─LogSoftmax: 1-4                        --\n",
            "=================================================================\n",
            "Total params: 40,022,253\n",
            "Trainable params: 22,053\n",
            "Non-trainable params: 40,000,200\n",
            "=================================================================\n",
            "STARTING TRAINING\n"
          ]
        },
        {
          "data": {
            "text/html": [
              "<br/>Waiting for W&B process to finish, PID 14869... <strong style=\"color:green\">(success).</strong>"
            ],
            "text/plain": [
              "<IPython.core.display.HTML object>"
            ]
          },
          "metadata": {},
          "output_type": "display_data"
        },
        {
          "data": {
            "text/html": [
              "<style>\n",
              "    table.wandb td:nth-child(1) { padding: 0 10px; text-align: right }\n",
              "    .wandb-row { display: flex; flex-direction: row; flex-wrap: wrap; width: 100% }\n",
              "    .wandb-col { display: flex; flex-direction: column; flex-basis: 100%; flex: 1; padding: 10px; }\n",
              "    </style>\n",
              "<div class=\"wandb-row\"><div class=\"wandb-col\">\n",
              "<h3>Run history:</h3><br/><table class=\"wandb\"><tr><td>epoch</td><td>▁▁▁▂▂▂▂▂▂▃▃▃▃▃▄▄▄▄▄▄▅▅▅▅▅▅▆▆▆▆▆▇▇▇▇▇▇███</td></tr><tr><td>train/loss</td><td>█▄▃▂▃▃▄▄▃▃▃▃▃▁▂▃▄▄▃▃▃▂▂▂▃▁▄▄▃▃▃▂▂▂▃▁▂▂▂▃</td></tr><tr><td>train_step</td><td>▁▁▁▂▂▂▂▂▂▃▃▃▃▃▄▄▄▄▄▄▅▅▅▅▅▅▆▆▆▆▆▇▇▇▇▇▇███</td></tr><tr><td>valid/accuracy</td><td>█▇█▇▅▄▂▁▁▁▁▁▁▁▁▁▁▁▁▁▂▂▂▂▂▂▂▂▂▂▂▂▂▂▂▂▂▂▂▃</td></tr><tr><td>valid/loss</td><td>█▄▃▂▂▁▁▁▁▁▁▁▁▁▁▁▁▁▁▁▁▁▁▁▁▁▁▁▁▁▁▁▁▁▁▁▁▁▁▁</td></tr></table><br/></div><div class=\"wandb-col\">\n",
              "<h3>Run summary:</h3><br/><table class=\"wandb\"><tr><td>epoch</td><td>249</td></tr><tr><td>train_step</td><td>7749</td></tr></table>\n",
              "</div></div>\n",
              "Synced 6 W&B file(s), 1 media file(s), 0 artifact file(s) and 0 other file(s)\n",
              "<br/>Synced <strong style=\"color:#cdcd00\">likely-salad-45</strong>: <a href=\"https://wandb.ai/nlpetroni/assignment-one/runs/idjqzxuw\" target=\"_blank\">https://wandb.ai/nlpetroni/assignment-one/runs/idjqzxuw</a><br/>\n",
              "Find logs at: <code>./wandb/run-20211118_010950-idjqzxuw/logs</code><br/>\n"
            ],
            "text/plain": [
              "<IPython.core.display.HTML object>"
            ]
          },
          "metadata": {},
          "output_type": "display_data"
        },
        {
          "name": "stderr",
          "output_type": "stream",
          "text": [
            "\u001b[34m\u001b[1mwandb\u001b[0m: \u001b[33mWARNING\u001b[0m If you're specifying your api key in code, ensure this code is not shared publically.\n",
            "\u001b[34m\u001b[1mwandb\u001b[0m: \u001b[33mWARNING\u001b[0m Consider setting the WANDB_API_KEY environment variable, or running `wandb login` from the command line.\n",
            "\u001b[34m\u001b[1mwandb\u001b[0m: Appending key for api.wandb.ai to your netrc file: /home/diego/.netrc\n"
          ]
        },
        {
          "name": "stdout",
          "output_type": "stream",
          "text": [
            "CONFIG PARAMETERS:\n",
            "{'alpha': 0.99,\n",
            " 'batch_size': 128,\n",
            " 'betas': (0.9, 0.999),\n",
            " 'epochs': 250,\n",
            " 'hid_size': 20,\n",
            " 'lr': 0.001,\n",
            " 'model': 'lstm',\n",
            " 'momentum': 0.5,\n",
            " 'optim': 'rmsprop',\n",
            " 'rec_size': 1,\n",
            " 'units': None,\n",
            " 'weight_decay': 0}\n"
          ]
        },
        {
          "data": {
            "text/html": [
              "\n",
              "                    Syncing run <strong><a href=\"https://wandb.ai/nlpetroni/assignment-one/runs/324ekx4g\" target=\"_blank\">misunderstood-universe-46</a></strong> to <a href=\"https://wandb.ai/nlpetroni/assignment-one\" target=\"_blank\">Weights & Biases</a> (<a href=\"https://docs.wandb.com/integrations/jupyter.html\" target=\"_blank\">docs</a>).<br/>\n",
              "\n",
              "                "
            ],
            "text/plain": [
              "<IPython.core.display.HTML object>"
            ]
          },
          "metadata": {},
          "output_type": "display_data"
        },
        {
          "name": "stdout",
          "output_type": "stream",
          "text": [
            "dependency_treebank already downloaded\n",
            "dependency_treebank already downloaded\n"
          ]
        },
        {
          "name": "stderr",
          "output_type": "stream",
          "text": [
            "\u001b[34m\u001b[1mwandb\u001b[0m: logging graph, to disable use `wandb.watch(log_graph=False)`\n"
          ]
        },
        {
          "name": "stdout",
          "output_type": "stream",
          "text": [
            "=================================================================\n",
            "Layer (type:depth-idx)                   Param #\n",
            "=================================================================\n",
            "POSTagger                                --\n",
            "├─Embedding: 1-1                         (40,000,200)\n",
            "├─LSTM: 1-2                              19,520\n",
            "├─Sequential: 1-3                        --\n",
            "│    └─Linear: 2-1                       1,517\n",
            "├─LogSoftmax: 1-4                        --\n",
            "=================================================================\n",
            "Total params: 40,021,237\n",
            "Trainable params: 21,037\n",
            "Non-trainable params: 40,000,200\n",
            "=================================================================\n",
            "STARTING TRAINING\n"
          ]
        },
        {
          "data": {
            "text/html": [
              "<br/>Waiting for W&B process to finish, PID 14920... <strong style=\"color:green\">(success).</strong>"
            ],
            "text/plain": [
              "<IPython.core.display.HTML object>"
            ]
          },
          "metadata": {},
          "output_type": "display_data"
        },
        {
          "data": {
            "text/html": [
              "<style>\n",
              "    table.wandb td:nth-child(1) { padding: 0 10px; text-align: right }\n",
              "    .wandb-row { display: flex; flex-direction: row; flex-wrap: wrap; width: 100% }\n",
              "    .wandb-col { display: flex; flex-direction: column; flex-basis: 100%; flex: 1; padding: 10px; }\n",
              "    </style>\n",
              "<div class=\"wandb-row\"><div class=\"wandb-col\">\n",
              "<h3>Run history:</h3><br/><table class=\"wandb\"><tr><td>epoch</td><td>▁▁▁▂▂▂▂▂▂▃▃▃▃▃▃▄▄▄▄▄▅▅▅▅▅▅▆▆▆▆▆▆▇▇▇▇▇███</td></tr><tr><td>train/loss</td><td>█▄▃▃▂▂▂▂▂▁▁▁▁▁▁▁▁▁▁▁▁▁▁▁▁▁▁▁▁▁▁▁▁▁▁▁▁▁▁▁</td></tr><tr><td>train_step</td><td>▁▁▁▂▂▂▂▂▂▃▃▃▃▃▄▄▄▄▄▄▅▅▅▅▅▅▆▆▆▆▆▇▇▇▇▇▇███</td></tr><tr><td>valid/accuracy</td><td>▂████▇▇▆▆▆▆▆▅▅▅▄▄▄▃▃▃▃▂▂▂▂▂▂▂▁▁▁▁▁▁▁▁▁▁▁</td></tr><tr><td>valid/loss</td><td>█▄▃▂▂▂▁▁▁▁▁▁▁▁▁▁▁▁▁▁▁▁▁▁▁▁▁▁▁▁▁▁▁▁▁▁▁▂▂▂</td></tr></table><br/></div><div class=\"wandb-col\">\n",
              "<h3>Run summary:</h3><br/><table class=\"wandb\"><tr><td>epoch</td><td>249</td></tr><tr><td>train_step</td><td>3999</td></tr></table>\n",
              "</div></div>\n",
              "Synced 6 W&B file(s), 1 media file(s), 0 artifact file(s) and 0 other file(s)\n",
              "<br/>Synced <strong style=\"color:#cdcd00\">misunderstood-universe-46</strong>: <a href=\"https://wandb.ai/nlpetroni/assignment-one/runs/324ekx4g\" target=\"_blank\">https://wandb.ai/nlpetroni/assignment-one/runs/324ekx4g</a><br/>\n",
              "Find logs at: <code>./wandb/run-20211118_011158-324ekx4g/logs</code><br/>\n"
            ],
            "text/plain": [
              "<IPython.core.display.HTML object>"
            ]
          },
          "metadata": {},
          "output_type": "display_data"
        },
        {
          "name": "stderr",
          "output_type": "stream",
          "text": [
            "\u001b[34m\u001b[1mwandb\u001b[0m: \u001b[33mWARNING\u001b[0m If you're specifying your api key in code, ensure this code is not shared publically.\n",
            "\u001b[34m\u001b[1mwandb\u001b[0m: \u001b[33mWARNING\u001b[0m Consider setting the WANDB_API_KEY environment variable, or running `wandb login` from the command line.\n",
            "\u001b[34m\u001b[1mwandb\u001b[0m: Appending key for api.wandb.ai to your netrc file: /home/diego/.netrc\n"
          ]
        },
        {
          "name": "stdout",
          "output_type": "stream",
          "text": [
            "CONFIG PARAMETERS:\n",
            "{'alpha': 0.99,\n",
            " 'batch_size': 128,\n",
            " 'betas': (0.9, 0.999),\n",
            " 'epochs': 250,\n",
            " 'hid_size': 20,\n",
            " 'lr': 0.001,\n",
            " 'model': 'lstm',\n",
            " 'momentum': 0.5,\n",
            " 'optim': 'rmsprop',\n",
            " 'rec_size': 2,\n",
            " 'units': None,\n",
            " 'weight_decay': 0}\n"
          ]
        },
        {
          "data": {
            "text/html": [
              "\n",
              "                    Syncing run <strong><a href=\"https://wandb.ai/nlpetroni/assignment-one/runs/21o71uqx\" target=\"_blank\">prime-terrain-47</a></strong> to <a href=\"https://wandb.ai/nlpetroni/assignment-one\" target=\"_blank\">Weights & Biases</a> (<a href=\"https://docs.wandb.com/integrations/jupyter.html\" target=\"_blank\">docs</a>).<br/>\n",
              "\n",
              "                "
            ],
            "text/plain": [
              "<IPython.core.display.HTML object>"
            ]
          },
          "metadata": {},
          "output_type": "display_data"
        },
        {
          "name": "stderr",
          "output_type": "stream",
          "text": [
            "\u001b[34m\u001b[1mwandb\u001b[0m: logging graph, to disable use `wandb.watch(log_graph=False)`\n"
          ]
        },
        {
          "name": "stdout",
          "output_type": "stream",
          "text": [
            "dependency_treebank already downloaded\n",
            "dependency_treebank already downloaded\n",
            "=================================================================\n",
            "Layer (type:depth-idx)                   Param #\n",
            "=================================================================\n",
            "POSTagger                                --\n",
            "├─Embedding: 1-1                         (40,000,200)\n",
            "├─LSTM: 1-2                              29,440\n",
            "├─Sequential: 1-3                        --\n",
            "│    └─Linear: 2-1                       1,517\n",
            "├─LogSoftmax: 1-4                        --\n",
            "=================================================================\n",
            "Total params: 40,031,157\n",
            "Trainable params: 30,957\n",
            "Non-trainable params: 40,000,200\n",
            "=================================================================\n",
            "STARTING TRAINING\n"
          ]
        },
        {
          "data": {
            "text/html": [
              "<br/>Waiting for W&B process to finish, PID 14999... <strong style=\"color:green\">(success).</strong>"
            ],
            "text/plain": [
              "<IPython.core.display.HTML object>"
            ]
          },
          "metadata": {},
          "output_type": "display_data"
        },
        {
          "data": {
            "text/html": [
              "<style>\n",
              "    table.wandb td:nth-child(1) { padding: 0 10px; text-align: right }\n",
              "    .wandb-row { display: flex; flex-direction: row; flex-wrap: wrap; width: 100% }\n",
              "    .wandb-col { display: flex; flex-direction: column; flex-basis: 100%; flex: 1; padding: 10px; }\n",
              "    </style>\n",
              "<div class=\"wandb-row\"><div class=\"wandb-col\">\n",
              "<h3>Run history:</h3><br/><table class=\"wandb\"><tr><td>epoch</td><td>▁▁▁▂▂▂▂▂▂▃▃▃▃▃▃▄▄▄▄▄▅▅▅▅▅▅▆▆▆▆▆▆▇▇▇▇▇███</td></tr><tr><td>train/loss</td><td>█▄▃▂▂▂▂▁▁▁▁▁▁▁▁▁▁▁▁▁▁▁▁▁▁▁▁▁▁▁▁▁▁▁▁▁▁▁▁▁</td></tr><tr><td>train_step</td><td>▁▁▁▂▂▂▂▂▂▃▃▃▃▃▄▄▄▄▄▄▅▅▅▅▅▅▆▆▆▆▆▇▇▇▇▇▇███</td></tr><tr><td>valid/accuracy</td><td>▁▇██▇▇▇▆▆▆▆▆▆▆▆▆▆▆▆▆▆▆▅▅▅▅▅▅▅▅▅▅▅▅▅▅▄▅▄▄</td></tr><tr><td>valid/loss</td><td>█▄▂▂▁▁▁▁▁▁▁▁▁▁▁▁▁▁▁▁▁▁▁▁▁▁▁▁▁▂▂▂▂▂▂▂▂▂▂▂</td></tr></table><br/></div><div class=\"wandb-col\">\n",
              "<h3>Run summary:</h3><br/><table class=\"wandb\"><tr><td>epoch</td><td>249</td></tr><tr><td>train_step</td><td>3999</td></tr></table>\n",
              "</div></div>\n",
              "Synced 6 W&B file(s), 1 media file(s), 0 artifact file(s) and 0 other file(s)\n",
              "<br/>Synced <strong style=\"color:#cdcd00\">prime-terrain-47</strong>: <a href=\"https://wandb.ai/nlpetroni/assignment-one/runs/21o71uqx\" target=\"_blank\">https://wandb.ai/nlpetroni/assignment-one/runs/21o71uqx</a><br/>\n",
              "Find logs at: <code>./wandb/run-20211118_011329-21o71uqx/logs</code><br/>\n"
            ],
            "text/plain": [
              "<IPython.core.display.HTML object>"
            ]
          },
          "metadata": {},
          "output_type": "display_data"
        },
        {
          "name": "stderr",
          "output_type": "stream",
          "text": [
            "\u001b[34m\u001b[1mwandb\u001b[0m: \u001b[33mWARNING\u001b[0m If you're specifying your api key in code, ensure this code is not shared publically.\n",
            "\u001b[34m\u001b[1mwandb\u001b[0m: \u001b[33mWARNING\u001b[0m Consider setting the WANDB_API_KEY environment variable, or running `wandb login` from the command line.\n",
            "\u001b[34m\u001b[1mwandb\u001b[0m: Appending key for api.wandb.ai to your netrc file: /home/diego/.netrc\n"
          ]
        },
        {
          "name": "stdout",
          "output_type": "stream",
          "text": [
            "CONFIG PARAMETERS:\n",
            "{'alpha': 0.99,\n",
            " 'batch_size': 128,\n",
            " 'betas': (0.9, 0.999),\n",
            " 'epochs': 250,\n",
            " 'hid_size': 20,\n",
            " 'lr': 0.001,\n",
            " 'model': 'lstm',\n",
            " 'momentum': 0.5,\n",
            " 'optim': 'rmsprop',\n",
            " 'rec_size': 1,\n",
            " 'units': 16,\n",
            " 'weight_decay': 0}\n"
          ]
        },
        {
          "data": {
            "text/html": [
              "\n",
              "                    Syncing run <strong><a href=\"https://wandb.ai/nlpetroni/assignment-one/runs/66s7zwew\" target=\"_blank\">devout-leaf-48</a></strong> to <a href=\"https://wandb.ai/nlpetroni/assignment-one\" target=\"_blank\">Weights & Biases</a> (<a href=\"https://docs.wandb.com/integrations/jupyter.html\" target=\"_blank\">docs</a>).<br/>\n",
              "\n",
              "                "
            ],
            "text/plain": [
              "<IPython.core.display.HTML object>"
            ]
          },
          "metadata": {},
          "output_type": "display_data"
        },
        {
          "name": "stderr",
          "output_type": "stream",
          "text": [
            "\u001b[34m\u001b[1mwandb\u001b[0m: logging graph, to disable use `wandb.watch(log_graph=False)`\n"
          ]
        },
        {
          "name": "stdout",
          "output_type": "stream",
          "text": [
            "dependency_treebank already downloaded\n",
            "dependency_treebank already downloaded\n",
            "=================================================================\n",
            "Layer (type:depth-idx)                   Param #\n",
            "=================================================================\n",
            "POSTagger                                --\n",
            "├─Embedding: 1-1                         (40,000,200)\n",
            "├─LSTM: 1-2                              19,520\n",
            "├─Sequential: 1-3                        --\n",
            "│    └─Linear: 2-1                       656\n",
            "│    └─Linear: 2-2                       629\n",
            "├─LogSoftmax: 1-4                        --\n",
            "=================================================================\n",
            "Total params: 40,021,005\n",
            "Trainable params: 20,805\n",
            "Non-trainable params: 40,000,200\n",
            "=================================================================\n",
            "STARTING TRAINING\n"
          ]
        },
        {
          "data": {
            "text/html": [
              "<br/>Waiting for W&B process to finish, PID 15061... <strong style=\"color:green\">(success).</strong>"
            ],
            "text/plain": [
              "<IPython.core.display.HTML object>"
            ]
          },
          "metadata": {},
          "output_type": "display_data"
        },
        {
          "data": {
            "text/html": [
              "<style>\n",
              "    table.wandb td:nth-child(1) { padding: 0 10px; text-align: right }\n",
              "    .wandb-row { display: flex; flex-direction: row; flex-wrap: wrap; width: 100% }\n",
              "    .wandb-col { display: flex; flex-direction: column; flex-basis: 100%; flex: 1; padding: 10px; }\n",
              "    </style>\n",
              "<div class=\"wandb-row\"><div class=\"wandb-col\">\n",
              "<h3>Run history:</h3><br/><table class=\"wandb\"><tr><td>epoch</td><td>▁▁▁▂▂▂▂▂▂▃▃▃▃▃▃▄▄▄▄▄▅▅▅▅▅▅▆▆▆▆▆▆▇▇▇▇▇███</td></tr><tr><td>train/loss</td><td>█▄▃▂▂▂▂▂▁▁▁▁▁▁▁▁▁▁▁▁▁▁▁▁▁▁▁▁▁▁▁▁▁▁▁▁▁▁▁▁</td></tr><tr><td>train_step</td><td>▁▁▁▂▂▂▂▂▂▃▃▃▃▃▄▄▄▄▄▄▅▅▅▅▅▅▆▆▆▆▆▇▇▇▇▇▇███</td></tr><tr><td>valid/accuracy</td><td>▅▇███▇▇▇▆▆▅▄▃▂▁▁▁▁▁▁▂▁▁▁▁▁▁▁▁▁▁▁▁▁▁▁▁▁▁▁</td></tr><tr><td>valid/loss</td><td>█▄▂▂▁▁▁▁▁▁▁▁▁▁▁▁▁▁▁▁▁▁▁▁▁▁▁▂▂▂▂▂▂▂▂▂▂▂▂▂</td></tr></table><br/></div><div class=\"wandb-col\">\n",
              "<h3>Run summary:</h3><br/><table class=\"wandb\"><tr><td>epoch</td><td>249</td></tr><tr><td>train_step</td><td>3999</td></tr></table>\n",
              "</div></div>\n",
              "Synced 6 W&B file(s), 1 media file(s), 0 artifact file(s) and 0 other file(s)\n",
              "<br/>Synced <strong style=\"color:#cdcd00\">devout-leaf-48</strong>: <a href=\"https://wandb.ai/nlpetroni/assignment-one/runs/66s7zwew\" target=\"_blank\">https://wandb.ai/nlpetroni/assignment-one/runs/66s7zwew</a><br/>\n",
              "Find logs at: <code>./wandb/run-20211118_011600-66s7zwew/logs</code><br/>\n"
            ],
            "text/plain": [
              "<IPython.core.display.HTML object>"
            ]
          },
          "metadata": {},
          "output_type": "display_data"
        },
        {
          "name": "stderr",
          "output_type": "stream",
          "text": [
            "\u001b[34m\u001b[1mwandb\u001b[0m: \u001b[33mWARNING\u001b[0m If you're specifying your api key in code, ensure this code is not shared publically.\n",
            "\u001b[34m\u001b[1mwandb\u001b[0m: \u001b[33mWARNING\u001b[0m Consider setting the WANDB_API_KEY environment variable, or running `wandb login` from the command line.\n",
            "\u001b[34m\u001b[1mwandb\u001b[0m: Appending key for api.wandb.ai to your netrc file: /home/diego/.netrc\n"
          ]
        },
        {
          "name": "stdout",
          "output_type": "stream",
          "text": [
            "CONFIG PARAMETERS:\n",
            "{'alpha': 0.99,\n",
            " 'batch_size': 128,\n",
            " 'betas': (0.9, 0.999),\n",
            " 'epochs': 250,\n",
            " 'hid_size': 20,\n",
            " 'lr': 0.001,\n",
            " 'model': 'lstm',\n",
            " 'momentum': 0.5,\n",
            " 'optim': 'rmsprop',\n",
            " 'rec_size': 1,\n",
            " 'units': 32,\n",
            " 'weight_decay': 0}\n"
          ]
        },
        {
          "data": {
            "text/html": [
              "\n",
              "                    Syncing run <strong><a href=\"https://wandb.ai/nlpetroni/assignment-one/runs/68uv59yy\" target=\"_blank\">cerulean-oath-49</a></strong> to <a href=\"https://wandb.ai/nlpetroni/assignment-one\" target=\"_blank\">Weights & Biases</a> (<a href=\"https://docs.wandb.com/integrations/jupyter.html\" target=\"_blank\">docs</a>).<br/>\n",
              "\n",
              "                "
            ],
            "text/plain": [
              "<IPython.core.display.HTML object>"
            ]
          },
          "metadata": {},
          "output_type": "display_data"
        },
        {
          "name": "stdout",
          "output_type": "stream",
          "text": [
            "dependency_treebank already downloaded\n",
            "dependency_treebank already downloaded\n"
          ]
        },
        {
          "name": "stderr",
          "output_type": "stream",
          "text": [
            "\u001b[34m\u001b[1mwandb\u001b[0m: logging graph, to disable use `wandb.watch(log_graph=False)`\n"
          ]
        },
        {
          "name": "stdout",
          "output_type": "stream",
          "text": [
            "=================================================================\n",
            "Layer (type:depth-idx)                   Param #\n",
            "=================================================================\n",
            "POSTagger                                --\n",
            "├─Embedding: 1-1                         (40,000,200)\n",
            "├─LSTM: 1-2                              19,520\n",
            "├─Sequential: 1-3                        --\n",
            "│    └─Linear: 2-1                       1,312\n",
            "│    └─Linear: 2-2                       1,221\n",
            "├─LogSoftmax: 1-4                        --\n",
            "=================================================================\n",
            "Total params: 40,022,253\n",
            "Trainable params: 22,053\n",
            "Non-trainable params: 40,000,200\n",
            "=================================================================\n",
            "STARTING TRAINING\n"
          ]
        },
        {
          "data": {
            "text/html": [
              "<br/>Waiting for W&B process to finish, PID 15157... <strong style=\"color:green\">(success).</strong>"
            ],
            "text/plain": [
              "<IPython.core.display.HTML object>"
            ]
          },
          "metadata": {},
          "output_type": "display_data"
        },
        {
          "data": {
            "text/html": [
              "<style>\n",
              "    table.wandb td:nth-child(1) { padding: 0 10px; text-align: right }\n",
              "    .wandb-row { display: flex; flex-direction: row; flex-wrap: wrap; width: 100% }\n",
              "    .wandb-col { display: flex; flex-direction: column; flex-basis: 100%; flex: 1; padding: 10px; }\n",
              "    </style>\n",
              "<div class=\"wandb-row\"><div class=\"wandb-col\">\n",
              "<h3>Run history:</h3><br/><table class=\"wandb\"><tr><td>epoch</td><td>▁▁▁▂▂▂▂▂▂▃▃▃▃▃▃▄▄▄▄▄▅▅▅▅▅▅▆▆▆▆▆▆▇▇▇▇▇███</td></tr><tr><td>train/loss</td><td>█▄▃▂▂▂▂▁▁▁▁▁▁▁▁▁▁▁▁▁▁▁▁▁▁▁▁▁▁▁▁▁▁▁▁▁▁▁▁▁</td></tr><tr><td>train_step</td><td>▁▁▁▂▂▂▂▂▂▃▃▃▃▃▄▄▄▄▄▄▅▅▅▅▅▅▆▆▆▆▆▇▇▇▇▇▇███</td></tr><tr><td>valid/accuracy</td><td>▇█▅▄▃▂▂▁▁▁▁▁▁▁▁▁▁▁▁▂▂▁▂▂▂▂▂▂▂▂▂▂▂▂▂▂▂▂▂▂</td></tr><tr><td>valid/loss</td><td>█▃▂▂▁▁▁▁▁▁▁▁▁▁▁▁▁▁▁▁▁▁▂▂▂▂▂▂▂▂▂▂▂▂▂▂▂▂▂▂</td></tr></table><br/></div><div class=\"wandb-col\">\n",
              "<h3>Run summary:</h3><br/><table class=\"wandb\"><tr><td>epoch</td><td>249</td></tr><tr><td>train_step</td><td>3999</td></tr></table>\n",
              "</div></div>\n",
              "Synced 6 W&B file(s), 1 media file(s), 0 artifact file(s) and 0 other file(s)\n",
              "<br/>Synced <strong style=\"color:#cdcd00\">cerulean-oath-49</strong>: <a href=\"https://wandb.ai/nlpetroni/assignment-one/runs/68uv59yy\" target=\"_blank\">https://wandb.ai/nlpetroni/assignment-one/runs/68uv59yy</a><br/>\n",
              "Find logs at: <code>./wandb/run-20211118_011730-68uv59yy/logs</code><br/>\n"
            ],
            "text/plain": [
              "<IPython.core.display.HTML object>"
            ]
          },
          "metadata": {},
          "output_type": "display_data"
        },
        {
          "name": "stderr",
          "output_type": "stream",
          "text": [
            "\u001b[34m\u001b[1mwandb\u001b[0m: \u001b[33mWARNING\u001b[0m If you're specifying your api key in code, ensure this code is not shared publically.\n",
            "\u001b[34m\u001b[1mwandb\u001b[0m: \u001b[33mWARNING\u001b[0m Consider setting the WANDB_API_KEY environment variable, or running `wandb login` from the command line.\n",
            "\u001b[34m\u001b[1mwandb\u001b[0m: Appending key for api.wandb.ai to your netrc file: /home/diego/.netrc\n"
          ]
        },
        {
          "name": "stdout",
          "output_type": "stream",
          "text": [
            "CONFIG PARAMETERS:\n",
            "{'alpha': 0.99,\n",
            " 'batch_size': 128,\n",
            " 'betas': (0.9, 0.999),\n",
            " 'epochs': 250,\n",
            " 'hid_size': 20,\n",
            " 'lr': 0.001,\n",
            " 'model': 'lstm',\n",
            " 'momentum': 0.5,\n",
            " 'optim': 'adam',\n",
            " 'rec_size': 1,\n",
            " 'units': None,\n",
            " 'weight_decay': 0}\n"
          ]
        },
        {
          "data": {
            "text/html": [
              "\n",
              "                    Syncing run <strong><a href=\"https://wandb.ai/nlpetroni/assignment-one/runs/2wu4ni0y\" target=\"_blank\">earnest-elevator-50</a></strong> to <a href=\"https://wandb.ai/nlpetroni/assignment-one\" target=\"_blank\">Weights & Biases</a> (<a href=\"https://docs.wandb.com/integrations/jupyter.html\" target=\"_blank\">docs</a>).<br/>\n",
              "\n",
              "                "
            ],
            "text/plain": [
              "<IPython.core.display.HTML object>"
            ]
          },
          "metadata": {},
          "output_type": "display_data"
        },
        {
          "name": "stdout",
          "output_type": "stream",
          "text": [
            "dependency_treebank already downloaded\n",
            "dependency_treebank already downloaded\n"
          ]
        },
        {
          "name": "stderr",
          "output_type": "stream",
          "text": [
            "\u001b[34m\u001b[1mwandb\u001b[0m: logging graph, to disable use `wandb.watch(log_graph=False)`\n"
          ]
        },
        {
          "name": "stdout",
          "output_type": "stream",
          "text": [
            "=================================================================\n",
            "Layer (type:depth-idx)                   Param #\n",
            "=================================================================\n",
            "POSTagger                                --\n",
            "├─Embedding: 1-1                         (40,000,200)\n",
            "├─LSTM: 1-2                              19,520\n",
            "├─Sequential: 1-3                        --\n",
            "│    └─Linear: 2-1                       1,517\n",
            "├─LogSoftmax: 1-4                        --\n",
            "=================================================================\n",
            "Total params: 40,021,237\n",
            "Trainable params: 21,037\n",
            "Non-trainable params: 40,000,200\n",
            "=================================================================\n",
            "STARTING TRAINING\n"
          ]
        },
        {
          "data": {
            "text/html": [
              "<br/>Waiting for W&B process to finish, PID 15207... <strong style=\"color:green\">(success).</strong>"
            ],
            "text/plain": [
              "<IPython.core.display.HTML object>"
            ]
          },
          "metadata": {},
          "output_type": "display_data"
        },
        {
          "data": {
            "text/html": [
              "<style>\n",
              "    table.wandb td:nth-child(1) { padding: 0 10px; text-align: right }\n",
              "    .wandb-row { display: flex; flex-direction: row; flex-wrap: wrap; width: 100% }\n",
              "    .wandb-col { display: flex; flex-direction: column; flex-basis: 100%; flex: 1; padding: 10px; }\n",
              "    </style>\n",
              "<div class=\"wandb-row\"><div class=\"wandb-col\">\n",
              "<h3>Run history:</h3><br/><table class=\"wandb\"><tr><td>epoch</td><td>▁▁▁▂▂▂▂▂▂▃▃▃▃▃▃▄▄▄▄▄▅▅▅▅▅▅▆▆▆▆▆▆▇▇▇▇▇███</td></tr><tr><td>train/loss</td><td>█▅▄▃▃▂▂▂▂▂▂▂▁▁▁▁▁▁▁▁▁▁▁▁▁▁▁▁▁▁▁▁▁▁▁▁▁▁▁▁</td></tr><tr><td>train_step</td><td>▁▁▁▂▂▂▂▂▂▃▃▃▃▃▄▄▄▄▄▄▅▅▅▅▅▅▆▆▆▆▆▇▇▇▇▇▇███</td></tr><tr><td>valid/accuracy</td><td>▁▃▅▆▇███████████████▇▇▇▇▇▇▇▇▇▇▇▇▇▇▇▇▇▇▇▇</td></tr><tr><td>valid/loss</td><td>█▆▅▄▃▃▂▂▂▂▁▁▁▁▁▁▁▁▁▁▁▁▁▁▁▁▁▁▁▁▁▁▁▁▁▁▁▁▁▁</td></tr></table><br/></div><div class=\"wandb-col\">\n",
              "<h3>Run summary:</h3><br/><table class=\"wandb\"><tr><td>epoch</td><td>249</td></tr><tr><td>train_step</td><td>3999</td></tr></table>\n",
              "</div></div>\n",
              "Synced 6 W&B file(s), 1 media file(s), 0 artifact file(s) and 0 other file(s)\n",
              "<br/>Synced <strong style=\"color:#cdcd00\">earnest-elevator-50</strong>: <a href=\"https://wandb.ai/nlpetroni/assignment-one/runs/2wu4ni0y\" target=\"_blank\">https://wandb.ai/nlpetroni/assignment-one/runs/2wu4ni0y</a><br/>\n",
              "Find logs at: <code>./wandb/run-20211118_011900-2wu4ni0y/logs</code><br/>\n"
            ],
            "text/plain": [
              "<IPython.core.display.HTML object>"
            ]
          },
          "metadata": {},
          "output_type": "display_data"
        },
        {
          "name": "stderr",
          "output_type": "stream",
          "text": [
            "\u001b[34m\u001b[1mwandb\u001b[0m: \u001b[33mWARNING\u001b[0m If you're specifying your api key in code, ensure this code is not shared publically.\n",
            "\u001b[34m\u001b[1mwandb\u001b[0m: \u001b[33mWARNING\u001b[0m Consider setting the WANDB_API_KEY environment variable, or running `wandb login` from the command line.\n",
            "\u001b[34m\u001b[1mwandb\u001b[0m: Appending key for api.wandb.ai to your netrc file: /home/diego/.netrc\n"
          ]
        },
        {
          "name": "stdout",
          "output_type": "stream",
          "text": [
            "CONFIG PARAMETERS:\n",
            "{'alpha': 0.99,\n",
            " 'batch_size': 128,\n",
            " 'betas': (0.9, 0.999),\n",
            " 'epochs': 250,\n",
            " 'hid_size': 20,\n",
            " 'lr': 0.001,\n",
            " 'model': 'lstm',\n",
            " 'momentum': 0.5,\n",
            " 'optim': 'adam',\n",
            " 'rec_size': 2,\n",
            " 'units': None,\n",
            " 'weight_decay': 0}\n"
          ]
        },
        {
          "data": {
            "text/html": [
              "\n",
              "                    Syncing run <strong><a href=\"https://wandb.ai/nlpetroni/assignment-one/runs/2a7ja2ky\" target=\"_blank\">fanciful-yogurt-51</a></strong> to <a href=\"https://wandb.ai/nlpetroni/assignment-one\" target=\"_blank\">Weights & Biases</a> (<a href=\"https://docs.wandb.com/integrations/jupyter.html\" target=\"_blank\">docs</a>).<br/>\n",
              "\n",
              "                "
            ],
            "text/plain": [
              "<IPython.core.display.HTML object>"
            ]
          },
          "metadata": {},
          "output_type": "display_data"
        },
        {
          "name": "stderr",
          "output_type": "stream",
          "text": [
            "\u001b[34m\u001b[1mwandb\u001b[0m: logging graph, to disable use `wandb.watch(log_graph=False)`\n"
          ]
        },
        {
          "name": "stdout",
          "output_type": "stream",
          "text": [
            "dependency_treebank already downloaded\n",
            "dependency_treebank already downloaded\n",
            "=================================================================\n",
            "Layer (type:depth-idx)                   Param #\n",
            "=================================================================\n",
            "POSTagger                                --\n",
            "├─Embedding: 1-1                         (40,000,200)\n",
            "├─LSTM: 1-2                              29,440\n",
            "├─Sequential: 1-3                        --\n",
            "│    └─Linear: 2-1                       1,517\n",
            "├─LogSoftmax: 1-4                        --\n",
            "=================================================================\n",
            "Total params: 40,031,157\n",
            "Trainable params: 30,957\n",
            "Non-trainable params: 40,000,200\n",
            "=================================================================\n",
            "STARTING TRAINING\n"
          ]
        },
        {
          "data": {
            "text/html": [
              "<br/>Waiting for W&B process to finish, PID 15259... <strong style=\"color:green\">(success).</strong>"
            ],
            "text/plain": [
              "<IPython.core.display.HTML object>"
            ]
          },
          "metadata": {},
          "output_type": "display_data"
        },
        {
          "data": {
            "text/html": [
              "<style>\n",
              "    table.wandb td:nth-child(1) { padding: 0 10px; text-align: right }\n",
              "    .wandb-row { display: flex; flex-direction: row; flex-wrap: wrap; width: 100% }\n",
              "    .wandb-col { display: flex; flex-direction: column; flex-basis: 100%; flex: 1; padding: 10px; }\n",
              "    </style>\n",
              "<div class=\"wandb-row\"><div class=\"wandb-col\">\n",
              "<h3>Run history:</h3><br/><table class=\"wandb\"><tr><td>epoch</td><td>▁▁▁▂▂▂▂▂▂▃▃▃▃▃▃▄▄▄▄▄▅▅▅▅▅▅▆▆▆▆▆▆▇▇▇▇▇███</td></tr><tr><td>train/loss</td><td>█▅▅▄▃▃▂▂▂▂▂▂▁▁▁▁▁▁▁▁▁▁▁▁▁▁▁▁▁▁▁▁▁▁▁▁▁▁▁▁</td></tr><tr><td>train_step</td><td>▁▁▁▂▂▂▂▂▂▃▃▃▃▃▄▄▄▄▄▄▅▅▅▅▅▅▆▆▆▆▆▇▇▇▇▇▇███</td></tr><tr><td>valid/accuracy</td><td>▁▃▃▅▆▇███████████▇▇▇▇▇▇▇▇▇▇▇▇▇▇▇▇▇▇▇▇▇▇▇</td></tr><tr><td>valid/loss</td><td>█▆▅▅▄▃▂▂▂▂▂▁▁▁▁▁▁▁▁▁▁▁▁▁▁▁▁▁▁▁▁▁▁▁▁▁▁▁▁▁</td></tr></table><br/></div><div class=\"wandb-col\">\n",
              "<h3>Run summary:</h3><br/><table class=\"wandb\"><tr><td>epoch</td><td>249</td></tr><tr><td>train_step</td><td>3999</td></tr></table>\n",
              "</div></div>\n",
              "Synced 6 W&B file(s), 1 media file(s), 0 artifact file(s) and 0 other file(s)\n",
              "<br/>Synced <strong style=\"color:#cdcd00\">fanciful-yogurt-51</strong>: <a href=\"https://wandb.ai/nlpetroni/assignment-one/runs/2a7ja2ky\" target=\"_blank\">https://wandb.ai/nlpetroni/assignment-one/runs/2a7ja2ky</a><br/>\n",
              "Find logs at: <code>./wandb/run-20211118_012030-2a7ja2ky/logs</code><br/>\n"
            ],
            "text/plain": [
              "<IPython.core.display.HTML object>"
            ]
          },
          "metadata": {},
          "output_type": "display_data"
        },
        {
          "name": "stderr",
          "output_type": "stream",
          "text": [
            "\u001b[34m\u001b[1mwandb\u001b[0m: \u001b[33mWARNING\u001b[0m If you're specifying your api key in code, ensure this code is not shared publically.\n",
            "\u001b[34m\u001b[1mwandb\u001b[0m: \u001b[33mWARNING\u001b[0m Consider setting the WANDB_API_KEY environment variable, or running `wandb login` from the command line.\n",
            "\u001b[34m\u001b[1mwandb\u001b[0m: Appending key for api.wandb.ai to your netrc file: /home/diego/.netrc\n"
          ]
        },
        {
          "name": "stdout",
          "output_type": "stream",
          "text": [
            "CONFIG PARAMETERS:\n",
            "{'alpha': 0.99,\n",
            " 'batch_size': 128,\n",
            " 'betas': (0.9, 0.999),\n",
            " 'epochs': 250,\n",
            " 'hid_size': 20,\n",
            " 'lr': 0.001,\n",
            " 'model': 'lstm',\n",
            " 'momentum': 0.5,\n",
            " 'optim': 'adam',\n",
            " 'rec_size': 1,\n",
            " 'units': 16,\n",
            " 'weight_decay': 0}\n"
          ]
        },
        {
          "data": {
            "text/html": [
              "\n",
              "                    Syncing run <strong><a href=\"https://wandb.ai/nlpetroni/assignment-one/runs/2rdkxa8l\" target=\"_blank\">clear-sun-52</a></strong> to <a href=\"https://wandb.ai/nlpetroni/assignment-one\" target=\"_blank\">Weights & Biases</a> (<a href=\"https://docs.wandb.com/integrations/jupyter.html\" target=\"_blank\">docs</a>).<br/>\n",
              "\n",
              "                "
            ],
            "text/plain": [
              "<IPython.core.display.HTML object>"
            ]
          },
          "metadata": {},
          "output_type": "display_data"
        },
        {
          "name": "stdout",
          "output_type": "stream",
          "text": [
            "dependency_treebank already downloaded\n",
            "dependency_treebank already downloaded\n"
          ]
        },
        {
          "name": "stderr",
          "output_type": "stream",
          "text": [
            "\u001b[34m\u001b[1mwandb\u001b[0m: logging graph, to disable use `wandb.watch(log_graph=False)`\n"
          ]
        },
        {
          "name": "stdout",
          "output_type": "stream",
          "text": [
            "=================================================================\n",
            "Layer (type:depth-idx)                   Param #\n",
            "=================================================================\n",
            "POSTagger                                --\n",
            "├─Embedding: 1-1                         (40,000,200)\n",
            "├─LSTM: 1-2                              19,520\n",
            "├─Sequential: 1-3                        --\n",
            "│    └─Linear: 2-1                       656\n",
            "│    └─Linear: 2-2                       629\n",
            "├─LogSoftmax: 1-4                        --\n",
            "=================================================================\n",
            "Total params: 40,021,005\n",
            "Trainable params: 20,805\n",
            "Non-trainable params: 40,000,200\n",
            "=================================================================\n",
            "STARTING TRAINING\n"
          ]
        },
        {
          "data": {
            "text/html": [
              "<br/>Waiting for W&B process to finish, PID 15337... <strong style=\"color:green\">(success).</strong>"
            ],
            "text/plain": [
              "<IPython.core.display.HTML object>"
            ]
          },
          "metadata": {},
          "output_type": "display_data"
        },
        {
          "data": {
            "text/html": [
              "<style>\n",
              "    table.wandb td:nth-child(1) { padding: 0 10px; text-align: right }\n",
              "    .wandb-row { display: flex; flex-direction: row; flex-wrap: wrap; width: 100% }\n",
              "    .wandb-col { display: flex; flex-direction: column; flex-basis: 100%; flex: 1; padding: 10px; }\n",
              "    </style>\n",
              "<div class=\"wandb-row\"><div class=\"wandb-col\">\n",
              "<h3>Run history:</h3><br/><table class=\"wandb\"><tr><td>epoch</td><td>▁▁▁▂▂▂▂▂▂▃▃▃▃▃▃▄▄▄▄▄▅▅▅▅▅▅▆▆▆▆▆▆▇▇▇▇▇███</td></tr><tr><td>train/loss</td><td>█▅▄▃▂▂▂▂▂▂▁▁▁▁▁▁▁▁▁▁▁▁▁▁▁▁▁▁▁▁▁▁▁▁▁▁▁▁▁▁</td></tr><tr><td>train_step</td><td>▁▁▁▂▂▂▂▂▂▃▃▃▃▃▄▄▄▄▄▄▅▅▅▅▅▅▆▆▆▆▆▇▇▇▇▇▇███</td></tr><tr><td>valid/accuracy</td><td>▁▃▇██████████▇▇▇▇▇▇▇▆▆▆▆▆▆▆▆▆▆▆▅▅▅▅▅▅▅▅▅</td></tr><tr><td>valid/loss</td><td>█▅▄▃▂▂▂▂▁▁▁▁▁▁▁▁▁▁▁▁▁▁▁▁▁▁▁▁▁▁▁▁▁▁▁▁▁▁▁▁</td></tr></table><br/></div><div class=\"wandb-col\">\n",
              "<h3>Run summary:</h3><br/><table class=\"wandb\"><tr><td>epoch</td><td>249</td></tr><tr><td>train_step</td><td>3999</td></tr></table>\n",
              "</div></div>\n",
              "Synced 6 W&B file(s), 1 media file(s), 0 artifact file(s) and 0 other file(s)\n",
              "<br/>Synced <strong style=\"color:#cdcd00\">clear-sun-52</strong>: <a href=\"https://wandb.ai/nlpetroni/assignment-one/runs/2rdkxa8l\" target=\"_blank\">https://wandb.ai/nlpetroni/assignment-one/runs/2rdkxa8l</a><br/>\n",
              "Find logs at: <code>./wandb/run-20211118_012303-2rdkxa8l/logs</code><br/>\n"
            ],
            "text/plain": [
              "<IPython.core.display.HTML object>"
            ]
          },
          "metadata": {},
          "output_type": "display_data"
        },
        {
          "name": "stderr",
          "output_type": "stream",
          "text": [
            "\u001b[34m\u001b[1mwandb\u001b[0m: \u001b[33mWARNING\u001b[0m If you're specifying your api key in code, ensure this code is not shared publically.\n",
            "\u001b[34m\u001b[1mwandb\u001b[0m: \u001b[33mWARNING\u001b[0m Consider setting the WANDB_API_KEY environment variable, or running `wandb login` from the command line.\n",
            "\u001b[34m\u001b[1mwandb\u001b[0m: Appending key for api.wandb.ai to your netrc file: /home/diego/.netrc\n"
          ]
        },
        {
          "name": "stdout",
          "output_type": "stream",
          "text": [
            "CONFIG PARAMETERS:\n",
            "{'alpha': 0.99,\n",
            " 'batch_size': 128,\n",
            " 'betas': (0.9, 0.999),\n",
            " 'epochs': 250,\n",
            " 'hid_size': 20,\n",
            " 'lr': 0.001,\n",
            " 'model': 'lstm',\n",
            " 'momentum': 0.5,\n",
            " 'optim': 'adam',\n",
            " 'rec_size': 1,\n",
            " 'units': 32,\n",
            " 'weight_decay': 0}\n"
          ]
        },
        {
          "data": {
            "text/html": [
              "\n",
              "                    Syncing run <strong><a href=\"https://wandb.ai/nlpetroni/assignment-one/runs/2arivjjt\" target=\"_blank\">hopeful-sun-53</a></strong> to <a href=\"https://wandb.ai/nlpetroni/assignment-one\" target=\"_blank\">Weights & Biases</a> (<a href=\"https://docs.wandb.com/integrations/jupyter.html\" target=\"_blank\">docs</a>).<br/>\n",
              "\n",
              "                "
            ],
            "text/plain": [
              "<IPython.core.display.HTML object>"
            ]
          },
          "metadata": {},
          "output_type": "display_data"
        },
        {
          "name": "stderr",
          "output_type": "stream",
          "text": [
            "\u001b[34m\u001b[1mwandb\u001b[0m: logging graph, to disable use `wandb.watch(log_graph=False)`\n"
          ]
        },
        {
          "name": "stdout",
          "output_type": "stream",
          "text": [
            "dependency_treebank already downloaded\n",
            "dependency_treebank already downloaded\n",
            "=================================================================\n",
            "Layer (type:depth-idx)                   Param #\n",
            "=================================================================\n",
            "POSTagger                                --\n",
            "├─Embedding: 1-1                         (40,000,200)\n",
            "├─LSTM: 1-2                              19,520\n",
            "├─Sequential: 1-3                        --\n",
            "│    └─Linear: 2-1                       1,312\n",
            "│    └─Linear: 2-2                       1,221\n",
            "├─LogSoftmax: 1-4                        --\n",
            "=================================================================\n",
            "Total params: 40,022,253\n",
            "Trainable params: 22,053\n",
            "Non-trainable params: 40,000,200\n",
            "=================================================================\n",
            "STARTING TRAINING\n"
          ]
        },
        {
          "data": {
            "text/html": [
              "<br/>Waiting for W&B process to finish, PID 15388... <strong style=\"color:green\">(success).</strong>"
            ],
            "text/plain": [
              "<IPython.core.display.HTML object>"
            ]
          },
          "metadata": {},
          "output_type": "display_data"
        },
        {
          "data": {
            "text/html": [
              "<style>\n",
              "    table.wandb td:nth-child(1) { padding: 0 10px; text-align: right }\n",
              "    .wandb-row { display: flex; flex-direction: row; flex-wrap: wrap; width: 100% }\n",
              "    .wandb-col { display: flex; flex-direction: column; flex-basis: 100%; flex: 1; padding: 10px; }\n",
              "    </style>\n",
              "<div class=\"wandb-row\"><div class=\"wandb-col\">\n",
              "<h3>Run history:</h3><br/><table class=\"wandb\"><tr><td>epoch</td><td>▁▁▁▂▂▂▂▂▂▃▃▃▃▃▃▄▄▄▄▄▅▅▅▅▅▅▆▆▆▆▆▆▇▇▇▇▇███</td></tr><tr><td>train/loss</td><td>█▅▄▃▂▂▂▂▂▂▁▁▁▁▁▁▁▁▁▁▁▁▁▁▁▁▁▁▁▁▁▁▁▁▁▁▁▁▁▁</td></tr><tr><td>train_step</td><td>▁▁▁▂▂▂▂▂▂▃▃▃▃▃▄▄▄▄▄▄▅▅▅▅▅▅▆▆▆▆▆▇▇▇▇▇▇███</td></tr><tr><td>valid/accuracy</td><td>▅██▁▁▁▂▂▂▃▃▄▅▅▆▆▆▆▆▆▆▇▇▇▇▇▇▇▇▇▇▇▇▇▇▇▇▇▆▆</td></tr><tr><td>valid/loss</td><td>█▆▄▃▂▂▂▂▁▁▁▁▁▁▁▁▁▁▁▁▁▁▁▁▁▁▁▁▁▁▁▁▁▁▁▁▁▁▁▁</td></tr></table><br/></div><div class=\"wandb-col\">\n",
              "<h3>Run summary:</h3><br/><table class=\"wandb\"><tr><td>epoch</td><td>249</td></tr><tr><td>train_step</td><td>3999</td></tr></table>\n",
              "</div></div>\n",
              "Synced 6 W&B file(s), 1 media file(s), 0 artifact file(s) and 0 other file(s)\n",
              "<br/>Synced <strong style=\"color:#cdcd00\">hopeful-sun-53</strong>: <a href=\"https://wandb.ai/nlpetroni/assignment-one/runs/2arivjjt\" target=\"_blank\">https://wandb.ai/nlpetroni/assignment-one/runs/2arivjjt</a><br/>\n",
              "Find logs at: <code>./wandb/run-20211118_012432-2arivjjt/logs</code><br/>\n"
            ],
            "text/plain": [
              "<IPython.core.display.HTML object>"
            ]
          },
          "metadata": {},
          "output_type": "display_data"
        }
      ],
      "source": [
        "for lr in (0.01, 0.001):\n",
        "    cfg.LR = lr\n",
        "    for batch_size in (64, 128):\n",
        "        cfg.BATCH_SIZE = batch_size\n",
        "        for optim in ('rmsprop', 'adam'):\n",
        "            cfg.OPTIM = optim\n",
        "            for (rec_size, units) in ( (1, None), (2, None), (1, 16), (1, 32)):\n",
        "                cfg.REC_SIZE = rec_size\n",
        "                cfg.UNITS = units\n",
        "                train()"
      ]
    },
    {
      "cell_type": "code",
      "execution_count": null,
      "metadata": {},
      "outputs": [],
      "source": []
    }
  ],
  "metadata": {
    "colab": {
      "collapsed_sections": [],
      "name": "Assignment_1.ipynb",
      "provenance": []
    },
    "kernelspec": {
      "display_name": "Python 3",
      "name": "python3"
    },
    "language_info": {
      "codemirror_mode": {
        "name": "ipython",
        "version": 3
      },
      "file_extension": ".py",
      "mimetype": "text/x-python",
      "name": "python",
      "nbconvert_exporter": "python",
      "pygments_lexer": "ipython3",
      "version": "3.9.7"
    }
  },
  "nbformat": 4,
  "nbformat_minor": 0
}
